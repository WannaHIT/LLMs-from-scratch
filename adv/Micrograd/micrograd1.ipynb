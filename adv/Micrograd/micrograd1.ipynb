{
 "cells": [
  {
   "cell_type": "code",
   "execution_count": 1,
   "id": "eb36bb42-dbc6-4877-854a-49b370f7cde3",
   "metadata": {},
   "outputs": [],
   "source": [
    "from graphviz import Digraph "
   ]
  },
  {
   "cell_type": "code",
   "execution_count": 2,
   "id": "1c0d98ee-6cc7-435d-a61d-9202565624cd",
   "metadata": {},
   "outputs": [],
   "source": [
    "import numpy as np \n",
    "import math"
   ]
  },
  {
   "cell_type": "code",
   "execution_count": 3,
   "id": "de86436b-b637-45e4-903d-f0cbe1184491",
   "metadata": {},
   "outputs": [],
   "source": [
    "# import torch"
   ]
  },
  {
   "cell_type": "code",
   "execution_count": 4,
   "id": "05ceb30b-cac9-49ca-94de-097b7a324285",
   "metadata": {},
   "outputs": [],
   "source": [
    "# torch.cuda.is_available()"
   ]
  },
  {
   "cell_type": "code",
   "execution_count": 5,
   "id": "21b958f3-d232-4ee4-95cc-e3883312324b",
   "metadata": {},
   "outputs": [],
   "source": [
    "def trace(root):\n",
    "    nodes, edges = set(), set()\n",
    "    def build(v):\n",
    "        if v not in nodes:\n",
    "            nodes.add(v)\n",
    "            for child in v._prev:\n",
    "                edges.add((child, v))\n",
    "                build(child)\n",
    "    build(root)\n",
    "    return nodes, edges\n",
    "\n",
    "def draw_dot(root, format='svg', rankdir='LR'):\n",
    "    \"\"\"\n",
    "    format: png | svg | ...\n",
    "    rankdir: TB (top to bottom graph) | LR (left to right)\n",
    "    \"\"\"\n",
    "    assert rankdir in ['LR', 'TB']\n",
    "    nodes, edges = trace(root)\n",
    "    dot = Digraph(format=format, graph_attr={'rankdir': rankdir}) #, node_attr={'rankdir': 'TB'})\n",
    "    \n",
    "    for n in nodes:\n",
    "        dot.node(name=str(id(n)), label = \"{ %s | data %.4f | grad %.4f }\" % (n.label, n.data, n.grad), shape='record')\n",
    "        if n._op:\n",
    "            dot.node(name=str(id(n)) + n._op, label=n._op)\n",
    "            dot.edge(str(id(n)) + n._op, str(id(n)))\n",
    "    \n",
    "    for n1, n2 in edges:\n",
    "        dot.edge(str(id(n1)), str(id(n2)) + n2._op)\n",
    "    \n",
    "    return dot"
   ]
  },
  {
   "cell_type": "code",
   "execution_count": 91,
   "id": "d99f9d47-b074-41ca-b634-f5c15df75ce6",
   "metadata": {},
   "outputs": [],
   "source": [
    "class Value:\n",
    "    def __init__(self, data, _children=(), _op='', label=''): \n",
    "        self.data = data \n",
    "        self.grad = 0.0 \n",
    "        self._backward = lambda: None \n",
    "        self._prev = set(_children)\n",
    "        self._op = _op \n",
    "        self.label = label\n",
    "\n",
    "    def __repr__(self): \n",
    "        return f\"Value(data={self.data})\"\n",
    "\n",
    "    def __add__(self, other): \n",
    "        # self, other 这两个子结点, 产生父结点 out\n",
    "        other = other if isinstance(other, Value) else Value(other, label='Cons')\n",
    "        out = Value(self.data + other.data, (self, other), '+')\n",
    "\n",
    "        def _backward(): \n",
    "            self.grad += 1.0 * out.grad\n",
    "            other.grad += 1.0 * out.grad\n",
    "\n",
    "        out._backward = _backward\n",
    "        return out \n",
    "\n",
    "    def __mul__(self, other): \n",
    "        other = other if isinstance(other, Value) else Value(other, label='Cons')\n",
    "        out = Value(self.data * other.data, (self, other), '*')\n",
    "\n",
    "        def _backward(): \n",
    "            self.grad += other.data * out.grad \n",
    "            other.grad += self.data * out.grad \n",
    "\n",
    "        out._backward = _backward\n",
    "        return out \n",
    "        \n",
    "    # 这里是如何检测到并且实施的呢\n",
    "    def __rmul__(self, other): \n",
    "        return self * other\n",
    "\n",
    "    def __radd__(self, other): \n",
    "        return self + other\n",
    "\n",
    "    def __pow__(self, other): \n",
    "        assert isinstance(other, (int, float)), \"only supporting int/float powers for now\"\n",
    "        out = Value(self.data**other, (self, ), f\"**{other}\")\n",
    "\n",
    "        def _backward(): \n",
    "            # 小小的差别竟然报错:  'int' object has no attribute 'data'\n",
    "            # self.grad += other.data * self.data**(other-1) * out.grad \n",
    "            self.grad += other * self.data**(other-1) * out.grad\n",
    "\n",
    "        out._backward = _backward\n",
    "        return out \n",
    "\n",
    "    def __truediv__(self, other): \n",
    "        return self * other**-1\n",
    "\n",
    "    def __neg__(self):  \n",
    "        return self * -1 \n",
    "\n",
    "    def __sub__(self, other):  \n",
    "        return self + (-other)\n",
    "        \n",
    "    def tanh(self): \n",
    "        x = self.data\n",
    "        t = (math.exp(2*x) - 1) / (math.exp(2*x) + 1)\n",
    "        out = Value(t, (self, ), 'tanh')\n",
    "\n",
    "        def _backward(): \n",
    "            self.grad += (1 - t**2) * out.grad \n",
    "        \n",
    "        out._backward = _backward\n",
    "        return out \n",
    "\n",
    "    def exp(self): \n",
    "        x = self.data\n",
    "        out = Value(math.exp(x), (self, ), 'exp')\n",
    "\n",
    "        def _backward(): \n",
    "            # self.grad += math.exp(x) * out.grad \n",
    "            self.grad += out.data * out.grad \n",
    "\n",
    "        out._backward = _backward\n",
    "        return out \n",
    "\n",
    "    def backward(self): \n",
    "        topo = [] \n",
    "        visited = set()\n",
    "\n",
    "        def build_topo(v): \n",
    "            if v not in visited: \n",
    "                visited.add(v) \n",
    "                for child in v._prev: \n",
    "                    build_topo(child)\n",
    "                topo.append(v)\n",
    "\n",
    "        build_topo(self)\n",
    "\n",
    "        self.grad = 1.0 \n",
    "\n",
    "        for node in reversed(topo): \n",
    "            node._backward()"
   ]
  },
  {
   "cell_type": "code",
   "execution_count": null,
   "id": "88dab976-3199-4dc4-995c-163b1e54c730",
   "metadata": {},
   "outputs": [],
   "source": []
  },
  {
   "cell_type": "code",
   "execution_count": null,
   "id": "420f2809-5e08-4d3b-ab25-e9567d27b07f",
   "metadata": {},
   "outputs": [],
   "source": []
  },
  {
   "cell_type": "code",
   "execution_count": null,
   "id": "21d42bf9-690c-41e6-bb0f-8d3e88183e03",
   "metadata": {},
   "outputs": [],
   "source": []
  },
  {
   "cell_type": "code",
   "execution_count": null,
   "id": "f5853170-ff03-47f7-9a5e-d8b16c5c8f50",
   "metadata": {},
   "outputs": [],
   "source": []
  },
  {
   "cell_type": "code",
   "execution_count": 76,
   "id": "59534d70-efd5-4280-bbf4-ed3f5e4a575e",
   "metadata": {},
   "outputs": [
    {
     "data": {
      "text/plain": [
       "Value(data=4.0)"
      ]
     },
     "execution_count": 76,
     "metadata": {},
     "output_type": "execute_result"
    }
   ],
   "source": [
    "a = Value(2.0, label='a')\n",
    "a ** 2"
   ]
  },
  {
   "cell_type": "code",
   "execution_count": 77,
   "id": "8daa3b27-f009-4396-8e63-b180c59ffb4e",
   "metadata": {},
   "outputs": [
    {
     "data": {
      "text/plain": [
       "Value(data=4.0)"
      ]
     },
     "execution_count": 77,
     "metadata": {},
     "output_type": "execute_result"
    }
   ],
   "source": [
    "a.__pow__(2)"
   ]
  },
  {
   "cell_type": "code",
   "execution_count": 93,
   "id": "41c5547a-7372-4f9f-8af1-22519880dc84",
   "metadata": {},
   "outputs": [],
   "source": [
    "# 2**a # 这个不能简单的__rpow__吧, 导数不是一回事"
   ]
  },
  {
   "cell_type": "code",
   "execution_count": null,
   "id": "e5766895-eef5-4620-8f57-1195aae91cb6",
   "metadata": {},
   "outputs": [],
   "source": []
  },
  {
   "cell_type": "code",
   "execution_count": null,
   "id": "28ee0778-7d59-4bbb-9a6d-6a2fd8aa5c5a",
   "metadata": {},
   "outputs": [],
   "source": []
  },
  {
   "cell_type": "markdown",
   "id": "932eea58-fc86-4ef6-8bf4-d1480eac2719",
   "metadata": {},
   "source": [
    "```\n",
    "---------------------------------------------------------------------------\n",
    "TypeError                                 Traceback (most recent call last)\n",
    "Cell In[50], line 1\n",
    "----> 1 2**a\n",
    "\n",
    "TypeError: unsupported operand type(s) for ** or pow(): 'int' and 'Value'\n",
    "``` "
   ]
  },
  {
   "cell_type": "code",
   "execution_count": 54,
   "id": "04ae5eb8-40ae-4a18-97c3-abbc2d298a49",
   "metadata": {},
   "outputs": [
    {
     "data": {
      "text/plain": [
       "Value(data=3.0)"
      ]
     },
     "execution_count": 54,
     "metadata": {},
     "output_type": "execute_result"
    }
   ],
   "source": [
    "b = 1 + a; b.label='b'\n",
    "b "
   ]
  },
  {
   "cell_type": "code",
   "execution_count": 55,
   "id": "5d37b3e7-6222-46d2-9044-3df06eb4e95d",
   "metadata": {},
   "outputs": [
    {
     "data": {
      "image/svg+xml": [
       "<?xml version=\"1.0\" encoding=\"UTF-8\" standalone=\"no\"?>\n",
       "<!DOCTYPE svg PUBLIC \"-//W3C//DTD SVG 1.1//EN\"\n",
       " \"http://www.w3.org/Graphics/SVG/1.1/DTD/svg11.dtd\">\n",
       "<!-- Generated by graphviz version 2.43.0 (0)\n",
       " -->\n",
       "<!-- Title: %3 Pages: 1 -->\n",
       "<svg width=\"597pt\" height=\"100pt\"\n",
       " viewBox=\"0.00 0.00 597.00 100.00\" xmlns=\"http://www.w3.org/2000/svg\" xmlns:xlink=\"http://www.w3.org/1999/xlink\">\n",
       "<g id=\"graph0\" class=\"graph\" transform=\"scale(1 1) rotate(0) translate(4 96)\">\n",
       "<title>%3</title>\n",
       "<polygon fill=\"white\" stroke=\"transparent\" points=\"-4,4 -4,-96 593,-96 593,4 -4,4\"/>\n",
       "<!-- 140083996386320 -->\n",
       "<g id=\"node1\" class=\"node\">\n",
       "<title>140083996386320</title>\n",
       "<polygon fill=\"none\" stroke=\"black\" points=\"357,-27.5 357,-63.5 589,-63.5 589,-27.5 357,-27.5\"/>\n",
       "<text text-anchor=\"middle\" x=\"370\" y=\"-41.8\" font-family=\"Times,serif\" font-size=\"14.00\">b</text>\n",
       "<polyline fill=\"none\" stroke=\"black\" points=\"383,-27.5 383,-63.5 \"/>\n",
       "<text text-anchor=\"middle\" x=\"434\" y=\"-41.8\" font-family=\"Times,serif\" font-size=\"14.00\">data 3.0000</text>\n",
       "<polyline fill=\"none\" stroke=\"black\" points=\"485,-27.5 485,-63.5 \"/>\n",
       "<text text-anchor=\"middle\" x=\"537\" y=\"-41.8\" font-family=\"Times,serif\" font-size=\"14.00\">grad 0.0000</text>\n",
       "</g>\n",
       "<!-- 140083996386320+ -->\n",
       "<g id=\"node2\" class=\"node\">\n",
       "<title>140083996386320+</title>\n",
       "<ellipse fill=\"none\" stroke=\"black\" cx=\"294\" cy=\"-45.5\" rx=\"27\" ry=\"18\"/>\n",
       "<text text-anchor=\"middle\" x=\"294\" y=\"-41.8\" font-family=\"Times,serif\" font-size=\"14.00\">+</text>\n",
       "</g>\n",
       "<!-- 140083996386320+&#45;&gt;140083996386320 -->\n",
       "<g id=\"edge1\" class=\"edge\">\n",
       "<title>140083996386320+&#45;&gt;140083996386320</title>\n",
       "<path fill=\"none\" stroke=\"black\" d=\"M321.12,-45.5C328.53,-45.5 337.14,-45.5 346.4,-45.5\"/>\n",
       "<polygon fill=\"black\" stroke=\"black\" points=\"346.69,-49 356.69,-45.5 346.69,-42 346.69,-49\"/>\n",
       "</g>\n",
       "<!-- 140083996380176 -->\n",
       "<g id=\"node3\" class=\"node\">\n",
       "<title>140083996380176</title>\n",
       "<polygon fill=\"none\" stroke=\"black\" points=\"2,-55.5 2,-91.5 229,-91.5 229,-55.5 2,-55.5\"/>\n",
       "<text text-anchor=\"middle\" x=\"12.5\" y=\"-69.8\" font-family=\"Times,serif\" font-size=\"14.00\"> </text>\n",
       "<polyline fill=\"none\" stroke=\"black\" points=\"23,-55.5 23,-91.5 \"/>\n",
       "<text text-anchor=\"middle\" x=\"74\" y=\"-69.8\" font-family=\"Times,serif\" font-size=\"14.00\">data 1.0000</text>\n",
       "<polyline fill=\"none\" stroke=\"black\" points=\"125,-55.5 125,-91.5 \"/>\n",
       "<text text-anchor=\"middle\" x=\"177\" y=\"-69.8\" font-family=\"Times,serif\" font-size=\"14.00\">grad 0.0000</text>\n",
       "</g>\n",
       "<!-- 140083996380176&#45;&gt;140083996386320+ -->\n",
       "<g id=\"edge2\" class=\"edge\">\n",
       "<title>140083996380176&#45;&gt;140083996386320+</title>\n",
       "<path fill=\"none\" stroke=\"black\" d=\"M229.03,-55.65C239.24,-54.03 248.99,-52.48 257.65,-51.11\"/>\n",
       "<polygon fill=\"black\" stroke=\"black\" points=\"258.32,-54.55 267.65,-49.52 257.22,-47.63 258.32,-54.55\"/>\n",
       "</g>\n",
       "<!-- 140083988542992 -->\n",
       "<g id=\"node4\" class=\"node\">\n",
       "<title>140083988542992</title>\n",
       "<polygon fill=\"none\" stroke=\"black\" points=\"0,-0.5 0,-36.5 231,-36.5 231,-0.5 0,-0.5\"/>\n",
       "<text text-anchor=\"middle\" x=\"12.5\" y=\"-14.8\" font-family=\"Times,serif\" font-size=\"14.00\">a</text>\n",
       "<polyline fill=\"none\" stroke=\"black\" points=\"25,-0.5 25,-36.5 \"/>\n",
       "<text text-anchor=\"middle\" x=\"76\" y=\"-14.8\" font-family=\"Times,serif\" font-size=\"14.00\">data 2.0000</text>\n",
       "<polyline fill=\"none\" stroke=\"black\" points=\"127,-0.5 127,-36.5 \"/>\n",
       "<text text-anchor=\"middle\" x=\"179\" y=\"-14.8\" font-family=\"Times,serif\" font-size=\"14.00\">grad 0.0000</text>\n",
       "</g>\n",
       "<!-- 140083988542992&#45;&gt;140083996386320+ -->\n",
       "<g id=\"edge3\" class=\"edge\">\n",
       "<title>140083988542992&#45;&gt;140083996386320+</title>\n",
       "<path fill=\"none\" stroke=\"black\" d=\"M231.27,-36.06C240.61,-37.49 249.51,-38.85 257.5,-40.07\"/>\n",
       "<polygon fill=\"black\" stroke=\"black\" points=\"257.03,-43.54 267.44,-41.59 258.09,-36.62 257.03,-43.54\"/>\n",
       "</g>\n",
       "</g>\n",
       "</svg>\n"
      ],
      "text/plain": [
       "<graphviz.graphs.Digraph at 0x7f67f0656410>"
      ]
     },
     "execution_count": 55,
     "metadata": {},
     "output_type": "execute_result"
    }
   ],
   "source": [
    "draw_dot(b)"
   ]
  },
  {
   "cell_type": "code",
   "execution_count": 56,
   "id": "1f719a08-4202-4f71-b9ff-3bbeca481349",
   "metadata": {},
   "outputs": [
    {
     "data": {
      "image/svg+xml": [
       "<?xml version=\"1.0\" encoding=\"UTF-8\" standalone=\"no\"?>\n",
       "<!DOCTYPE svg PUBLIC \"-//W3C//DTD SVG 1.1//EN\"\n",
       " \"http://www.w3.org/Graphics/SVG/1.1/DTD/svg11.dtd\">\n",
       "<!-- Generated by graphviz version 2.43.0 (0)\n",
       " -->\n",
       "<!-- Title: %3 Pages: 1 -->\n",
       "<svg width=\"597pt\" height=\"100pt\"\n",
       " viewBox=\"0.00 0.00 597.00 100.00\" xmlns=\"http://www.w3.org/2000/svg\" xmlns:xlink=\"http://www.w3.org/1999/xlink\">\n",
       "<g id=\"graph0\" class=\"graph\" transform=\"scale(1 1) rotate(0) translate(4 96)\">\n",
       "<title>%3</title>\n",
       "<polygon fill=\"white\" stroke=\"transparent\" points=\"-4,4 -4,-96 593,-96 593,4 -4,4\"/>\n",
       "<!-- 140083996386320 -->\n",
       "<g id=\"node1\" class=\"node\">\n",
       "<title>140083996386320</title>\n",
       "<polygon fill=\"none\" stroke=\"black\" points=\"357,-27.5 357,-63.5 589,-63.5 589,-27.5 357,-27.5\"/>\n",
       "<text text-anchor=\"middle\" x=\"370\" y=\"-41.8\" font-family=\"Times,serif\" font-size=\"14.00\">b</text>\n",
       "<polyline fill=\"none\" stroke=\"black\" points=\"383,-27.5 383,-63.5 \"/>\n",
       "<text text-anchor=\"middle\" x=\"434\" y=\"-41.8\" font-family=\"Times,serif\" font-size=\"14.00\">data 3.0000</text>\n",
       "<polyline fill=\"none\" stroke=\"black\" points=\"485,-27.5 485,-63.5 \"/>\n",
       "<text text-anchor=\"middle\" x=\"537\" y=\"-41.8\" font-family=\"Times,serif\" font-size=\"14.00\">grad 1.0000</text>\n",
       "</g>\n",
       "<!-- 140083996386320+ -->\n",
       "<g id=\"node2\" class=\"node\">\n",
       "<title>140083996386320+</title>\n",
       "<ellipse fill=\"none\" stroke=\"black\" cx=\"294\" cy=\"-45.5\" rx=\"27\" ry=\"18\"/>\n",
       "<text text-anchor=\"middle\" x=\"294\" y=\"-41.8\" font-family=\"Times,serif\" font-size=\"14.00\">+</text>\n",
       "</g>\n",
       "<!-- 140083996386320+&#45;&gt;140083996386320 -->\n",
       "<g id=\"edge1\" class=\"edge\">\n",
       "<title>140083996386320+&#45;&gt;140083996386320</title>\n",
       "<path fill=\"none\" stroke=\"black\" d=\"M321.12,-45.5C328.53,-45.5 337.14,-45.5 346.4,-45.5\"/>\n",
       "<polygon fill=\"black\" stroke=\"black\" points=\"346.69,-49 356.69,-45.5 346.69,-42 346.69,-49\"/>\n",
       "</g>\n",
       "<!-- 140083996380176 -->\n",
       "<g id=\"node3\" class=\"node\">\n",
       "<title>140083996380176</title>\n",
       "<polygon fill=\"none\" stroke=\"black\" points=\"2,-55.5 2,-91.5 229,-91.5 229,-55.5 2,-55.5\"/>\n",
       "<text text-anchor=\"middle\" x=\"12.5\" y=\"-69.8\" font-family=\"Times,serif\" font-size=\"14.00\"> </text>\n",
       "<polyline fill=\"none\" stroke=\"black\" points=\"23,-55.5 23,-91.5 \"/>\n",
       "<text text-anchor=\"middle\" x=\"74\" y=\"-69.8\" font-family=\"Times,serif\" font-size=\"14.00\">data 1.0000</text>\n",
       "<polyline fill=\"none\" stroke=\"black\" points=\"125,-55.5 125,-91.5 \"/>\n",
       "<text text-anchor=\"middle\" x=\"177\" y=\"-69.8\" font-family=\"Times,serif\" font-size=\"14.00\">grad 1.0000</text>\n",
       "</g>\n",
       "<!-- 140083996380176&#45;&gt;140083996386320+ -->\n",
       "<g id=\"edge2\" class=\"edge\">\n",
       "<title>140083996380176&#45;&gt;140083996386320+</title>\n",
       "<path fill=\"none\" stroke=\"black\" d=\"M229.03,-55.65C239.24,-54.03 248.99,-52.48 257.65,-51.11\"/>\n",
       "<polygon fill=\"black\" stroke=\"black\" points=\"258.32,-54.55 267.65,-49.52 257.22,-47.63 258.32,-54.55\"/>\n",
       "</g>\n",
       "<!-- 140083988542992 -->\n",
       "<g id=\"node4\" class=\"node\">\n",
       "<title>140083988542992</title>\n",
       "<polygon fill=\"none\" stroke=\"black\" points=\"0,-0.5 0,-36.5 231,-36.5 231,-0.5 0,-0.5\"/>\n",
       "<text text-anchor=\"middle\" x=\"12.5\" y=\"-14.8\" font-family=\"Times,serif\" font-size=\"14.00\">a</text>\n",
       "<polyline fill=\"none\" stroke=\"black\" points=\"25,-0.5 25,-36.5 \"/>\n",
       "<text text-anchor=\"middle\" x=\"76\" y=\"-14.8\" font-family=\"Times,serif\" font-size=\"14.00\">data 2.0000</text>\n",
       "<polyline fill=\"none\" stroke=\"black\" points=\"127,-0.5 127,-36.5 \"/>\n",
       "<text text-anchor=\"middle\" x=\"179\" y=\"-14.8\" font-family=\"Times,serif\" font-size=\"14.00\">grad 1.0000</text>\n",
       "</g>\n",
       "<!-- 140083988542992&#45;&gt;140083996386320+ -->\n",
       "<g id=\"edge3\" class=\"edge\">\n",
       "<title>140083988542992&#45;&gt;140083996386320+</title>\n",
       "<path fill=\"none\" stroke=\"black\" d=\"M231.27,-36.06C240.61,-37.49 249.51,-38.85 257.5,-40.07\"/>\n",
       "<polygon fill=\"black\" stroke=\"black\" points=\"257.03,-43.54 267.44,-41.59 258.09,-36.62 257.03,-43.54\"/>\n",
       "</g>\n",
       "</g>\n",
       "</svg>\n"
      ],
      "text/plain": [
       "<graphviz.graphs.Digraph at 0x7f67d8b7ba30>"
      ]
     },
     "execution_count": 56,
     "metadata": {},
     "output_type": "execute_result"
    }
   ],
   "source": [
    "b.backward()\n",
    "draw_dot(b)"
   ]
  },
  {
   "cell_type": "code",
   "execution_count": null,
   "id": "d21a8f14-f2ae-4ee8-904c-8ee2ed9c35b5",
   "metadata": {},
   "outputs": [],
   "source": []
  },
  {
   "cell_type": "code",
   "execution_count": null,
   "id": "5ac40917-0b00-47e5-bdcb-b0471f125b55",
   "metadata": {},
   "outputs": [],
   "source": []
  },
  {
   "cell_type": "code",
   "execution_count": null,
   "id": "72453604-049c-4efd-afbc-36458e11251c",
   "metadata": {},
   "outputs": [],
   "source": []
  },
  {
   "cell_type": "code",
   "execution_count": null,
   "id": "48a29e2c-a967-4c63-af64-177e28db4db7",
   "metadata": {},
   "outputs": [],
   "source": []
  },
  {
   "cell_type": "code",
   "execution_count": 43,
   "id": "506921d0-a9e4-4c55-b672-a91a2cd8b5c0",
   "metadata": {},
   "outputs": [
    {
     "data": {
      "text/plain": [
       "1.5"
      ]
     },
     "execution_count": 43,
     "metadata": {},
     "output_type": "execute_result"
    }
   ],
   "source": [
    "# 如何实现除法\n",
    "# a = 3; b = 2 \n",
    "# a / b \n",
    "# a * (1/b)\n",
    "# a * (b**-1) # 都用乘法表示"
   ]
  },
  {
   "cell_type": "code",
   "execution_count": 84,
   "id": "31b24838-b0de-40bc-8784-44901a47409d",
   "metadata": {},
   "outputs": [
    {
     "data": {
      "text/plain": [
       "Value(data=0.5)"
      ]
     },
     "execution_count": 84,
     "metadata": {},
     "output_type": "execute_result"
    }
   ],
   "source": [
    "a = Value(4.0, label='a')\n",
    "b = Value(2, label='b')\n",
    "\n",
    "c = b / a; c.label ='c'\n",
    "c "
   ]
  },
  {
   "cell_type": "code",
   "execution_count": null,
   "id": "d3aa04c4-c87e-4672-9448-39561b074a1f",
   "metadata": {},
   "outputs": [],
   "source": []
  },
  {
   "cell_type": "code",
   "execution_count": null,
   "id": "fc19cd45-99d8-4de6-b953-1fa83365732d",
   "metadata": {},
   "outputs": [],
   "source": []
  },
  {
   "cell_type": "code",
   "execution_count": null,
   "id": "51de63a1-d724-444d-badf-3c7841d0482d",
   "metadata": {},
   "outputs": [],
   "source": []
  },
  {
   "cell_type": "code",
   "execution_count": 80,
   "id": "d336de00-7975-4167-9391-d2e1d28f0148",
   "metadata": {},
   "outputs": [],
   "source": [
    "# 实现减法\n",
    "# a - b\n",
    "# a + (-b)  # 这里是负号不是减号, 通过__neg__实现\n",
    "# a + (-1 * b) # 这样, 只有加法和乘法, "
   ]
  },
  {
   "cell_type": "code",
   "execution_count": 85,
   "id": "f7b86132-32e0-40ef-a86d-f46571258ac3",
   "metadata": {},
   "outputs": [],
   "source": [
    "a = Value(4.0, label='a')\n",
    "b = Value(2, label='b')"
   ]
  },
  {
   "cell_type": "code",
   "execution_count": 86,
   "id": "d995c474-1594-4f44-86c1-7b6ccea3fa64",
   "metadata": {},
   "outputs": [
    {
     "data": {
      "text/plain": [
       "Value(data=-2.0)"
      ]
     },
     "execution_count": 86,
     "metadata": {},
     "output_type": "execute_result"
    }
   ],
   "source": [
    "b - a "
   ]
  },
  {
   "cell_type": "code",
   "execution_count": null,
   "id": "5f6b0962-4c36-423a-8556-1f32f107daad",
   "metadata": {},
   "outputs": [],
   "source": []
  },
  {
   "cell_type": "code",
   "execution_count": null,
   "id": "af6d4f8a-5353-4d04-8533-7df669a256fa",
   "metadata": {},
   "outputs": [],
   "source": []
  },
  {
   "cell_type": "code",
   "execution_count": null,
   "id": "e00259c6-752b-4298-b82c-6a32c673a31e",
   "metadata": {},
   "outputs": [],
   "source": []
  },
  {
   "cell_type": "code",
   "execution_count": 7,
   "id": "ed47000d-80e1-4982-9eaf-47391b061494",
   "metadata": {},
   "outputs": [],
   "source": [
    "# inputs x1, x2 \n",
    "x1 = Value(2.0, label='x1')\n",
    "x2 = Value(0.0, label='x2')\n",
    "\n",
    "# weights w1, w2 \n",
    "w1 = Value(-3.0, label='w1')\n",
    "w2 = Value(1.0, label='w2')\n",
    "\n",
    "# bias\n",
    "b = Value(6.8813735870195432, label='b')\n",
    "\n",
    "x1w1 = x1*w1; x1w1.label = 'x1*w1'\n",
    "x2w2 = x2*w2; x2w2.label = 'x2*w2'\n",
    "\n",
    "x1w1x2w2 = x1w1 + x2w2; x1w1x2w2.label = \"x1*w1 + x2*w2\"\n",
    "\n",
    "n = x1w1x2w2 + b; n.label='n' \n",
    "# print(n) \n",
    "\n",
    "# output \n",
    "o = n.tanh(); o.label='o'"
   ]
  },
  {
   "cell_type": "code",
   "execution_count": 8,
   "id": "83b12c5d-e6b9-42ad-9e56-d6f5d1154261",
   "metadata": {},
   "outputs": [
    {
     "data": {
      "image/svg+xml": [
       "<?xml version=\"1.0\" encoding=\"UTF-8\" standalone=\"no\"?>\n",
       "<!DOCTYPE svg PUBLIC \"-//W3C//DTD SVG 1.1//EN\"\n",
       " \"http://www.w3.org/Graphics/SVG/1.1/DTD/svg11.dtd\">\n",
       "<!-- Generated by graphviz version 2.43.0 (0)\n",
       " -->\n",
       "<!-- Title: %3 Pages: 1 -->\n",
       "<svg width=\"1846pt\" height=\"210pt\"\n",
       " viewBox=\"0.00 0.00 1845.69 210.00\" xmlns=\"http://www.w3.org/2000/svg\" xmlns:xlink=\"http://www.w3.org/1999/xlink\">\n",
       "<g id=\"graph0\" class=\"graph\" transform=\"scale(1 1) rotate(0) translate(4 206)\">\n",
       "<title>%3</title>\n",
       "<polygon fill=\"white\" stroke=\"transparent\" points=\"-4,4 -4,-206 1841.69,-206 1841.69,4 -4,4\"/>\n",
       "<!-- 140084656742960 -->\n",
       "<g id=\"node1\" class=\"node\">\n",
       "<title>140084656742960</title>\n",
       "<polygon fill=\"none\" stroke=\"black\" points=\"4.5,-165.5 4.5,-201.5 244.5,-201.5 244.5,-165.5 4.5,-165.5\"/>\n",
       "<text text-anchor=\"middle\" x=\"21.5\" y=\"-179.8\" font-family=\"Times,serif\" font-size=\"14.00\">x1</text>\n",
       "<polyline fill=\"none\" stroke=\"black\" points=\"38.5,-165.5 38.5,-201.5 \"/>\n",
       "<text text-anchor=\"middle\" x=\"89.5\" y=\"-179.8\" font-family=\"Times,serif\" font-size=\"14.00\">data 2.0000</text>\n",
       "<polyline fill=\"none\" stroke=\"black\" points=\"140.5,-165.5 140.5,-201.5 \"/>\n",
       "<text text-anchor=\"middle\" x=\"192.5\" y=\"-179.8\" font-family=\"Times,serif\" font-size=\"14.00\">grad 0.0000</text>\n",
       "</g>\n",
       "<!-- 140084391327056* -->\n",
       "<g id=\"node12\" class=\"node\">\n",
       "<title>140084391327056*</title>\n",
       "<ellipse fill=\"none\" stroke=\"black\" cx=\"312\" cy=\"-128.5\" rx=\"27\" ry=\"18\"/>\n",
       "<text text-anchor=\"middle\" x=\"312\" y=\"-124.8\" font-family=\"Times,serif\" font-size=\"14.00\">*</text>\n",
       "</g>\n",
       "<!-- 140084656742960&#45;&gt;140084391327056* -->\n",
       "<g id=\"edge11\" class=\"edge\">\n",
       "<title>140084656742960&#45;&gt;140084391327056*</title>\n",
       "<path fill=\"none\" stroke=\"black\" d=\"M218.13,-165.46C228.63,-162.77 239.1,-159.78 249,-156.5 259.71,-152.96 271.05,-148.16 281.07,-143.54\"/>\n",
       "<polygon fill=\"black\" stroke=\"black\" points=\"282.67,-146.66 290.2,-139.21 279.67,-140.33 282.67,-146.66\"/>\n",
       "</g>\n",
       "<!-- 140084391328832 -->\n",
       "<g id=\"node2\" class=\"node\">\n",
       "<title>140084391328832</title>\n",
       "<polygon fill=\"none\" stroke=\"black\" points=\"827.5,-27.5 827.5,-63.5 1059.5,-63.5 1059.5,-27.5 827.5,-27.5\"/>\n",
       "<text text-anchor=\"middle\" x=\"840.5\" y=\"-41.8\" font-family=\"Times,serif\" font-size=\"14.00\">b</text>\n",
       "<polyline fill=\"none\" stroke=\"black\" points=\"853.5,-27.5 853.5,-63.5 \"/>\n",
       "<text text-anchor=\"middle\" x=\"904.5\" y=\"-41.8\" font-family=\"Times,serif\" font-size=\"14.00\">data 6.8814</text>\n",
       "<polyline fill=\"none\" stroke=\"black\" points=\"955.5,-27.5 955.5,-63.5 \"/>\n",
       "<text text-anchor=\"middle\" x=\"1007.5\" y=\"-41.8\" font-family=\"Times,serif\" font-size=\"14.00\">grad 0.0000</text>\n",
       "</g>\n",
       "<!-- 140084391531072+ -->\n",
       "<g id=\"node8\" class=\"node\">\n",
       "<title>140084391531072+</title>\n",
       "<ellipse fill=\"none\" stroke=\"black\" cx=\"1176\" cy=\"-72.5\" rx=\"27\" ry=\"18\"/>\n",
       "<text text-anchor=\"middle\" x=\"1176\" y=\"-68.8\" font-family=\"Times,serif\" font-size=\"14.00\">+</text>\n",
       "</g>\n",
       "<!-- 140084391328832&#45;&gt;140084391531072+ -->\n",
       "<g id=\"edge13\" class=\"edge\">\n",
       "<title>140084391328832&#45;&gt;140084391531072+</title>\n",
       "<path fill=\"none\" stroke=\"black\" d=\"M1059.75,-59C1088.57,-62.38 1117.4,-65.75 1139.01,-68.28\"/>\n",
       "<polygon fill=\"black\" stroke=\"black\" points=\"1138.67,-71.77 1149.01,-69.46 1139.48,-64.82 1138.67,-71.77\"/>\n",
       "</g>\n",
       "<!-- 140084391539280 -->\n",
       "<g id=\"node3\" class=\"node\">\n",
       "<title>140084391539280</title>\n",
       "<polygon fill=\"none\" stroke=\"black\" points=\"377.5,-55.5 377.5,-91.5 645.5,-91.5 645.5,-55.5 377.5,-55.5\"/>\n",
       "<text text-anchor=\"middle\" x=\"408.5\" y=\"-69.8\" font-family=\"Times,serif\" font-size=\"14.00\">x2*w2</text>\n",
       "<polyline fill=\"none\" stroke=\"black\" points=\"439.5,-55.5 439.5,-91.5 \"/>\n",
       "<text text-anchor=\"middle\" x=\"490.5\" y=\"-69.8\" font-family=\"Times,serif\" font-size=\"14.00\">data 0.0000</text>\n",
       "<polyline fill=\"none\" stroke=\"black\" points=\"541.5,-55.5 541.5,-91.5 \"/>\n",
       "<text text-anchor=\"middle\" x=\"593.5\" y=\"-69.8\" font-family=\"Times,serif\" font-size=\"14.00\">grad 0.0000</text>\n",
       "</g>\n",
       "<!-- 140084391532128+ -->\n",
       "<g id=\"node6\" class=\"node\">\n",
       "<title>140084391532128+</title>\n",
       "<ellipse fill=\"none\" stroke=\"black\" cx=\"711\" cy=\"-100.5\" rx=\"27\" ry=\"18\"/>\n",
       "<text text-anchor=\"middle\" x=\"711\" y=\"-96.8\" font-family=\"Times,serif\" font-size=\"14.00\">+</text>\n",
       "</g>\n",
       "<!-- 140084391539280&#45;&gt;140084391532128+ -->\n",
       "<g id=\"edge9\" class=\"edge\">\n",
       "<title>140084391539280&#45;&gt;140084391532128+</title>\n",
       "<path fill=\"none\" stroke=\"black\" d=\"M644.24,-91.51C655.12,-93 665.4,-94.4 674.45,-95.64\"/>\n",
       "<polygon fill=\"black\" stroke=\"black\" points=\"674.11,-99.13 684.49,-97.01 675.05,-92.19 674.11,-99.13\"/>\n",
       "</g>\n",
       "<!-- 140084391539280* -->\n",
       "<g id=\"node4\" class=\"node\">\n",
       "<title>140084391539280*</title>\n",
       "<ellipse fill=\"none\" stroke=\"black\" cx=\"312\" cy=\"-73.5\" rx=\"27\" ry=\"18\"/>\n",
       "<text text-anchor=\"middle\" x=\"312\" y=\"-69.8\" font-family=\"Times,serif\" font-size=\"14.00\">*</text>\n",
       "</g>\n",
       "<!-- 140084391539280*&#45;&gt;140084391539280 -->\n",
       "<g id=\"edge1\" class=\"edge\">\n",
       "<title>140084391539280*&#45;&gt;140084391539280</title>\n",
       "<path fill=\"none\" stroke=\"black\" d=\"M339.23,-73.5C347.26,-73.5 356.72,-73.5 366.99,-73.5\"/>\n",
       "<polygon fill=\"black\" stroke=\"black\" points=\"367.08,-77 377.08,-73.5 367.08,-70 367.08,-77\"/>\n",
       "</g>\n",
       "<!-- 140084391532128 -->\n",
       "<g id=\"node5\" class=\"node\">\n",
       "<title>140084391532128</title>\n",
       "<polygon fill=\"none\" stroke=\"black\" points=\"774,-82.5 774,-118.5 1113,-118.5 1113,-82.5 774,-82.5\"/>\n",
       "<text text-anchor=\"middle\" x=\"838\" y=\"-96.8\" font-family=\"Times,serif\" font-size=\"14.00\">x1*w1 + x2*w2</text>\n",
       "<polyline fill=\"none\" stroke=\"black\" points=\"902,-82.5 902,-118.5 \"/>\n",
       "<text text-anchor=\"middle\" x=\"955.5\" y=\"-96.8\" font-family=\"Times,serif\" font-size=\"14.00\">data &#45;6.0000</text>\n",
       "<polyline fill=\"none\" stroke=\"black\" points=\"1009,-82.5 1009,-118.5 \"/>\n",
       "<text text-anchor=\"middle\" x=\"1061\" y=\"-96.8\" font-family=\"Times,serif\" font-size=\"14.00\">grad 0.0000</text>\n",
       "</g>\n",
       "<!-- 140084391532128&#45;&gt;140084391531072+ -->\n",
       "<g id=\"edge6\" class=\"edge\">\n",
       "<title>140084391532128&#45;&gt;140084391531072+</title>\n",
       "<path fill=\"none\" stroke=\"black\" d=\"M1092.76,-82.49C1109.86,-80.41 1125.9,-78.46 1139.2,-76.85\"/>\n",
       "<polygon fill=\"black\" stroke=\"black\" points=\"1139.74,-80.31 1149.24,-75.63 1138.89,-73.36 1139.74,-80.31\"/>\n",
       "</g>\n",
       "<!-- 140084391532128+&#45;&gt;140084391532128 -->\n",
       "<g id=\"edge2\" class=\"edge\">\n",
       "<title>140084391532128+&#45;&gt;140084391532128</title>\n",
       "<path fill=\"none\" stroke=\"black\" d=\"M738.44,-100.5C745.81,-100.5 754.42,-100.5 763.84,-100.5\"/>\n",
       "<polygon fill=\"black\" stroke=\"black\" points=\"763.94,-104 773.94,-100.5 763.94,-97 763.94,-104\"/>\n",
       "</g>\n",
       "<!-- 140084391531072 -->\n",
       "<g id=\"node7\" class=\"node\">\n",
       "<title>140084391531072</title>\n",
       "<polygon fill=\"none\" stroke=\"black\" points=\"1239,-54.5 1239,-90.5 1471,-90.5 1471,-54.5 1239,-54.5\"/>\n",
       "<text text-anchor=\"middle\" x=\"1252\" y=\"-68.8\" font-family=\"Times,serif\" font-size=\"14.00\">n</text>\n",
       "<polyline fill=\"none\" stroke=\"black\" points=\"1265,-54.5 1265,-90.5 \"/>\n",
       "<text text-anchor=\"middle\" x=\"1316\" y=\"-68.8\" font-family=\"Times,serif\" font-size=\"14.00\">data 0.8814</text>\n",
       "<polyline fill=\"none\" stroke=\"black\" points=\"1367,-54.5 1367,-90.5 \"/>\n",
       "<text text-anchor=\"middle\" x=\"1419\" y=\"-68.8\" font-family=\"Times,serif\" font-size=\"14.00\">grad 0.0000</text>\n",
       "</g>\n",
       "<!-- 140084391542208tanh -->\n",
       "<g id=\"node15\" class=\"node\">\n",
       "<title>140084391542208tanh</title>\n",
       "<ellipse fill=\"none\" stroke=\"black\" cx=\"1538.85\" cy=\"-72.5\" rx=\"31.7\" ry=\"18\"/>\n",
       "<text text-anchor=\"middle\" x=\"1538.85\" y=\"-68.8\" font-family=\"Times,serif\" font-size=\"14.00\">tanh</text>\n",
       "</g>\n",
       "<!-- 140084391531072&#45;&gt;140084391542208tanh -->\n",
       "<g id=\"edge12\" class=\"edge\">\n",
       "<title>140084391531072&#45;&gt;140084391542208tanh</title>\n",
       "<path fill=\"none\" stroke=\"black\" d=\"M1471.17,-72.5C1480.08,-72.5 1488.66,-72.5 1496.53,-72.5\"/>\n",
       "<polygon fill=\"black\" stroke=\"black\" points=\"1496.78,-76 1506.78,-72.5 1496.78,-69 1496.78,-76\"/>\n",
       "</g>\n",
       "<!-- 140084391531072+&#45;&gt;140084391531072 -->\n",
       "<g id=\"edge3\" class=\"edge\">\n",
       "<title>140084391531072+&#45;&gt;140084391531072</title>\n",
       "<path fill=\"none\" stroke=\"black\" d=\"M1203.12,-72.5C1210.53,-72.5 1219.14,-72.5 1228.4,-72.5\"/>\n",
       "<polygon fill=\"black\" stroke=\"black\" points=\"1228.69,-76 1238.69,-72.5 1228.69,-69 1228.69,-76\"/>\n",
       "</g>\n",
       "<!-- 140084656743488 -->\n",
       "<g id=\"node9\" class=\"node\">\n",
       "<title>140084656743488</title>\n",
       "<polygon fill=\"none\" stroke=\"black\" points=\"4.5,-55.5 4.5,-91.5 244.5,-91.5 244.5,-55.5 4.5,-55.5\"/>\n",
       "<text text-anchor=\"middle\" x=\"21.5\" y=\"-69.8\" font-family=\"Times,serif\" font-size=\"14.00\">x2</text>\n",
       "<polyline fill=\"none\" stroke=\"black\" points=\"38.5,-55.5 38.5,-91.5 \"/>\n",
       "<text text-anchor=\"middle\" x=\"89.5\" y=\"-69.8\" font-family=\"Times,serif\" font-size=\"14.00\">data 0.0000</text>\n",
       "<polyline fill=\"none\" stroke=\"black\" points=\"140.5,-55.5 140.5,-91.5 \"/>\n",
       "<text text-anchor=\"middle\" x=\"192.5\" y=\"-69.8\" font-family=\"Times,serif\" font-size=\"14.00\">grad 0.0000</text>\n",
       "</g>\n",
       "<!-- 140084656743488&#45;&gt;140084391539280* -->\n",
       "<g id=\"edge14\" class=\"edge\">\n",
       "<title>140084656743488&#45;&gt;140084391539280*</title>\n",
       "<path fill=\"none\" stroke=\"black\" d=\"M244.55,-73.5C255.31,-73.5 265.54,-73.5 274.62,-73.5\"/>\n",
       "<polygon fill=\"black\" stroke=\"black\" points=\"274.7,-77 284.7,-73.5 274.7,-70 274.7,-77\"/>\n",
       "</g>\n",
       "<!-- 140084391328880 -->\n",
       "<g id=\"node10\" class=\"node\">\n",
       "<title>140084391328880</title>\n",
       "<polygon fill=\"none\" stroke=\"black\" points=\"2.5,-0.5 2.5,-36.5 246.5,-36.5 246.5,-0.5 2.5,-0.5\"/>\n",
       "<text text-anchor=\"middle\" x=\"21.5\" y=\"-14.8\" font-family=\"Times,serif\" font-size=\"14.00\">w2</text>\n",
       "<polyline fill=\"none\" stroke=\"black\" points=\"40.5,-0.5 40.5,-36.5 \"/>\n",
       "<text text-anchor=\"middle\" x=\"91.5\" y=\"-14.8\" font-family=\"Times,serif\" font-size=\"14.00\">data 1.0000</text>\n",
       "<polyline fill=\"none\" stroke=\"black\" points=\"142.5,-0.5 142.5,-36.5 \"/>\n",
       "<text text-anchor=\"middle\" x=\"194.5\" y=\"-14.8\" font-family=\"Times,serif\" font-size=\"14.00\">grad 0.0000</text>\n",
       "</g>\n",
       "<!-- 140084391328880&#45;&gt;140084391539280* -->\n",
       "<g id=\"edge8\" class=\"edge\">\n",
       "<title>140084391328880&#45;&gt;140084391539280*</title>\n",
       "<path fill=\"none\" stroke=\"black\" d=\"M214.42,-36.55C226.15,-39.54 237.93,-42.87 249,-46.5 259.46,-49.93 270.57,-54.47 280.46,-58.84\"/>\n",
       "<polygon fill=\"black\" stroke=\"black\" points=\"279.31,-62.17 289.87,-63.12 282.21,-55.79 279.31,-62.17\"/>\n",
       "</g>\n",
       "<!-- 140084391327056 -->\n",
       "<g id=\"node11\" class=\"node\">\n",
       "<title>140084391327056</title>\n",
       "<polygon fill=\"none\" stroke=\"black\" points=\"375,-110.5 375,-146.5 648,-146.5 648,-110.5 375,-110.5\"/>\n",
       "<text text-anchor=\"middle\" x=\"406\" y=\"-124.8\" font-family=\"Times,serif\" font-size=\"14.00\">x1*w1</text>\n",
       "<polyline fill=\"none\" stroke=\"black\" points=\"437,-110.5 437,-146.5 \"/>\n",
       "<text text-anchor=\"middle\" x=\"490.5\" y=\"-124.8\" font-family=\"Times,serif\" font-size=\"14.00\">data &#45;6.0000</text>\n",
       "<polyline fill=\"none\" stroke=\"black\" points=\"544,-110.5 544,-146.5 \"/>\n",
       "<text text-anchor=\"middle\" x=\"596\" y=\"-124.8\" font-family=\"Times,serif\" font-size=\"14.00\">grad 0.0000</text>\n",
       "</g>\n",
       "<!-- 140084391327056&#45;&gt;140084391532128+ -->\n",
       "<g id=\"edge10\" class=\"edge\">\n",
       "<title>140084391327056&#45;&gt;140084391532128+</title>\n",
       "<path fill=\"none\" stroke=\"black\" d=\"M639.53,-110.49C652.09,-108.71 663.99,-107.02 674.3,-105.56\"/>\n",
       "<polygon fill=\"black\" stroke=\"black\" points=\"675.03,-108.99 684.44,-104.12 674.05,-102.06 675.03,-108.99\"/>\n",
       "</g>\n",
       "<!-- 140084391327056*&#45;&gt;140084391327056 -->\n",
       "<g id=\"edge4\" class=\"edge\">\n",
       "<title>140084391327056*&#45;&gt;140084391327056</title>\n",
       "<path fill=\"none\" stroke=\"black\" d=\"M339.23,-128.5C346.7,-128.5 355.41,-128.5 364.87,-128.5\"/>\n",
       "<polygon fill=\"black\" stroke=\"black\" points=\"364.98,-132 374.98,-128.5 364.98,-125 364.98,-132\"/>\n",
       "</g>\n",
       "<!-- 140084656750448 -->\n",
       "<g id=\"node13\" class=\"node\">\n",
       "<title>140084656750448</title>\n",
       "<polygon fill=\"none\" stroke=\"black\" points=\"0,-110.5 0,-146.5 249,-146.5 249,-110.5 0,-110.5\"/>\n",
       "<text text-anchor=\"middle\" x=\"19\" y=\"-124.8\" font-family=\"Times,serif\" font-size=\"14.00\">w1</text>\n",
       "<polyline fill=\"none\" stroke=\"black\" points=\"38,-110.5 38,-146.5 \"/>\n",
       "<text text-anchor=\"middle\" x=\"91.5\" y=\"-124.8\" font-family=\"Times,serif\" font-size=\"14.00\">data &#45;3.0000</text>\n",
       "<polyline fill=\"none\" stroke=\"black\" points=\"145,-110.5 145,-146.5 \"/>\n",
       "<text text-anchor=\"middle\" x=\"197\" y=\"-124.8\" font-family=\"Times,serif\" font-size=\"14.00\">grad 0.0000</text>\n",
       "</g>\n",
       "<!-- 140084656750448&#45;&gt;140084391327056* -->\n",
       "<g id=\"edge7\" class=\"edge\">\n",
       "<title>140084656750448&#45;&gt;140084391327056*</title>\n",
       "<path fill=\"none\" stroke=\"black\" d=\"M249.23,-128.5C258.37,-128.5 267.05,-128.5 274.87,-128.5\"/>\n",
       "<polygon fill=\"black\" stroke=\"black\" points=\"274.95,-132 284.95,-128.5 274.95,-125 274.95,-132\"/>\n",
       "</g>\n",
       "<!-- 140084391542208 -->\n",
       "<g id=\"node14\" class=\"node\">\n",
       "<title>140084391542208</title>\n",
       "<polygon fill=\"none\" stroke=\"black\" points=\"1606.69,-54.5 1606.69,-90.5 1837.69,-90.5 1837.69,-54.5 1606.69,-54.5\"/>\n",
       "<text text-anchor=\"middle\" x=\"1619.19\" y=\"-68.8\" font-family=\"Times,serif\" font-size=\"14.00\">o</text>\n",
       "<polyline fill=\"none\" stroke=\"black\" points=\"1631.69,-54.5 1631.69,-90.5 \"/>\n",
       "<text text-anchor=\"middle\" x=\"1682.69\" y=\"-68.8\" font-family=\"Times,serif\" font-size=\"14.00\">data 0.7071</text>\n",
       "<polyline fill=\"none\" stroke=\"black\" points=\"1733.69,-54.5 1733.69,-90.5 \"/>\n",
       "<text text-anchor=\"middle\" x=\"1785.69\" y=\"-68.8\" font-family=\"Times,serif\" font-size=\"14.00\">grad 0.0000</text>\n",
       "</g>\n",
       "<!-- 140084391542208tanh&#45;&gt;140084391542208 -->\n",
       "<g id=\"edge5\" class=\"edge\">\n",
       "<title>140084391542208tanh&#45;&gt;140084391542208</title>\n",
       "<path fill=\"none\" stroke=\"black\" d=\"M1571.02,-72.5C1578.61,-72.5 1587.19,-72.5 1596.31,-72.5\"/>\n",
       "<polygon fill=\"black\" stroke=\"black\" points=\"1596.4,-76 1606.4,-72.5 1596.4,-69 1596.4,-76\"/>\n",
       "</g>\n",
       "</g>\n",
       "</svg>\n"
      ],
      "text/plain": [
       "<graphviz.graphs.Digraph at 0x7f67f0623d00>"
      ]
     },
     "execution_count": 8,
     "metadata": {},
     "output_type": "execute_result"
    }
   ],
   "source": [
    "draw_dot(o)"
   ]
  },
  {
   "cell_type": "code",
   "execution_count": 9,
   "id": "7c984946-2cc0-4997-bbfc-d168ebd57f8e",
   "metadata": {},
   "outputs": [],
   "source": [
    "o.backward()"
   ]
  },
  {
   "cell_type": "code",
   "execution_count": 10,
   "id": "3eaffd77-55ed-4a3c-9616-94be70adf012",
   "metadata": {},
   "outputs": [
    {
     "data": {
      "image/svg+xml": [
       "<?xml version=\"1.0\" encoding=\"UTF-8\" standalone=\"no\"?>\n",
       "<!DOCTYPE svg PUBLIC \"-//W3C//DTD SVG 1.1//EN\"\n",
       " \"http://www.w3.org/Graphics/SVG/1.1/DTD/svg11.dtd\">\n",
       "<!-- Generated by graphviz version 2.43.0 (0)\n",
       " -->\n",
       "<!-- Title: %3 Pages: 1 -->\n",
       "<svg width=\"1846pt\" height=\"210pt\"\n",
       " viewBox=\"0.00 0.00 1845.69 210.00\" xmlns=\"http://www.w3.org/2000/svg\" xmlns:xlink=\"http://www.w3.org/1999/xlink\">\n",
       "<g id=\"graph0\" class=\"graph\" transform=\"scale(1 1) rotate(0) translate(4 206)\">\n",
       "<title>%3</title>\n",
       "<polygon fill=\"white\" stroke=\"transparent\" points=\"-4,4 -4,-206 1841.69,-206 1841.69,4 -4,4\"/>\n",
       "<!-- 140084656742960 -->\n",
       "<g id=\"node1\" class=\"node\">\n",
       "<title>140084656742960</title>\n",
       "<polygon fill=\"none\" stroke=\"black\" points=\"2.5,-165.5 2.5,-201.5 246.5,-201.5 246.5,-165.5 2.5,-165.5\"/>\n",
       "<text text-anchor=\"middle\" x=\"19.5\" y=\"-179.8\" font-family=\"Times,serif\" font-size=\"14.00\">x1</text>\n",
       "<polyline fill=\"none\" stroke=\"black\" points=\"36.5,-165.5 36.5,-201.5 \"/>\n",
       "<text text-anchor=\"middle\" x=\"87.5\" y=\"-179.8\" font-family=\"Times,serif\" font-size=\"14.00\">data 2.0000</text>\n",
       "<polyline fill=\"none\" stroke=\"black\" points=\"138.5,-165.5 138.5,-201.5 \"/>\n",
       "<text text-anchor=\"middle\" x=\"192.5\" y=\"-179.8\" font-family=\"Times,serif\" font-size=\"14.00\">grad &#45;1.5000</text>\n",
       "</g>\n",
       "<!-- 140084391327056* -->\n",
       "<g id=\"node12\" class=\"node\">\n",
       "<title>140084391327056*</title>\n",
       "<ellipse fill=\"none\" stroke=\"black\" cx=\"312\" cy=\"-128.5\" rx=\"27\" ry=\"18\"/>\n",
       "<text text-anchor=\"middle\" x=\"312\" y=\"-124.8\" font-family=\"Times,serif\" font-size=\"14.00\">*</text>\n",
       "</g>\n",
       "<!-- 140084656742960&#45;&gt;140084391327056* -->\n",
       "<g id=\"edge11\" class=\"edge\">\n",
       "<title>140084656742960&#45;&gt;140084391327056*</title>\n",
       "<path fill=\"none\" stroke=\"black\" d=\"M218.13,-165.46C228.63,-162.77 239.1,-159.78 249,-156.5 259.71,-152.96 271.05,-148.16 281.07,-143.54\"/>\n",
       "<polygon fill=\"black\" stroke=\"black\" points=\"282.67,-146.66 290.2,-139.21 279.67,-140.33 282.67,-146.66\"/>\n",
       "</g>\n",
       "<!-- 140084391328832 -->\n",
       "<g id=\"node2\" class=\"node\">\n",
       "<title>140084391328832</title>\n",
       "<polygon fill=\"none\" stroke=\"black\" points=\"827.5,-27.5 827.5,-63.5 1059.5,-63.5 1059.5,-27.5 827.5,-27.5\"/>\n",
       "<text text-anchor=\"middle\" x=\"840.5\" y=\"-41.8\" font-family=\"Times,serif\" font-size=\"14.00\">b</text>\n",
       "<polyline fill=\"none\" stroke=\"black\" points=\"853.5,-27.5 853.5,-63.5 \"/>\n",
       "<text text-anchor=\"middle\" x=\"904.5\" y=\"-41.8\" font-family=\"Times,serif\" font-size=\"14.00\">data 6.8814</text>\n",
       "<polyline fill=\"none\" stroke=\"black\" points=\"955.5,-27.5 955.5,-63.5 \"/>\n",
       "<text text-anchor=\"middle\" x=\"1007.5\" y=\"-41.8\" font-family=\"Times,serif\" font-size=\"14.00\">grad 0.5000</text>\n",
       "</g>\n",
       "<!-- 140084391531072+ -->\n",
       "<g id=\"node8\" class=\"node\">\n",
       "<title>140084391531072+</title>\n",
       "<ellipse fill=\"none\" stroke=\"black\" cx=\"1176\" cy=\"-72.5\" rx=\"27\" ry=\"18\"/>\n",
       "<text text-anchor=\"middle\" x=\"1176\" y=\"-68.8\" font-family=\"Times,serif\" font-size=\"14.00\">+</text>\n",
       "</g>\n",
       "<!-- 140084391328832&#45;&gt;140084391531072+ -->\n",
       "<g id=\"edge13\" class=\"edge\">\n",
       "<title>140084391328832&#45;&gt;140084391531072+</title>\n",
       "<path fill=\"none\" stroke=\"black\" d=\"M1059.75,-59C1088.57,-62.38 1117.4,-65.75 1139.01,-68.28\"/>\n",
       "<polygon fill=\"black\" stroke=\"black\" points=\"1138.67,-71.77 1149.01,-69.46 1139.48,-64.82 1138.67,-71.77\"/>\n",
       "</g>\n",
       "<!-- 140084391539280 -->\n",
       "<g id=\"node3\" class=\"node\">\n",
       "<title>140084391539280</title>\n",
       "<polygon fill=\"none\" stroke=\"black\" points=\"377.5,-55.5 377.5,-91.5 645.5,-91.5 645.5,-55.5 377.5,-55.5\"/>\n",
       "<text text-anchor=\"middle\" x=\"408.5\" y=\"-69.8\" font-family=\"Times,serif\" font-size=\"14.00\">x2*w2</text>\n",
       "<polyline fill=\"none\" stroke=\"black\" points=\"439.5,-55.5 439.5,-91.5 \"/>\n",
       "<text text-anchor=\"middle\" x=\"490.5\" y=\"-69.8\" font-family=\"Times,serif\" font-size=\"14.00\">data 0.0000</text>\n",
       "<polyline fill=\"none\" stroke=\"black\" points=\"541.5,-55.5 541.5,-91.5 \"/>\n",
       "<text text-anchor=\"middle\" x=\"593.5\" y=\"-69.8\" font-family=\"Times,serif\" font-size=\"14.00\">grad 0.5000</text>\n",
       "</g>\n",
       "<!-- 140084391532128+ -->\n",
       "<g id=\"node6\" class=\"node\">\n",
       "<title>140084391532128+</title>\n",
       "<ellipse fill=\"none\" stroke=\"black\" cx=\"711\" cy=\"-100.5\" rx=\"27\" ry=\"18\"/>\n",
       "<text text-anchor=\"middle\" x=\"711\" y=\"-96.8\" font-family=\"Times,serif\" font-size=\"14.00\">+</text>\n",
       "</g>\n",
       "<!-- 140084391539280&#45;&gt;140084391532128+ -->\n",
       "<g id=\"edge9\" class=\"edge\">\n",
       "<title>140084391539280&#45;&gt;140084391532128+</title>\n",
       "<path fill=\"none\" stroke=\"black\" d=\"M644.24,-91.51C655.12,-93 665.4,-94.4 674.45,-95.64\"/>\n",
       "<polygon fill=\"black\" stroke=\"black\" points=\"674.11,-99.13 684.49,-97.01 675.05,-92.19 674.11,-99.13\"/>\n",
       "</g>\n",
       "<!-- 140084391539280* -->\n",
       "<g id=\"node4\" class=\"node\">\n",
       "<title>140084391539280*</title>\n",
       "<ellipse fill=\"none\" stroke=\"black\" cx=\"312\" cy=\"-73.5\" rx=\"27\" ry=\"18\"/>\n",
       "<text text-anchor=\"middle\" x=\"312\" y=\"-69.8\" font-family=\"Times,serif\" font-size=\"14.00\">*</text>\n",
       "</g>\n",
       "<!-- 140084391539280*&#45;&gt;140084391539280 -->\n",
       "<g id=\"edge1\" class=\"edge\">\n",
       "<title>140084391539280*&#45;&gt;140084391539280</title>\n",
       "<path fill=\"none\" stroke=\"black\" d=\"M339.23,-73.5C347.26,-73.5 356.72,-73.5 366.99,-73.5\"/>\n",
       "<polygon fill=\"black\" stroke=\"black\" points=\"367.08,-77 377.08,-73.5 367.08,-70 367.08,-77\"/>\n",
       "</g>\n",
       "<!-- 140084391532128 -->\n",
       "<g id=\"node5\" class=\"node\">\n",
       "<title>140084391532128</title>\n",
       "<polygon fill=\"none\" stroke=\"black\" points=\"774,-82.5 774,-118.5 1113,-118.5 1113,-82.5 774,-82.5\"/>\n",
       "<text text-anchor=\"middle\" x=\"838\" y=\"-96.8\" font-family=\"Times,serif\" font-size=\"14.00\">x1*w1 + x2*w2</text>\n",
       "<polyline fill=\"none\" stroke=\"black\" points=\"902,-82.5 902,-118.5 \"/>\n",
       "<text text-anchor=\"middle\" x=\"955.5\" y=\"-96.8\" font-family=\"Times,serif\" font-size=\"14.00\">data &#45;6.0000</text>\n",
       "<polyline fill=\"none\" stroke=\"black\" points=\"1009,-82.5 1009,-118.5 \"/>\n",
       "<text text-anchor=\"middle\" x=\"1061\" y=\"-96.8\" font-family=\"Times,serif\" font-size=\"14.00\">grad 0.5000</text>\n",
       "</g>\n",
       "<!-- 140084391532128&#45;&gt;140084391531072+ -->\n",
       "<g id=\"edge6\" class=\"edge\">\n",
       "<title>140084391532128&#45;&gt;140084391531072+</title>\n",
       "<path fill=\"none\" stroke=\"black\" d=\"M1092.76,-82.49C1109.86,-80.41 1125.9,-78.46 1139.2,-76.85\"/>\n",
       "<polygon fill=\"black\" stroke=\"black\" points=\"1139.74,-80.31 1149.24,-75.63 1138.89,-73.36 1139.74,-80.31\"/>\n",
       "</g>\n",
       "<!-- 140084391532128+&#45;&gt;140084391532128 -->\n",
       "<g id=\"edge2\" class=\"edge\">\n",
       "<title>140084391532128+&#45;&gt;140084391532128</title>\n",
       "<path fill=\"none\" stroke=\"black\" d=\"M738.44,-100.5C745.81,-100.5 754.42,-100.5 763.84,-100.5\"/>\n",
       "<polygon fill=\"black\" stroke=\"black\" points=\"763.94,-104 773.94,-100.5 763.94,-97 763.94,-104\"/>\n",
       "</g>\n",
       "<!-- 140084391531072 -->\n",
       "<g id=\"node7\" class=\"node\">\n",
       "<title>140084391531072</title>\n",
       "<polygon fill=\"none\" stroke=\"black\" points=\"1239,-54.5 1239,-90.5 1471,-90.5 1471,-54.5 1239,-54.5\"/>\n",
       "<text text-anchor=\"middle\" x=\"1252\" y=\"-68.8\" font-family=\"Times,serif\" font-size=\"14.00\">n</text>\n",
       "<polyline fill=\"none\" stroke=\"black\" points=\"1265,-54.5 1265,-90.5 \"/>\n",
       "<text text-anchor=\"middle\" x=\"1316\" y=\"-68.8\" font-family=\"Times,serif\" font-size=\"14.00\">data 0.8814</text>\n",
       "<polyline fill=\"none\" stroke=\"black\" points=\"1367,-54.5 1367,-90.5 \"/>\n",
       "<text text-anchor=\"middle\" x=\"1419\" y=\"-68.8\" font-family=\"Times,serif\" font-size=\"14.00\">grad 0.5000</text>\n",
       "</g>\n",
       "<!-- 140084391542208tanh -->\n",
       "<g id=\"node15\" class=\"node\">\n",
       "<title>140084391542208tanh</title>\n",
       "<ellipse fill=\"none\" stroke=\"black\" cx=\"1538.85\" cy=\"-72.5\" rx=\"31.7\" ry=\"18\"/>\n",
       "<text text-anchor=\"middle\" x=\"1538.85\" y=\"-68.8\" font-family=\"Times,serif\" font-size=\"14.00\">tanh</text>\n",
       "</g>\n",
       "<!-- 140084391531072&#45;&gt;140084391542208tanh -->\n",
       "<g id=\"edge12\" class=\"edge\">\n",
       "<title>140084391531072&#45;&gt;140084391542208tanh</title>\n",
       "<path fill=\"none\" stroke=\"black\" d=\"M1471.17,-72.5C1480.08,-72.5 1488.66,-72.5 1496.53,-72.5\"/>\n",
       "<polygon fill=\"black\" stroke=\"black\" points=\"1496.78,-76 1506.78,-72.5 1496.78,-69 1496.78,-76\"/>\n",
       "</g>\n",
       "<!-- 140084391531072+&#45;&gt;140084391531072 -->\n",
       "<g id=\"edge3\" class=\"edge\">\n",
       "<title>140084391531072+&#45;&gt;140084391531072</title>\n",
       "<path fill=\"none\" stroke=\"black\" d=\"M1203.12,-72.5C1210.53,-72.5 1219.14,-72.5 1228.4,-72.5\"/>\n",
       "<polygon fill=\"black\" stroke=\"black\" points=\"1228.69,-76 1238.69,-72.5 1228.69,-69 1228.69,-76\"/>\n",
       "</g>\n",
       "<!-- 140084656743488 -->\n",
       "<g id=\"node9\" class=\"node\">\n",
       "<title>140084656743488</title>\n",
       "<polygon fill=\"none\" stroke=\"black\" points=\"4.5,-55.5 4.5,-91.5 244.5,-91.5 244.5,-55.5 4.5,-55.5\"/>\n",
       "<text text-anchor=\"middle\" x=\"21.5\" y=\"-69.8\" font-family=\"Times,serif\" font-size=\"14.00\">x2</text>\n",
       "<polyline fill=\"none\" stroke=\"black\" points=\"38.5,-55.5 38.5,-91.5 \"/>\n",
       "<text text-anchor=\"middle\" x=\"89.5\" y=\"-69.8\" font-family=\"Times,serif\" font-size=\"14.00\">data 0.0000</text>\n",
       "<polyline fill=\"none\" stroke=\"black\" points=\"140.5,-55.5 140.5,-91.5 \"/>\n",
       "<text text-anchor=\"middle\" x=\"192.5\" y=\"-69.8\" font-family=\"Times,serif\" font-size=\"14.00\">grad 0.5000</text>\n",
       "</g>\n",
       "<!-- 140084656743488&#45;&gt;140084391539280* -->\n",
       "<g id=\"edge14\" class=\"edge\">\n",
       "<title>140084656743488&#45;&gt;140084391539280*</title>\n",
       "<path fill=\"none\" stroke=\"black\" d=\"M244.55,-73.5C255.31,-73.5 265.54,-73.5 274.62,-73.5\"/>\n",
       "<polygon fill=\"black\" stroke=\"black\" points=\"274.7,-77 284.7,-73.5 274.7,-70 274.7,-77\"/>\n",
       "</g>\n",
       "<!-- 140084391328880 -->\n",
       "<g id=\"node10\" class=\"node\">\n",
       "<title>140084391328880</title>\n",
       "<polygon fill=\"none\" stroke=\"black\" points=\"2.5,-0.5 2.5,-36.5 246.5,-36.5 246.5,-0.5 2.5,-0.5\"/>\n",
       "<text text-anchor=\"middle\" x=\"21.5\" y=\"-14.8\" font-family=\"Times,serif\" font-size=\"14.00\">w2</text>\n",
       "<polyline fill=\"none\" stroke=\"black\" points=\"40.5,-0.5 40.5,-36.5 \"/>\n",
       "<text text-anchor=\"middle\" x=\"91.5\" y=\"-14.8\" font-family=\"Times,serif\" font-size=\"14.00\">data 1.0000</text>\n",
       "<polyline fill=\"none\" stroke=\"black\" points=\"142.5,-0.5 142.5,-36.5 \"/>\n",
       "<text text-anchor=\"middle\" x=\"194.5\" y=\"-14.8\" font-family=\"Times,serif\" font-size=\"14.00\">grad 0.0000</text>\n",
       "</g>\n",
       "<!-- 140084391328880&#45;&gt;140084391539280* -->\n",
       "<g id=\"edge8\" class=\"edge\">\n",
       "<title>140084391328880&#45;&gt;140084391539280*</title>\n",
       "<path fill=\"none\" stroke=\"black\" d=\"M214.42,-36.55C226.15,-39.54 237.93,-42.87 249,-46.5 259.46,-49.93 270.57,-54.47 280.46,-58.84\"/>\n",
       "<polygon fill=\"black\" stroke=\"black\" points=\"279.31,-62.17 289.87,-63.12 282.21,-55.79 279.31,-62.17\"/>\n",
       "</g>\n",
       "<!-- 140084391327056 -->\n",
       "<g id=\"node11\" class=\"node\">\n",
       "<title>140084391327056</title>\n",
       "<polygon fill=\"none\" stroke=\"black\" points=\"375,-110.5 375,-146.5 648,-146.5 648,-110.5 375,-110.5\"/>\n",
       "<text text-anchor=\"middle\" x=\"406\" y=\"-124.8\" font-family=\"Times,serif\" font-size=\"14.00\">x1*w1</text>\n",
       "<polyline fill=\"none\" stroke=\"black\" points=\"437,-110.5 437,-146.5 \"/>\n",
       "<text text-anchor=\"middle\" x=\"490.5\" y=\"-124.8\" font-family=\"Times,serif\" font-size=\"14.00\">data &#45;6.0000</text>\n",
       "<polyline fill=\"none\" stroke=\"black\" points=\"544,-110.5 544,-146.5 \"/>\n",
       "<text text-anchor=\"middle\" x=\"596\" y=\"-124.8\" font-family=\"Times,serif\" font-size=\"14.00\">grad 0.5000</text>\n",
       "</g>\n",
       "<!-- 140084391327056&#45;&gt;140084391532128+ -->\n",
       "<g id=\"edge10\" class=\"edge\">\n",
       "<title>140084391327056&#45;&gt;140084391532128+</title>\n",
       "<path fill=\"none\" stroke=\"black\" d=\"M639.53,-110.49C652.09,-108.71 663.99,-107.02 674.3,-105.56\"/>\n",
       "<polygon fill=\"black\" stroke=\"black\" points=\"675.03,-108.99 684.44,-104.12 674.05,-102.06 675.03,-108.99\"/>\n",
       "</g>\n",
       "<!-- 140084391327056*&#45;&gt;140084391327056 -->\n",
       "<g id=\"edge4\" class=\"edge\">\n",
       "<title>140084391327056*&#45;&gt;140084391327056</title>\n",
       "<path fill=\"none\" stroke=\"black\" d=\"M339.23,-128.5C346.7,-128.5 355.41,-128.5 364.87,-128.5\"/>\n",
       "<polygon fill=\"black\" stroke=\"black\" points=\"364.98,-132 374.98,-128.5 364.98,-125 364.98,-132\"/>\n",
       "</g>\n",
       "<!-- 140084656750448 -->\n",
       "<g id=\"node13\" class=\"node\">\n",
       "<title>140084656750448</title>\n",
       "<polygon fill=\"none\" stroke=\"black\" points=\"0,-110.5 0,-146.5 249,-146.5 249,-110.5 0,-110.5\"/>\n",
       "<text text-anchor=\"middle\" x=\"19\" y=\"-124.8\" font-family=\"Times,serif\" font-size=\"14.00\">w1</text>\n",
       "<polyline fill=\"none\" stroke=\"black\" points=\"38,-110.5 38,-146.5 \"/>\n",
       "<text text-anchor=\"middle\" x=\"91.5\" y=\"-124.8\" font-family=\"Times,serif\" font-size=\"14.00\">data &#45;3.0000</text>\n",
       "<polyline fill=\"none\" stroke=\"black\" points=\"145,-110.5 145,-146.5 \"/>\n",
       "<text text-anchor=\"middle\" x=\"197\" y=\"-124.8\" font-family=\"Times,serif\" font-size=\"14.00\">grad 1.0000</text>\n",
       "</g>\n",
       "<!-- 140084656750448&#45;&gt;140084391327056* -->\n",
       "<g id=\"edge7\" class=\"edge\">\n",
       "<title>140084656750448&#45;&gt;140084391327056*</title>\n",
       "<path fill=\"none\" stroke=\"black\" d=\"M249.23,-128.5C258.37,-128.5 267.05,-128.5 274.87,-128.5\"/>\n",
       "<polygon fill=\"black\" stroke=\"black\" points=\"274.95,-132 284.95,-128.5 274.95,-125 274.95,-132\"/>\n",
       "</g>\n",
       "<!-- 140084391542208 -->\n",
       "<g id=\"node14\" class=\"node\">\n",
       "<title>140084391542208</title>\n",
       "<polygon fill=\"none\" stroke=\"black\" points=\"1606.69,-54.5 1606.69,-90.5 1837.69,-90.5 1837.69,-54.5 1606.69,-54.5\"/>\n",
       "<text text-anchor=\"middle\" x=\"1619.19\" y=\"-68.8\" font-family=\"Times,serif\" font-size=\"14.00\">o</text>\n",
       "<polyline fill=\"none\" stroke=\"black\" points=\"1631.69,-54.5 1631.69,-90.5 \"/>\n",
       "<text text-anchor=\"middle\" x=\"1682.69\" y=\"-68.8\" font-family=\"Times,serif\" font-size=\"14.00\">data 0.7071</text>\n",
       "<polyline fill=\"none\" stroke=\"black\" points=\"1733.69,-54.5 1733.69,-90.5 \"/>\n",
       "<text text-anchor=\"middle\" x=\"1785.69\" y=\"-68.8\" font-family=\"Times,serif\" font-size=\"14.00\">grad 1.0000</text>\n",
       "</g>\n",
       "<!-- 140084391542208tanh&#45;&gt;140084391542208 -->\n",
       "<g id=\"edge5\" class=\"edge\">\n",
       "<title>140084391542208tanh&#45;&gt;140084391542208</title>\n",
       "<path fill=\"none\" stroke=\"black\" d=\"M1571.02,-72.5C1578.61,-72.5 1587.19,-72.5 1596.31,-72.5\"/>\n",
       "<polygon fill=\"black\" stroke=\"black\" points=\"1596.4,-76 1606.4,-72.5 1596.4,-69 1596.4,-76\"/>\n",
       "</g>\n",
       "</g>\n",
       "</svg>\n"
      ],
      "text/plain": [
       "<graphviz.graphs.Digraph at 0x7f67f0623820>"
      ]
     },
     "execution_count": 10,
     "metadata": {},
     "output_type": "execute_result"
    }
   ],
   "source": [
    "draw_dot(o)"
   ]
  },
  {
   "cell_type": "code",
   "execution_count": null,
   "id": "67488d26-6fb9-4e13-90b8-8fcd27af870d",
   "metadata": {},
   "outputs": [],
   "source": []
  },
  {
   "cell_type": "code",
   "execution_count": null,
   "id": "9a480ba5-87d2-43b5-94a0-d2debc36f5ac",
   "metadata": {},
   "outputs": [],
   "source": []
  },
  {
   "cell_type": "code",
   "execution_count": null,
   "id": "7f03a41d-37ce-48e9-a314-020a86343b91",
   "metadata": {},
   "outputs": [],
   "source": []
  },
  {
   "cell_type": "code",
   "execution_count": null,
   "id": "8678a046-9c9b-47a6-8717-e29f69d12b8c",
   "metadata": {},
   "outputs": [],
   "source": []
  },
  {
   "cell_type": "markdown",
   "id": "9486ef85-616a-4b36-a249-11d79c4874d0",
   "metadata": {},
   "source": [
    "### 处理特殊情况"
   ]
  },
  {
   "cell_type": "code",
   "execution_count": 28,
   "id": "0b72ca8a-efca-4a2d-9871-1fe7134897bb",
   "metadata": {},
   "outputs": [],
   "source": [
    "x = Value(3.0); x.label = 'x'\n",
    "y = Value(2.);  y.label = 'y'"
   ]
  },
  {
   "cell_type": "code",
   "execution_count": 29,
   "id": "09bfde7c-90ca-43fa-838e-8af2145acd2b",
   "metadata": {},
   "outputs": [
    {
     "data": {
      "text/plain": [
       "Value(data=3.0)"
      ]
     },
     "execution_count": 29,
     "metadata": {},
     "output_type": "execute_result"
    }
   ],
   "source": [
    "x "
   ]
  },
  {
   "cell_type": "code",
   "execution_count": 30,
   "id": "48a4048b-8b54-42a8-8ec3-7fd9839cac1c",
   "metadata": {},
   "outputs": [
    {
     "data": {
      "text/plain": [
       "Value(data=5.0)"
      ]
     },
     "execution_count": 30,
     "metadata": {},
     "output_type": "execute_result"
    }
   ],
   "source": [
    "x.__add__(y)"
   ]
  },
  {
   "cell_type": "code",
   "execution_count": 31,
   "id": "edd30646-d3bf-4767-94f7-02a409970afa",
   "metadata": {},
   "outputs": [
    {
     "data": {
      "text/plain": [
       "Value(data=5.0)"
      ]
     },
     "execution_count": 31,
     "metadata": {},
     "output_type": "execute_result"
    }
   ],
   "source": [
    "# 通过将 2 即(other)包装为一个Value来解决这个问题\n",
    "x.__add__(2)"
   ]
  },
  {
   "cell_type": "markdown",
   "id": "9ee0c4d4-96e8-444a-bdb7-9af9100d1a73",
   "metadata": {},
   "source": [
    "```\n",
    "---------------------------------------------------------------------------\n",
    "AttributeError                            Traceback (most recent call last)\n",
    "Cell In[27], line 1\n",
    "----> 1 x.__add__(2)\n",
    "\n",
    "Cell In[15], line 15, in Value.__add__(self, other)\n",
    "     13 def __add__(self, other): \n",
    "     14     # self, other 这两个子结点, 产生父结点 out\n",
    "---> 15     out = Value(self.data + other.data, (self, other), '+')\n",
    "     17     def _backward(): \n",
    "     18         self.grad += 1.0 * out.grad\n",
    "\n",
    "AttributeError: 'int' object has no attribute 'data'\n",
    "```"
   ]
  },
  {
   "cell_type": "code",
   "execution_count": 32,
   "id": "f8c73240-6a1c-4564-a2d1-98fd89f98982",
   "metadata": {},
   "outputs": [
    {
     "data": {
      "text/plain": [
       "Value(data=5.0)"
      ]
     },
     "execution_count": 32,
     "metadata": {},
     "output_type": "execute_result"
    }
   ],
   "source": [
    "2 + x "
   ]
  },
  {
   "cell_type": "code",
   "execution_count": 33,
   "id": "a8e8fc4a-1912-476a-9a38-bb9a36e7ebb9",
   "metadata": {},
   "outputs": [
    {
     "data": {
      "text/plain": [
       "Value(data=6.0)"
      ]
     },
     "execution_count": 33,
     "metadata": {},
     "output_type": "execute_result"
    }
   ],
   "source": [
    "# 同理\n",
    "x * 2"
   ]
  },
  {
   "cell_type": "code",
   "execution_count": 34,
   "id": "12c17cdf-3dd7-4a65-810d-d4b3350731f4",
   "metadata": {},
   "outputs": [
    {
     "data": {
      "text/plain": [
       "Value(data=6.0)"
      ]
     },
     "execution_count": 34,
     "metadata": {},
     "output_type": "execute_result"
    }
   ],
   "source": [
    "# 等价于\n",
    "x.__mul__(2)"
   ]
  },
  {
   "cell_type": "code",
   "execution_count": 35,
   "id": "55199f3b-b9d5-4d4d-aee2-74161d3a586b",
   "metadata": {},
   "outputs": [
    {
     "data": {
      "text/plain": [
       "Value(data=6.0)"
      ]
     },
     "execution_count": 35,
     "metadata": {},
     "output_type": "execute_result"
    }
   ],
   "source": [
    "2 * x \n",
    "# 但是没方法\n",
    "# 2.__mul__(x)"
   ]
  },
  {
   "cell_type": "markdown",
   "id": "a8936f1b-f2bb-4152-812b-75b55c09ace8",
   "metadata": {},
   "source": [
    "```\n",
    "---------------------------------------------------------------------------\n",
    "TypeError                                 Traceback (most recent call last)\n",
    "Cell In[35], line 1\n",
    "----> 1 2 * x \n",
    "\n",
    "TypeError: unsupported operand type(s) for *: 'int' and 'Value'\n",
    "``` "
   ]
  },
  {
   "cell_type": "code",
   "execution_count": null,
   "id": "5f8f03fe-bf71-47ee-bcf9-1544af724c14",
   "metadata": {},
   "outputs": [],
   "source": []
  },
  {
   "cell_type": "code",
   "execution_count": 38,
   "id": "135be2d9-ff55-49bc-b786-cb4b97963699",
   "metadata": {},
   "outputs": [
    {
     "data": {
      "text/plain": [
       "Value(data=7.38905609893065)"
      ]
     },
     "execution_count": 38,
     "metadata": {},
     "output_type": "execute_result"
    }
   ],
   "source": [
    "### exp part \n",
    "a = Value(2.0, label='a')\n",
    "a.exp()"
   ]
  },
  {
   "cell_type": "code",
   "execution_count": 39,
   "id": "4e20a2be-6510-4020-b575-0e14f61b6ea8",
   "metadata": {},
   "outputs": [],
   "source": [
    "a.backward()"
   ]
  },
  {
   "cell_type": "code",
   "execution_count": 40,
   "id": "307cb87c-2e19-4e99-a864-67c42a63357e",
   "metadata": {},
   "outputs": [
    {
     "data": {
      "text/plain": [
       "1.0"
      ]
     },
     "execution_count": 40,
     "metadata": {},
     "output_type": "execute_result"
    }
   ],
   "source": [
    "a.grad"
   ]
  },
  {
   "cell_type": "code",
   "execution_count": null,
   "id": "3de99f25-7a40-4b66-905e-bdd3d45470f0",
   "metadata": {},
   "outputs": [],
   "source": []
  },
  {
   "cell_type": "code",
   "execution_count": null,
   "id": "96a17658-e722-4cce-99c9-93f6f8fe5519",
   "metadata": {},
   "outputs": [],
   "source": []
  },
  {
   "cell_type": "code",
   "execution_count": null,
   "id": "e0af29ea-6ba6-4290-8dfe-e0bf554ac1e7",
   "metadata": {},
   "outputs": [],
   "source": []
  },
  {
   "cell_type": "markdown",
   "id": "d34e4554-a90b-4b26-b2e2-1b0d16bc8209",
   "metadata": {},
   "source": [
    "## 这里最聪明的一点在于用乘法和加法来实现了除法和减法, 这样就不需要重写他们的梯度函数!!! "
   ]
  },
  {
   "cell_type": "code",
   "execution_count": 92,
   "id": "3d115786-7709-4820-93ae-30ffe4ece497",
   "metadata": {},
   "outputs": [
    {
     "data": {
      "image/svg+xml": [
       "<?xml version=\"1.0\" encoding=\"UTF-8\" standalone=\"no\"?>\n",
       "<!DOCTYPE svg PUBLIC \"-//W3C//DTD SVG 1.1//EN\"\n",
       " \"http://www.w3.org/Graphics/SVG/1.1/DTD/svg11.dtd\">\n",
       "<!-- Generated by graphviz version 2.43.0 (0)\n",
       " -->\n",
       "<!-- Title: %3 Pages: 1 -->\n",
       "<svg width=\"3488pt\" height=\"210pt\"\n",
       " viewBox=\"0.00 0.00 3487.60 210.00\" xmlns=\"http://www.w3.org/2000/svg\" xmlns:xlink=\"http://www.w3.org/1999/xlink\">\n",
       "<g id=\"graph0\" class=\"graph\" transform=\"scale(1 1) rotate(0) translate(4 206)\">\n",
       "<title>%3</title>\n",
       "<polygon fill=\"white\" stroke=\"transparent\" points=\"-4,4 -4,-206 3483.6,-206 3483.6,4 -4,4\"/>\n",
       "<!-- 140083982874656 -->\n",
       "<g id=\"node1\" class=\"node\">\n",
       "<title>140083982874656</title>\n",
       "<polygon fill=\"none\" stroke=\"black\" points=\"1252,-54.5 1252,-90.5 1484,-90.5 1484,-54.5 1252,-54.5\"/>\n",
       "<text text-anchor=\"middle\" x=\"1265\" y=\"-68.8\" font-family=\"Times,serif\" font-size=\"14.00\">n</text>\n",
       "<polyline fill=\"none\" stroke=\"black\" points=\"1278,-54.5 1278,-90.5 \"/>\n",
       "<text text-anchor=\"middle\" x=\"1329\" y=\"-68.8\" font-family=\"Times,serif\" font-size=\"14.00\">data 0.8814</text>\n",
       "<polyline fill=\"none\" stroke=\"black\" points=\"1380,-54.5 1380,-90.5 \"/>\n",
       "<text text-anchor=\"middle\" x=\"1432\" y=\"-68.8\" font-family=\"Times,serif\" font-size=\"14.00\">grad 0.5000</text>\n",
       "</g>\n",
       "<!-- 140083982874752* -->\n",
       "<g id=\"node10\" class=\"node\">\n",
       "<title>140083982874752*</title>\n",
       "<ellipse fill=\"none\" stroke=\"black\" cx=\"1560\" cy=\"-99.5\" rx=\"27\" ry=\"18\"/>\n",
       "<text text-anchor=\"middle\" x=\"1560\" y=\"-95.8\" font-family=\"Times,serif\" font-size=\"14.00\">*</text>\n",
       "</g>\n",
       "<!-- 140083982874656&#45;&gt;140083982874752* -->\n",
       "<g id=\"edge22\" class=\"edge\">\n",
       "<title>140083982874656&#45;&gt;140083982874752*</title>\n",
       "<path fill=\"none\" stroke=\"black\" d=\"M1484.18,-88.87C1498.26,-90.87 1511.72,-92.78 1523.25,-94.42\"/>\n",
       "<polygon fill=\"black\" stroke=\"black\" points=\"1522.85,-97.9 1533.25,-95.84 1523.84,-90.97 1522.85,-97.9\"/>\n",
       "</g>\n",
       "<!-- 140083982874656+ -->\n",
       "<g id=\"node2\" class=\"node\">\n",
       "<title>140083982874656+</title>\n",
       "<ellipse fill=\"none\" stroke=\"black\" cx=\"1176\" cy=\"-72.5\" rx=\"27\" ry=\"18\"/>\n",
       "<text text-anchor=\"middle\" x=\"1176\" y=\"-68.8\" font-family=\"Times,serif\" font-size=\"14.00\">+</text>\n",
       "</g>\n",
       "<!-- 140083982874656+&#45;&gt;140083982874656 -->\n",
       "<g id=\"edge1\" class=\"edge\">\n",
       "<title>140083982874656+&#45;&gt;140083982874656</title>\n",
       "<path fill=\"none\" stroke=\"black\" d=\"M1203.02,-72.5C1213.84,-72.5 1227.24,-72.5 1241.7,-72.5\"/>\n",
       "<polygon fill=\"black\" stroke=\"black\" points=\"1241.85,-76 1251.85,-72.5 1241.85,-69 1241.85,-76\"/>\n",
       "</g>\n",
       "<!-- 140083989116960 -->\n",
       "<g id=\"node3\" class=\"node\">\n",
       "<title>140083989116960</title>\n",
       "<polygon fill=\"none\" stroke=\"black\" points=\"377.5,-110.5 377.5,-146.5 645.5,-146.5 645.5,-110.5 377.5,-110.5\"/>\n",
       "<text text-anchor=\"middle\" x=\"408.5\" y=\"-124.8\" font-family=\"Times,serif\" font-size=\"14.00\">x2*w2</text>\n",
       "<polyline fill=\"none\" stroke=\"black\" points=\"439.5,-110.5 439.5,-146.5 \"/>\n",
       "<text text-anchor=\"middle\" x=\"490.5\" y=\"-124.8\" font-family=\"Times,serif\" font-size=\"14.00\">data 0.0000</text>\n",
       "<polyline fill=\"none\" stroke=\"black\" points=\"541.5,-110.5 541.5,-146.5 \"/>\n",
       "<text text-anchor=\"middle\" x=\"593.5\" y=\"-124.8\" font-family=\"Times,serif\" font-size=\"14.00\">grad 0.5000</text>\n",
       "</g>\n",
       "<!-- 140083989114128+ -->\n",
       "<g id=\"node20\" class=\"node\">\n",
       "<title>140083989114128+</title>\n",
       "<ellipse fill=\"none\" stroke=\"black\" cx=\"711\" cy=\"-100.5\" rx=\"27\" ry=\"18\"/>\n",
       "<text text-anchor=\"middle\" x=\"711\" y=\"-96.8\" font-family=\"Times,serif\" font-size=\"14.00\">+</text>\n",
       "</g>\n",
       "<!-- 140083989116960&#45;&gt;140083989114128+ -->\n",
       "<g id=\"edge18\" class=\"edge\">\n",
       "<title>140083989116960&#45;&gt;140083989114128+</title>\n",
       "<path fill=\"none\" stroke=\"black\" d=\"M639.53,-110.49C652.09,-108.71 663.99,-107.02 674.3,-105.56\"/>\n",
       "<polygon fill=\"black\" stroke=\"black\" points=\"675.03,-108.99 684.44,-104.12 674.05,-102.06 675.03,-108.99\"/>\n",
       "</g>\n",
       "<!-- 140083989116960* -->\n",
       "<g id=\"node4\" class=\"node\">\n",
       "<title>140083989116960*</title>\n",
       "<ellipse fill=\"none\" stroke=\"black\" cx=\"312\" cy=\"-128.5\" rx=\"27\" ry=\"18\"/>\n",
       "<text text-anchor=\"middle\" x=\"312\" y=\"-124.8\" font-family=\"Times,serif\" font-size=\"14.00\">*</text>\n",
       "</g>\n",
       "<!-- 140083989116960*&#45;&gt;140083989116960 -->\n",
       "<g id=\"edge2\" class=\"edge\">\n",
       "<title>140083989116960*&#45;&gt;140083989116960</title>\n",
       "<path fill=\"none\" stroke=\"black\" d=\"M339.23,-128.5C347.26,-128.5 356.72,-128.5 366.99,-128.5\"/>\n",
       "<polygon fill=\"black\" stroke=\"black\" points=\"367.08,-132 377.08,-128.5 367.08,-125 367.08,-132\"/>\n",
       "</g>\n",
       "<!-- 140083989118880 -->\n",
       "<g id=\"node5\" class=\"node\">\n",
       "<title>140083989118880</title>\n",
       "<polygon fill=\"none\" stroke=\"black\" points=\"2.5,-165.5 2.5,-201.5 246.5,-201.5 246.5,-165.5 2.5,-165.5\"/>\n",
       "<text text-anchor=\"middle\" x=\"21.5\" y=\"-179.8\" font-family=\"Times,serif\" font-size=\"14.00\">w2</text>\n",
       "<polyline fill=\"none\" stroke=\"black\" points=\"40.5,-165.5 40.5,-201.5 \"/>\n",
       "<text text-anchor=\"middle\" x=\"91.5\" y=\"-179.8\" font-family=\"Times,serif\" font-size=\"14.00\">data 1.0000</text>\n",
       "<polyline fill=\"none\" stroke=\"black\" points=\"142.5,-165.5 142.5,-201.5 \"/>\n",
       "<text text-anchor=\"middle\" x=\"194.5\" y=\"-179.8\" font-family=\"Times,serif\" font-size=\"14.00\">grad 0.0000</text>\n",
       "</g>\n",
       "<!-- 140083989118880&#45;&gt;140083989116960* -->\n",
       "<g id=\"edge16\" class=\"edge\">\n",
       "<title>140083989118880&#45;&gt;140083989116960*</title>\n",
       "<path fill=\"none\" stroke=\"black\" d=\"M218.13,-165.46C228.63,-162.77 239.1,-159.78 249,-156.5 259.71,-152.96 271.05,-148.16 281.07,-143.54\"/>\n",
       "<polygon fill=\"black\" stroke=\"black\" points=\"282.67,-146.66 290.2,-139.21 279.67,-140.33 282.67,-146.66\"/>\n",
       "</g>\n",
       "<!-- 140083982873168 -->\n",
       "<g id=\"node6\" class=\"node\">\n",
       "<title>140083982873168</title>\n",
       "<polygon fill=\"none\" stroke=\"black\" points=\"1976.6,-26.5 1976.6,-62.5 2239.6,-62.5 2239.6,-26.5 1976.6,-26.5\"/>\n",
       "<text text-anchor=\"middle\" x=\"2002.6\" y=\"-40.8\" font-family=\"Times,serif\" font-size=\"14.00\">Cons</text>\n",
       "<polyline fill=\"none\" stroke=\"black\" points=\"2028.6,-26.5 2028.6,-62.5 \"/>\n",
       "<text text-anchor=\"middle\" x=\"2082.1\" y=\"-40.8\" font-family=\"Times,serif\" font-size=\"14.00\">data &#45;1.0000</text>\n",
       "<polyline fill=\"none\" stroke=\"black\" points=\"2135.6,-26.5 2135.6,-62.5 \"/>\n",
       "<text text-anchor=\"middle\" x=\"2187.6\" y=\"-40.8\" font-family=\"Times,serif\" font-size=\"14.00\">grad 0.1464</text>\n",
       "</g>\n",
       "<!-- 140083982873264+ -->\n",
       "<g id=\"node15\" class=\"node\">\n",
       "<title>140083982873264+</title>\n",
       "<ellipse fill=\"none\" stroke=\"black\" cx=\"2302.6\" cy=\"-71.5\" rx=\"27\" ry=\"18\"/>\n",
       "<text text-anchor=\"middle\" x=\"2302.6\" y=\"-67.8\" font-family=\"Times,serif\" font-size=\"14.00\">+</text>\n",
       "</g>\n",
       "<!-- 140083982873168&#45;&gt;140083982873264+ -->\n",
       "<g id=\"edge25\" class=\"edge\">\n",
       "<title>140083982873168&#45;&gt;140083982873264+</title>\n",
       "<path fill=\"none\" stroke=\"black\" d=\"M2237.5,-62.51C2247.79,-63.95 2257.53,-65.32 2266.17,-66.53\"/>\n",
       "<polygon fill=\"black\" stroke=\"black\" points=\"2265.73,-70 2276.12,-67.93 2266.7,-63.07 2265.73,-70\"/>\n",
       "</g>\n",
       "<!-- 140083982872688 -->\n",
       "<g id=\"node7\" class=\"node\">\n",
       "<title>140083982872688</title>\n",
       "<polygon fill=\"none\" stroke=\"black\" points=\"3248.6,-80.5 3248.6,-116.5 3479.6,-116.5 3479.6,-80.5 3248.6,-80.5\"/>\n",
       "<text text-anchor=\"middle\" x=\"3261.1\" y=\"-94.8\" font-family=\"Times,serif\" font-size=\"14.00\">o</text>\n",
       "<polyline fill=\"none\" stroke=\"black\" points=\"3273.6,-80.5 3273.6,-116.5 \"/>\n",
       "<text text-anchor=\"middle\" x=\"3324.6\" y=\"-94.8\" font-family=\"Times,serif\" font-size=\"14.00\">data 0.7071</text>\n",
       "<polyline fill=\"none\" stroke=\"black\" points=\"3375.6,-80.5 3375.6,-116.5 \"/>\n",
       "<text text-anchor=\"middle\" x=\"3427.6\" y=\"-94.8\" font-family=\"Times,serif\" font-size=\"14.00\">grad 1.0000</text>\n",
       "</g>\n",
       "<!-- 140083982872688* -->\n",
       "<g id=\"node8\" class=\"node\">\n",
       "<title>140083982872688*</title>\n",
       "<ellipse fill=\"none\" stroke=\"black\" cx=\"3185.6\" cy=\"-98.5\" rx=\"27\" ry=\"18\"/>\n",
       "<text text-anchor=\"middle\" x=\"3185.6\" y=\"-94.8\" font-family=\"Times,serif\" font-size=\"14.00\">*</text>\n",
       "</g>\n",
       "<!-- 140083982872688*&#45;&gt;140083982872688 -->\n",
       "<g id=\"edge3\" class=\"edge\">\n",
       "<title>140083982872688*&#45;&gt;140083982872688</title>\n",
       "<path fill=\"none\" stroke=\"black\" d=\"M3212.64,-98.5C3220.18,-98.5 3228.96,-98.5 3238.41,-98.5\"/>\n",
       "<polygon fill=\"black\" stroke=\"black\" points=\"3238.49,-102 3248.49,-98.5 3238.49,-95 3238.49,-102\"/>\n",
       "</g>\n",
       "<!-- 140083982874752 -->\n",
       "<g id=\"node9\" class=\"node\">\n",
       "<title>140083982874752</title>\n",
       "<polygon fill=\"none\" stroke=\"black\" points=\"1623,-81.5 1623,-117.5 1850,-117.5 1850,-81.5 1623,-81.5\"/>\n",
       "<text text-anchor=\"middle\" x=\"1633.5\" y=\"-95.8\" font-family=\"Times,serif\" font-size=\"14.00\"> </text>\n",
       "<polyline fill=\"none\" stroke=\"black\" points=\"1644,-81.5 1644,-117.5 \"/>\n",
       "<text text-anchor=\"middle\" x=\"1695\" y=\"-95.8\" font-family=\"Times,serif\" font-size=\"14.00\">data 1.7627</text>\n",
       "<polyline fill=\"none\" stroke=\"black\" points=\"1746,-81.5 1746,-117.5 \"/>\n",
       "<text text-anchor=\"middle\" x=\"1798\" y=\"-95.8\" font-family=\"Times,serif\" font-size=\"14.00\">grad 0.2500</text>\n",
       "</g>\n",
       "<!-- 140083982876480exp -->\n",
       "<g id=\"node23\" class=\"node\">\n",
       "<title>140083982876480exp</title>\n",
       "<ellipse fill=\"none\" stroke=\"black\" cx=\"1913.3\" cy=\"-99.5\" rx=\"27.1\" ry=\"18\"/>\n",
       "<text text-anchor=\"middle\" x=\"1913.3\" y=\"-95.8\" font-family=\"Times,serif\" font-size=\"14.00\">exp</text>\n",
       "</g>\n",
       "<!-- 140083982874752&#45;&gt;140083982876480exp -->\n",
       "<g id=\"edge12\" class=\"edge\">\n",
       "<title>140083982874752&#45;&gt;140083982876480exp</title>\n",
       "<path fill=\"none\" stroke=\"black\" d=\"M1850.18,-99.5C1859.26,-99.5 1867.95,-99.5 1875.79,-99.5\"/>\n",
       "<polygon fill=\"black\" stroke=\"black\" points=\"1875.93,-103 1885.93,-99.5 1875.93,-96 1875.93,-103\"/>\n",
       "</g>\n",
       "<!-- 140083982874752*&#45;&gt;140083982874752 -->\n",
       "<g id=\"edge4\" class=\"edge\">\n",
       "<title>140083982874752*&#45;&gt;140083982874752</title>\n",
       "<path fill=\"none\" stroke=\"black\" d=\"M1587.12,-99.5C1594.67,-99.5 1603.45,-99.5 1612.9,-99.5\"/>\n",
       "<polygon fill=\"black\" stroke=\"black\" points=\"1612.95,-103 1622.95,-99.5 1612.95,-96 1612.95,-103\"/>\n",
       "</g>\n",
       "<!-- 140083989106304 -->\n",
       "<g id=\"node11\" class=\"node\">\n",
       "<title>140083989106304</title>\n",
       "<polygon fill=\"none\" stroke=\"black\" points=\"375,-55.5 375,-91.5 648,-91.5 648,-55.5 375,-55.5\"/>\n",
       "<text text-anchor=\"middle\" x=\"406\" y=\"-69.8\" font-family=\"Times,serif\" font-size=\"14.00\">x1*w1</text>\n",
       "<polyline fill=\"none\" stroke=\"black\" points=\"437,-55.5 437,-91.5 \"/>\n",
       "<text text-anchor=\"middle\" x=\"490.5\" y=\"-69.8\" font-family=\"Times,serif\" font-size=\"14.00\">data &#45;6.0000</text>\n",
       "<polyline fill=\"none\" stroke=\"black\" points=\"544,-55.5 544,-91.5 \"/>\n",
       "<text text-anchor=\"middle\" x=\"596\" y=\"-69.8\" font-family=\"Times,serif\" font-size=\"14.00\">grad 0.5000</text>\n",
       "</g>\n",
       "<!-- 140083989106304&#45;&gt;140083989114128+ -->\n",
       "<g id=\"edge23\" class=\"edge\">\n",
       "<title>140083989106304&#45;&gt;140083989114128+</title>\n",
       "<path fill=\"none\" stroke=\"black\" d=\"M644.24,-91.51C655.12,-93 665.4,-94.4 674.45,-95.64\"/>\n",
       "<polygon fill=\"black\" stroke=\"black\" points=\"674.11,-99.13 684.49,-97.01 675.05,-92.19 674.11,-99.13\"/>\n",
       "</g>\n",
       "<!-- 140083989106304* -->\n",
       "<g id=\"node12\" class=\"node\">\n",
       "<title>140083989106304*</title>\n",
       "<ellipse fill=\"none\" stroke=\"black\" cx=\"312\" cy=\"-73.5\" rx=\"27\" ry=\"18\"/>\n",
       "<text text-anchor=\"middle\" x=\"312\" y=\"-69.8\" font-family=\"Times,serif\" font-size=\"14.00\">*</text>\n",
       "</g>\n",
       "<!-- 140083989106304*&#45;&gt;140083989106304 -->\n",
       "<g id=\"edge5\" class=\"edge\">\n",
       "<title>140083989106304*&#45;&gt;140083989106304</title>\n",
       "<path fill=\"none\" stroke=\"black\" d=\"M339.23,-73.5C346.7,-73.5 355.41,-73.5 364.87,-73.5\"/>\n",
       "<polygon fill=\"black\" stroke=\"black\" points=\"364.98,-77 374.98,-73.5 364.98,-70 364.98,-77\"/>\n",
       "</g>\n",
       "<!-- 140083989115568 -->\n",
       "<g id=\"node13\" class=\"node\">\n",
       "<title>140083989115568</title>\n",
       "<polygon fill=\"none\" stroke=\"black\" points=\"0,-55.5 0,-91.5 249,-91.5 249,-55.5 0,-55.5\"/>\n",
       "<text text-anchor=\"middle\" x=\"19\" y=\"-69.8\" font-family=\"Times,serif\" font-size=\"14.00\">w1</text>\n",
       "<polyline fill=\"none\" stroke=\"black\" points=\"38,-55.5 38,-91.5 \"/>\n",
       "<text text-anchor=\"middle\" x=\"91.5\" y=\"-69.8\" font-family=\"Times,serif\" font-size=\"14.00\">data &#45;3.0000</text>\n",
       "<polyline fill=\"none\" stroke=\"black\" points=\"145,-55.5 145,-91.5 \"/>\n",
       "<text text-anchor=\"middle\" x=\"197\" y=\"-69.8\" font-family=\"Times,serif\" font-size=\"14.00\">grad 1.0000</text>\n",
       "</g>\n",
       "<!-- 140083989115568&#45;&gt;140083989106304* -->\n",
       "<g id=\"edge11\" class=\"edge\">\n",
       "<title>140083989115568&#45;&gt;140083989106304*</title>\n",
       "<path fill=\"none\" stroke=\"black\" d=\"M249.23,-73.5C258.37,-73.5 267.05,-73.5 274.87,-73.5\"/>\n",
       "<polygon fill=\"black\" stroke=\"black\" points=\"274.95,-77 284.95,-73.5 274.95,-70 274.95,-77\"/>\n",
       "</g>\n",
       "<!-- 140083982873264 -->\n",
       "<g id=\"node14\" class=\"node\">\n",
       "<title>140083982873264</title>\n",
       "<polygon fill=\"none\" stroke=\"black\" points=\"2632.6,-53.5 2632.6,-89.5 2859.6,-89.5 2859.6,-53.5 2632.6,-53.5\"/>\n",
       "<text text-anchor=\"middle\" x=\"2643.1\" y=\"-67.8\" font-family=\"Times,serif\" font-size=\"14.00\"> </text>\n",
       "<polyline fill=\"none\" stroke=\"black\" points=\"2653.6,-53.5 2653.6,-89.5 \"/>\n",
       "<text text-anchor=\"middle\" x=\"2704.6\" y=\"-67.8\" font-family=\"Times,serif\" font-size=\"14.00\">data 4.8284</text>\n",
       "<polyline fill=\"none\" stroke=\"black\" points=\"2755.6,-53.5 2755.6,-89.5 \"/>\n",
       "<text text-anchor=\"middle\" x=\"2807.6\" y=\"-67.8\" font-family=\"Times,serif\" font-size=\"14.00\">grad 0.1464</text>\n",
       "</g>\n",
       "<!-- 140083982873264&#45;&gt;140083982872688* -->\n",
       "<g id=\"edge19\" class=\"edge\">\n",
       "<title>140083982873264&#45;&gt;140083982872688*</title>\n",
       "<path fill=\"none\" stroke=\"black\" d=\"M2859.76,-78.45C2955.02,-84.33 3085.68,-92.4 3148.28,-96.26\"/>\n",
       "<polygon fill=\"black\" stroke=\"black\" points=\"3148.24,-99.76 3158.44,-96.89 3148.68,-92.78 3148.24,-99.76\"/>\n",
       "</g>\n",
       "<!-- 140083982873264+&#45;&gt;140083982873264 -->\n",
       "<g id=\"edge6\" class=\"edge\">\n",
       "<title>140083982873264+&#45;&gt;140083982873264</title>\n",
       "<path fill=\"none\" stroke=\"black\" d=\"M2329.89,-71.5C2386.16,-71.5 2521.31,-71.5 2622.23,-71.5\"/>\n",
       "<polygon fill=\"black\" stroke=\"black\" points=\"2622.5,-75 2632.5,-71.5 2622.5,-68 2622.5,-75\"/>\n",
       "</g>\n",
       "<!-- 140083989112016 -->\n",
       "<g id=\"node16\" class=\"node\">\n",
       "<title>140083989112016</title>\n",
       "<polygon fill=\"none\" stroke=\"black\" points=\"4.5,-110.5 4.5,-146.5 244.5,-146.5 244.5,-110.5 4.5,-110.5\"/>\n",
       "<text text-anchor=\"middle\" x=\"21.5\" y=\"-124.8\" font-family=\"Times,serif\" font-size=\"14.00\">x2</text>\n",
       "<polyline fill=\"none\" stroke=\"black\" points=\"38.5,-110.5 38.5,-146.5 \"/>\n",
       "<text text-anchor=\"middle\" x=\"89.5\" y=\"-124.8\" font-family=\"Times,serif\" font-size=\"14.00\">data 0.0000</text>\n",
       "<polyline fill=\"none\" stroke=\"black\" points=\"140.5,-110.5 140.5,-146.5 \"/>\n",
       "<text text-anchor=\"middle\" x=\"192.5\" y=\"-124.8\" font-family=\"Times,serif\" font-size=\"14.00\">grad 0.5000</text>\n",
       "</g>\n",
       "<!-- 140083989112016&#45;&gt;140083989116960* -->\n",
       "<g id=\"edge21\" class=\"edge\">\n",
       "<title>140083989112016&#45;&gt;140083989116960*</title>\n",
       "<path fill=\"none\" stroke=\"black\" d=\"M244.55,-128.5C255.31,-128.5 265.54,-128.5 274.62,-128.5\"/>\n",
       "<polygon fill=\"black\" stroke=\"black\" points=\"274.7,-132 284.7,-128.5 274.7,-125 274.7,-132\"/>\n",
       "</g>\n",
       "<!-- 140083982871296 -->\n",
       "<g id=\"node17\" class=\"node\">\n",
       "<title>140083982871296</title>\n",
       "<polygon fill=\"none\" stroke=\"black\" points=\"2365.6,-108.5 2365.6,-144.5 2596.6,-144.5 2596.6,-108.5 2365.6,-108.5\"/>\n",
       "<text text-anchor=\"middle\" x=\"2376.1\" y=\"-122.8\" font-family=\"Times,serif\" font-size=\"14.00\"> </text>\n",
       "<polyline fill=\"none\" stroke=\"black\" points=\"2386.6,-108.5 2386.6,-144.5 \"/>\n",
       "<text text-anchor=\"middle\" x=\"2437.6\" y=\"-122.8\" font-family=\"Times,serif\" font-size=\"14.00\">data 6.8284</text>\n",
       "<polyline fill=\"none\" stroke=\"black\" points=\"2488.6,-108.5 2488.6,-144.5 \"/>\n",
       "<text text-anchor=\"middle\" x=\"2542.6\" y=\"-122.8\" font-family=\"Times,serif\" font-size=\"14.00\">grad &#45;0.1036</text>\n",
       "</g>\n",
       "<!-- 140083982872448**&#45;1 -->\n",
       "<g id=\"node26\" class=\"node\">\n",
       "<title>140083982872448**&#45;1</title>\n",
       "<ellipse fill=\"none\" stroke=\"black\" cx=\"2746.1\" cy=\"-126.5\" rx=\"28.7\" ry=\"18\"/>\n",
       "<text text-anchor=\"middle\" x=\"2746.1\" y=\"-122.8\" font-family=\"Times,serif\" font-size=\"14.00\">**&#45;1</text>\n",
       "</g>\n",
       "<!-- 140083982871296&#45;&gt;140083982872448**&#45;1 -->\n",
       "<g id=\"edge15\" class=\"edge\">\n",
       "<title>140083982871296&#45;&gt;140083982872448**&#45;1</title>\n",
       "<path fill=\"none\" stroke=\"black\" d=\"M2596.69,-126.5C2636.38,-126.5 2678.17,-126.5 2707.25,-126.5\"/>\n",
       "<polygon fill=\"black\" stroke=\"black\" points=\"2707.37,-130 2717.37,-126.5 2707.37,-123 2707.37,-130\"/>\n",
       "</g>\n",
       "<!-- 140083982871296+ -->\n",
       "<g id=\"node18\" class=\"node\">\n",
       "<title>140083982871296+</title>\n",
       "<ellipse fill=\"none\" stroke=\"black\" cx=\"2302.6\" cy=\"-126.5\" rx=\"27\" ry=\"18\"/>\n",
       "<text text-anchor=\"middle\" x=\"2302.6\" y=\"-122.8\" font-family=\"Times,serif\" font-size=\"14.00\">+</text>\n",
       "</g>\n",
       "<!-- 140083982871296+&#45;&gt;140083982871296 -->\n",
       "<g id=\"edge7\" class=\"edge\">\n",
       "<title>140083982871296+&#45;&gt;140083982871296</title>\n",
       "<path fill=\"none\" stroke=\"black\" d=\"M2329.64,-126.5C2337.18,-126.5 2345.96,-126.5 2355.41,-126.5\"/>\n",
       "<polygon fill=\"black\" stroke=\"black\" points=\"2355.49,-130 2365.49,-126.5 2355.49,-123 2355.49,-130\"/>\n",
       "</g>\n",
       "<!-- 140083989114128 -->\n",
       "<g id=\"node19\" class=\"node\">\n",
       "<title>140083989114128</title>\n",
       "<polygon fill=\"none\" stroke=\"black\" points=\"774,-82.5 774,-118.5 1113,-118.5 1113,-82.5 774,-82.5\"/>\n",
       "<text text-anchor=\"middle\" x=\"838\" y=\"-96.8\" font-family=\"Times,serif\" font-size=\"14.00\">x1*w1 + x2*w2</text>\n",
       "<polyline fill=\"none\" stroke=\"black\" points=\"902,-82.5 902,-118.5 \"/>\n",
       "<text text-anchor=\"middle\" x=\"955.5\" y=\"-96.8\" font-family=\"Times,serif\" font-size=\"14.00\">data &#45;6.0000</text>\n",
       "<polyline fill=\"none\" stroke=\"black\" points=\"1009,-82.5 1009,-118.5 \"/>\n",
       "<text text-anchor=\"middle\" x=\"1061\" y=\"-96.8\" font-family=\"Times,serif\" font-size=\"14.00\">grad 0.5000</text>\n",
       "</g>\n",
       "<!-- 140083989114128&#45;&gt;140083982874656+ -->\n",
       "<g id=\"edge27\" class=\"edge\">\n",
       "<title>140083989114128&#45;&gt;140083982874656+</title>\n",
       "<path fill=\"none\" stroke=\"black\" d=\"M1092.76,-82.49C1109.86,-80.41 1125.9,-78.46 1139.2,-76.85\"/>\n",
       "<polygon fill=\"black\" stroke=\"black\" points=\"1139.74,-80.31 1149.24,-75.63 1138.89,-73.36 1139.74,-80.31\"/>\n",
       "</g>\n",
       "<!-- 140083989114128+&#45;&gt;140083989114128 -->\n",
       "<g id=\"edge8\" class=\"edge\">\n",
       "<title>140083989114128+&#45;&gt;140083989114128</title>\n",
       "<path fill=\"none\" stroke=\"black\" d=\"M738.44,-100.5C745.81,-100.5 754.42,-100.5 763.84,-100.5\"/>\n",
       "<polygon fill=\"black\" stroke=\"black\" points=\"763.94,-104 773.94,-100.5 763.94,-97 763.94,-104\"/>\n",
       "</g>\n",
       "<!-- 140083982871344 -->\n",
       "<g id=\"node21\" class=\"node\">\n",
       "<title>140083982871344</title>\n",
       "<polygon fill=\"none\" stroke=\"black\" points=\"1977.1,-136.5 1977.1,-172.5 2239.1,-172.5 2239.1,-136.5 1977.1,-136.5\"/>\n",
       "<text text-anchor=\"middle\" x=\"2003.1\" y=\"-150.8\" font-family=\"Times,serif\" font-size=\"14.00\">Cons</text>\n",
       "<polyline fill=\"none\" stroke=\"black\" points=\"2029.1,-136.5 2029.1,-172.5 \"/>\n",
       "<text text-anchor=\"middle\" x=\"2080.1\" y=\"-150.8\" font-family=\"Times,serif\" font-size=\"14.00\">data 1.0000</text>\n",
       "<polyline fill=\"none\" stroke=\"black\" points=\"2131.1,-136.5 2131.1,-172.5 \"/>\n",
       "<text text-anchor=\"middle\" x=\"2185.1\" y=\"-150.8\" font-family=\"Times,serif\" font-size=\"14.00\">grad &#45;0.1036</text>\n",
       "</g>\n",
       "<!-- 140083982871344&#45;&gt;140083982871296+ -->\n",
       "<g id=\"edge28\" class=\"edge\">\n",
       "<title>140083982871344&#45;&gt;140083982871296+</title>\n",
       "<path fill=\"none\" stroke=\"black\" d=\"M2232.91,-136.49C2244.81,-134.76 2256.1,-133.12 2265.95,-131.68\"/>\n",
       "<polygon fill=\"black\" stroke=\"black\" points=\"2266.66,-135.12 2276.05,-130.22 2265.65,-128.19 2266.66,-135.12\"/>\n",
       "</g>\n",
       "<!-- 140083982876480 -->\n",
       "<g id=\"node22\" class=\"node\">\n",
       "<title>140083982876480</title>\n",
       "<polygon fill=\"none\" stroke=\"black\" points=\"1992.6,-81.5 1992.6,-117.5 2223.6,-117.5 2223.6,-81.5 1992.6,-81.5\"/>\n",
       "<text text-anchor=\"middle\" x=\"2005.1\" y=\"-95.8\" font-family=\"Times,serif\" font-size=\"14.00\">e</text>\n",
       "<polyline fill=\"none\" stroke=\"black\" points=\"2017.6,-81.5 2017.6,-117.5 \"/>\n",
       "<text text-anchor=\"middle\" x=\"2068.6\" y=\"-95.8\" font-family=\"Times,serif\" font-size=\"14.00\">data 5.8284</text>\n",
       "<polyline fill=\"none\" stroke=\"black\" points=\"2119.6,-81.5 2119.6,-117.5 \"/>\n",
       "<text text-anchor=\"middle\" x=\"2171.6\" y=\"-95.8\" font-family=\"Times,serif\" font-size=\"14.00\">grad 0.0429</text>\n",
       "</g>\n",
       "<!-- 140083982876480&#45;&gt;140083982873264+ -->\n",
       "<g id=\"edge20\" class=\"edge\">\n",
       "<title>140083982876480&#45;&gt;140083982873264+</title>\n",
       "<path fill=\"none\" stroke=\"black\" d=\"M2223.85,-82.81C2239.05,-80.6 2253.6,-78.48 2265.93,-76.69\"/>\n",
       "<polygon fill=\"black\" stroke=\"black\" points=\"2266.75,-80.11 2276.14,-75.2 2265.74,-73.18 2266.75,-80.11\"/>\n",
       "</g>\n",
       "<!-- 140083982876480&#45;&gt;140083982871296+ -->\n",
       "<g id=\"edge13\" class=\"edge\">\n",
       "<title>140083982876480&#45;&gt;140083982871296+</title>\n",
       "<path fill=\"none\" stroke=\"black\" d=\"M2223.85,-115.6C2238.92,-117.71 2253.36,-119.74 2265.62,-121.45\"/>\n",
       "<polygon fill=\"black\" stroke=\"black\" points=\"2265.41,-124.96 2275.79,-122.88 2266.38,-118.03 2265.41,-124.96\"/>\n",
       "</g>\n",
       "<!-- 140083982876480exp&#45;&gt;140083982876480 -->\n",
       "<g id=\"edge9\" class=\"edge\">\n",
       "<title>140083982876480exp&#45;&gt;140083982876480</title>\n",
       "<path fill=\"none\" stroke=\"black\" d=\"M1940.7,-99.5C1952.21,-99.5 1966.6,-99.5 1982.07,-99.5\"/>\n",
       "<polygon fill=\"black\" stroke=\"black\" points=\"1982.38,-103 1992.38,-99.5 1982.38,-96 1982.38,-103\"/>\n",
       "</g>\n",
       "<!-- 140083982874944 -->\n",
       "<g id=\"node24\" class=\"node\">\n",
       "<title>140083982874944</title>\n",
       "<polygon fill=\"none\" stroke=\"black\" points=\"1239,-109.5 1239,-145.5 1497,-145.5 1497,-109.5 1239,-109.5\"/>\n",
       "<text text-anchor=\"middle\" x=\"1265\" y=\"-123.8\" font-family=\"Times,serif\" font-size=\"14.00\">Cons</text>\n",
       "<polyline fill=\"none\" stroke=\"black\" points=\"1291,-109.5 1291,-145.5 \"/>\n",
       "<text text-anchor=\"middle\" x=\"1342\" y=\"-123.8\" font-family=\"Times,serif\" font-size=\"14.00\">data 2.0000</text>\n",
       "<polyline fill=\"none\" stroke=\"black\" points=\"1393,-109.5 1393,-145.5 \"/>\n",
       "<text text-anchor=\"middle\" x=\"1445\" y=\"-123.8\" font-family=\"Times,serif\" font-size=\"14.00\">grad 0.2203</text>\n",
       "</g>\n",
       "<!-- 140083982874944&#45;&gt;140083982874752* -->\n",
       "<g id=\"edge26\" class=\"edge\">\n",
       "<title>140083982874944&#45;&gt;140083982874752*</title>\n",
       "<path fill=\"none\" stroke=\"black\" d=\"M1491.21,-109.49C1502.85,-107.77 1513.89,-106.15 1523.56,-104.72\"/>\n",
       "<polygon fill=\"black\" stroke=\"black\" points=\"1524.08,-108.18 1533.47,-103.26 1523.06,-101.26 1524.08,-108.18\"/>\n",
       "</g>\n",
       "<!-- 140083982872448 -->\n",
       "<g id=\"node25\" class=\"node\">\n",
       "<title>140083982872448</title>\n",
       "<polygon fill=\"none\" stroke=\"black\" points=\"2895.6,-106.5 2895.6,-142.5 3122.6,-142.5 3122.6,-106.5 2895.6,-106.5\"/>\n",
       "<text text-anchor=\"middle\" x=\"2906.1\" y=\"-120.8\" font-family=\"Times,serif\" font-size=\"14.00\"> </text>\n",
       "<polyline fill=\"none\" stroke=\"black\" points=\"2916.6,-106.5 2916.6,-142.5 \"/>\n",
       "<text text-anchor=\"middle\" x=\"2967.6\" y=\"-120.8\" font-family=\"Times,serif\" font-size=\"14.00\">data 0.1464</text>\n",
       "<polyline fill=\"none\" stroke=\"black\" points=\"3018.6,-106.5 3018.6,-142.5 \"/>\n",
       "<text text-anchor=\"middle\" x=\"3070.6\" y=\"-120.8\" font-family=\"Times,serif\" font-size=\"14.00\">grad 4.8284</text>\n",
       "</g>\n",
       "<!-- 140083982872448&#45;&gt;140083982872688* -->\n",
       "<g id=\"edge24\" class=\"edge\">\n",
       "<title>140083982872448&#45;&gt;140083982872688*</title>\n",
       "<path fill=\"none\" stroke=\"black\" d=\"M3123.07,-107.67C3132.37,-106.28 3141.23,-104.96 3149.2,-103.77\"/>\n",
       "<polygon fill=\"black\" stroke=\"black\" points=\"3149.73,-107.23 3159.1,-102.3 3148.7,-100.31 3149.73,-107.23\"/>\n",
       "</g>\n",
       "<!-- 140083982872448**&#45;1&#45;&gt;140083982872448 -->\n",
       "<g id=\"edge10\" class=\"edge\">\n",
       "<title>140083982872448**&#45;1&#45;&gt;140083982872448</title>\n",
       "<path fill=\"none\" stroke=\"black\" d=\"M2775.03,-126.29C2801.75,-126.08 2843.99,-125.76 2885.21,-125.44\"/>\n",
       "<polygon fill=\"black\" stroke=\"black\" points=\"2885.4,-128.94 2895.37,-125.36 2885.35,-121.94 2885.4,-128.94\"/>\n",
       "</g>\n",
       "<!-- 140083989112736 -->\n",
       "<g id=\"node27\" class=\"node\">\n",
       "<title>140083989112736</title>\n",
       "<polygon fill=\"none\" stroke=\"black\" points=\"2.5,-0.5 2.5,-36.5 246.5,-36.5 246.5,-0.5 2.5,-0.5\"/>\n",
       "<text text-anchor=\"middle\" x=\"19.5\" y=\"-14.8\" font-family=\"Times,serif\" font-size=\"14.00\">x1</text>\n",
       "<polyline fill=\"none\" stroke=\"black\" points=\"36.5,-0.5 36.5,-36.5 \"/>\n",
       "<text text-anchor=\"middle\" x=\"87.5\" y=\"-14.8\" font-family=\"Times,serif\" font-size=\"14.00\">data 2.0000</text>\n",
       "<polyline fill=\"none\" stroke=\"black\" points=\"138.5,-0.5 138.5,-36.5 \"/>\n",
       "<text text-anchor=\"middle\" x=\"192.5\" y=\"-14.8\" font-family=\"Times,serif\" font-size=\"14.00\">grad &#45;1.5000</text>\n",
       "</g>\n",
       "<!-- 140083989112736&#45;&gt;140083989106304* -->\n",
       "<g id=\"edge17\" class=\"edge\">\n",
       "<title>140083989112736&#45;&gt;140083989106304*</title>\n",
       "<path fill=\"none\" stroke=\"black\" d=\"M218.13,-36.54C228.63,-39.23 239.1,-42.22 249,-45.5 259.71,-49.04 271.05,-53.84 281.07,-58.46\"/>\n",
       "<polygon fill=\"black\" stroke=\"black\" points=\"279.67,-61.67 290.2,-62.79 282.67,-55.34 279.67,-61.67\"/>\n",
       "</g>\n",
       "<!-- 140083989111248 -->\n",
       "<g id=\"node28\" class=\"node\">\n",
       "<title>140083989111248</title>\n",
       "<polygon fill=\"none\" stroke=\"black\" points=\"827.5,-27.5 827.5,-63.5 1059.5,-63.5 1059.5,-27.5 827.5,-27.5\"/>\n",
       "<text text-anchor=\"middle\" x=\"840.5\" y=\"-41.8\" font-family=\"Times,serif\" font-size=\"14.00\">b</text>\n",
       "<polyline fill=\"none\" stroke=\"black\" points=\"853.5,-27.5 853.5,-63.5 \"/>\n",
       "<text text-anchor=\"middle\" x=\"904.5\" y=\"-41.8\" font-family=\"Times,serif\" font-size=\"14.00\">data 6.8814</text>\n",
       "<polyline fill=\"none\" stroke=\"black\" points=\"955.5,-27.5 955.5,-63.5 \"/>\n",
       "<text text-anchor=\"middle\" x=\"1007.5\" y=\"-41.8\" font-family=\"Times,serif\" font-size=\"14.00\">grad 0.5000</text>\n",
       "</g>\n",
       "<!-- 140083989111248&#45;&gt;140083982874656+ -->\n",
       "<g id=\"edge14\" class=\"edge\">\n",
       "<title>140083989111248&#45;&gt;140083982874656+</title>\n",
       "<path fill=\"none\" stroke=\"black\" d=\"M1059.75,-59C1088.57,-62.38 1117.4,-65.75 1139.01,-68.28\"/>\n",
       "<polygon fill=\"black\" stroke=\"black\" points=\"1138.67,-71.77 1149.01,-69.46 1139.48,-64.82 1138.67,-71.77\"/>\n",
       "</g>\n",
       "</g>\n",
       "</svg>\n"
      ],
      "text/plain": [
       "<graphviz.graphs.Digraph at 0x7f67d809ad10>"
      ]
     },
     "execution_count": 92,
     "metadata": {},
     "output_type": "execute_result"
    }
   ],
   "source": [
    "# 实现了除法和减法之后,   将tanh展开\n",
    "# inputs x1, x2 \n",
    "x1 = Value(2.0, label='x1')\n",
    "x2 = Value(0.0, label='x2')\n",
    "\n",
    "# weights w1, w2 \n",
    "w1 = Value(-3.0, label='w1')\n",
    "w2 = Value(1.0, label='w2')\n",
    "\n",
    "# bias\n",
    "b = Value(6.8813735870195432, label='b')\n",
    "\n",
    "x1w1 = x1*w1; x1w1.label = 'x1*w1'\n",
    "x2w2 = x2*w2; x2w2.label = 'x2*w2'\n",
    "\n",
    "x1w1x2w2 = x1w1 + x2w2; x1w1x2w2.label = \"x1*w1 + x2*w2\"\n",
    "\n",
    "n = x1w1x2w2 + b; n.label='n' \n",
    "# print(n) \n",
    "\n",
    "# output \n",
    "# --------\n",
    "# o = n.tanh()\n",
    "# -------\n",
    "e = (2 * n).exp(); e.label='e'\n",
    "\n",
    "o = (e - 1) / (e + 1)\n",
    "o.label='o'\n",
    "o.backward()\n",
    "draw_dot(o)"
   ]
  },
  {
   "cell_type": "code",
   "execution_count": null,
   "id": "e40af139-79f3-40fe-aecc-2ed335545052",
   "metadata": {},
   "outputs": [],
   "source": []
  },
  {
   "cell_type": "code",
   "execution_count": null,
   "id": "a52d3c75-d681-416e-86db-18f3e47530d9",
   "metadata": {},
   "outputs": [],
   "source": []
  },
  {
   "cell_type": "code",
   "execution_count": null,
   "id": "8747c317-754c-4eb0-9985-604bd8a0726c",
   "metadata": {},
   "outputs": [],
   "source": []
  },
  {
   "cell_type": "code",
   "execution_count": null,
   "id": "2b917913-f8d9-4436-918d-8206a2358a8b",
   "metadata": {},
   "outputs": [],
   "source": []
  },
  {
   "cell_type": "code",
   "execution_count": 94,
   "id": "c4b90c05-f849-422f-be1b-4a8256b07338",
   "metadata": {},
   "outputs": [],
   "source": [
    "import torch"
   ]
  },
  {
   "cell_type": "code",
   "execution_count": 106,
   "id": "5d0604cc-aae7-40f9-bb9a-186a3b6874e2",
   "metadata": {},
   "outputs": [],
   "source": [
    "# python 浮点数默认64位精度 "
   ]
  },
  {
   "cell_type": "code",
   "execution_count": 97,
   "id": "0fb4206c-8e08-4417-b220-bb6b4fe30081",
   "metadata": {},
   "outputs": [],
   "source": [
    "# 而pytorch默认 32位精度, 所以为了保持一直, 这里转为了64位\n",
    "# 由于是叶节点, pytorch默认为不需要梯度, 所以需要指定为true\n",
    "\n",
    "x1 = torch.Tensor([2.0]).double()                   ; x1.requires_grad = True\n",
    "x2 = torch.Tensor([0.0]).double()                   ; x2.requires_grad = True\n",
    "w1 = torch.Tensor([-3.0]).double()                  ; w1.requires_grad = True\n",
    "w2 = torch.Tensor([1.0]).double()                   ; w2.requires_grad = True\n",
    "b = torch.Tensor([6.8813735870195432]).double()     ; b.requires_grad = True"
   ]
  },
  {
   "cell_type": "code",
   "execution_count": 98,
   "id": "e199643d-91a1-4300-b454-c979d8de3258",
   "metadata": {},
   "outputs": [],
   "source": [
    "n = x1*w1 + x2*w2 + b "
   ]
  },
  {
   "cell_type": "code",
   "execution_count": 99,
   "id": "c8116438-d508-4805-b725-0c45d6a4daef",
   "metadata": {},
   "outputs": [],
   "source": [
    "o = torch.tanh(n)"
   ]
  },
  {
   "cell_type": "code",
   "execution_count": 100,
   "id": "a8a5c045-bfb5-4aab-b0c8-c3a008de4fd5",
   "metadata": {},
   "outputs": [
    {
     "name": "stdout",
     "output_type": "stream",
     "text": [
      "0.7071066904050358\n"
     ]
    }
   ],
   "source": [
    "# item 是去掉张量的包装, 解包为元素\n",
    "print(o.data.item())"
   ]
  },
  {
   "cell_type": "code",
   "execution_count": 101,
   "id": "e64c0ce9-524d-474c-b5f0-e484a7b89ac0",
   "metadata": {},
   "outputs": [],
   "source": [
    "o.backward()"
   ]
  },
  {
   "cell_type": "code",
   "execution_count": 102,
   "id": "704cc0a0-aaea-4857-97bd-6f13363e90ad",
   "metadata": {},
   "outputs": [
    {
     "name": "stdout",
     "output_type": "stream",
     "text": [
      "---------\n",
      "x2 0.5000001283844369\n",
      "w2 0.0\n",
      "x1 -1.5000003851533106\n",
      "w1 1.0000002567688737\n"
     ]
    }
   ],
   "source": [
    "print('---------')\n",
    "print(\"x2\", x2.grad.item())\n",
    "print(\"w2\", w2.grad.item())\n",
    "print(\"x1\", x1.grad.item()) \n",
    "print(\"w1\", w1.grad.item())"
   ]
  },
  {
   "cell_type": "code",
   "execution_count": 107,
   "id": "f17922f7-6192-4ab9-95e3-1116606f619b",
   "metadata": {},
   "outputs": [
    {
     "data": {
      "text/plain": [
       "tensor([2.], dtype=torch.float64, requires_grad=True)"
      ]
     },
     "execution_count": 107,
     "metadata": {},
     "output_type": "execute_result"
    }
   ],
   "source": [
    "x1 "
   ]
  },
  {
   "cell_type": "code",
   "execution_count": 109,
   "id": "c71cd7e6-da36-45b7-b603-f4954e0e5478",
   "metadata": {},
   "outputs": [
    {
     "data": {
      "text/plain": [
       "tensor([2.], dtype=torch.float64)"
      ]
     },
     "execution_count": 109,
     "metadata": {},
     "output_type": "execute_result"
    }
   ],
   "source": [
    "x1.data"
   ]
  },
  {
   "cell_type": "code",
   "execution_count": 108,
   "id": "f1713b6d-97e3-4aa5-939a-5583263c00eb",
   "metadata": {},
   "outputs": [
    {
     "data": {
      "text/plain": [
       "2.0"
      ]
     },
     "execution_count": 108,
     "metadata": {},
     "output_type": "execute_result"
    }
   ],
   "source": [
    "x1.data.item()"
   ]
  },
  {
   "cell_type": "code",
   "execution_count": null,
   "id": "3d1e724f-966f-42e1-9030-6a8f66cef3c1",
   "metadata": {},
   "outputs": [],
   "source": []
  }
 ],
 "metadata": {
  "kernelspec": {
   "display_name": "torch_viz",
   "language": "python",
   "name": "torch_viz"
  },
  "language_info": {
   "codemirror_mode": {
    "name": "ipython",
    "version": 3
   },
   "file_extension": ".py",
   "mimetype": "text/x-python",
   "name": "python",
   "nbconvert_exporter": "python",
   "pygments_lexer": "ipython3",
   "version": "3.10.14"
  }
 },
 "nbformat": 4,
 "nbformat_minor": 5
}
