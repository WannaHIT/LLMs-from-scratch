{
 "cells": [
  {
   "cell_type": "code",
   "execution_count": 1,
   "id": "f69ba328-d350-46f2-9972-59153ea27e3c",
   "metadata": {},
   "outputs": [],
   "source": [
    "import torch\n",
    "import numpy as np \n",
    "import math"
   ]
  },
  {
   "cell_type": "code",
   "execution_count": 9,
   "id": "92c1e023-9c34-4fa9-9eba-f8e919f46790",
   "metadata": {},
   "outputs": [],
   "source": [
    "from graphviz import Digraph"
   ]
  },
  {
   "cell_type": "code",
   "execution_count": 10,
   "id": "41074bdf-9dbf-435c-83cf-f17fc684ce27",
   "metadata": {},
   "outputs": [],
   "source": [
    "def trace(root):\n",
    "    nodes, edges = set(), set()\n",
    "    def build(v):\n",
    "        if v not in nodes:\n",
    "            nodes.add(v)\n",
    "            for child in v._prev:\n",
    "                edges.add((child, v))\n",
    "                build(child)\n",
    "    build(root)\n",
    "    return nodes, edges\n",
    "\n",
    "def draw_dot(root, format='svg', rankdir='LR'):\n",
    "    \"\"\"\n",
    "    format: png | svg | ...\n",
    "    rankdir: TB (top to bottom graph) | LR (left to right)\n",
    "    \"\"\"\n",
    "    assert rankdir in ['LR', 'TB']\n",
    "    nodes, edges = trace(root)\n",
    "    dot = Digraph(format=format, graph_attr={'rankdir': rankdir}) #, node_attr={'rankdir': 'TB'})\n",
    "    \n",
    "    for n in nodes:\n",
    "        dot.node(name=str(id(n)), label = \"{ %s | data %.4f | grad %.4f }\" % (n.label, n.data, n.grad), shape='record')\n",
    "        if n._op:\n",
    "            dot.node(name=str(id(n)) + n._op, label=n._op)\n",
    "            dot.edge(str(id(n)) + n._op, str(id(n)))\n",
    "    \n",
    "    for n1, n2 in edges:\n",
    "        dot.edge(str(id(n1)), str(id(n2)) + n2._op)\n",
    "    \n",
    "    return dot"
   ]
  },
  {
   "cell_type": "code",
   "execution_count": 157,
   "id": "1cb04dbb-a689-4bdf-bd1e-c66abad98d30",
   "metadata": {},
   "outputs": [],
   "source": [
    "class Value:\n",
    "    def __init__(self, data, _children=(), _op='', label=''): \n",
    "        self.data = data \n",
    "        self.grad = 0.0 \n",
    "        self._backward = lambda: None\n",
    "        self._prev = set(_children)\n",
    "        self._op = _op \n",
    "        self.label = label\n",
    "\n",
    "    def __repr__(self): \n",
    "        return f\"Value(data={self.data})\"\n",
    "\n",
    "    def __add__(self, other): \n",
    "        other = other if isinstance(other, Value) else Value(other, label='CONS')\n",
    "        # 这里就要初始化的时候顺带添加子节点, 因为这个是又两个儿子相加产生的\n",
    "        out = Value(self.data+other.data, (self, other), _op='+')\n",
    "\n",
    "        def _backward(): \n",
    "            self.grad += 1.0 * out.grad \n",
    "            other.grad += 1.0 * out.grad\n",
    "            \n",
    "        out._backward = _backward\n",
    "        return out \n",
    "\n",
    "    def __mul__(self, other):  \n",
    "        other = other if isinstance(other, Value) else Value(other, label='CONS')\n",
    "\n",
    "        out = Value(self.data*other.data, (self, other), _op='*')\n",
    "\n",
    "        def _backward(): \n",
    "            self.grad += other.data * out.grad\n",
    "            other.grad += self.data * out.grad\n",
    "\n",
    "        out._backward = _backward\n",
    "        return out \n",
    "\n",
    "    def __radd__(self, other): \n",
    "        return self + other\n",
    "\n",
    "    def __rmul__(self, other):  \n",
    "        return self * other\n",
    "\n",
    "    def __pow__(self, other): \n",
    "        assert isinstance(other, (int, float)), \"only support int/float powers for now\"\n",
    "        out = Value(self.data**other, (self, ), f\"**{other}\")\n",
    "\n",
    "        def _backward(): \n",
    "            self.grad += other * self.data**(other-1) * out.grad\n",
    "\n",
    "        out._backward = _backward\n",
    "        return out \n",
    "\n",
    "    def __truediv__(self, other): \n",
    "        return self * other**-1\n",
    "\n",
    "    def __neg__(self): \n",
    "        return -1 * self \n",
    "\n",
    "    def __sub__(self, other):  \n",
    "        other = other if isinstance(other, Value) else Value(other, label='CONS')\n",
    "        return self + -other\n",
    "        \n",
    "    # def __rsub__(self, other): \n",
    "        \n",
    "        \n",
    "    # def __tanh__(self): # ERROR \n",
    "    def tanh(self):\n",
    "        x = self.data \n",
    "        t = (math.exp(2*x) - 1) / (math.exp(2*x) + 1) \n",
    "        out = Value(t, (self, ), 'tanh')\n",
    "\n",
    "        def _backward(): \n",
    "            self.grad += (1 - t**2) * out.grad\n",
    "\n",
    "        out._backward = _backward\n",
    "        return out \n",
    "\n",
    "    def exp(self): \n",
    "        x = self.data\n",
    "        out = Value(math.exp(x), (self, ), 'exp')\n",
    "\n",
    "        def _backward(): \n",
    "            self.grad += out.data * out.grad \n",
    "        out._backward = _backward\n",
    "        return out \n",
    "\n",
    "    def backward(self): \n",
    "        topo = []\n",
    "        visited = set()\n",
    "        def build_topo(v): \n",
    "            if v not in visited:\n",
    "                visited.add(v) \n",
    "                for child in v._prev: \n",
    "                    build_topo(child)\n",
    "                topo.append(v)\n",
    "                \n",
    "        build_topo(self)\n",
    "        self.grad = 1.0 \n",
    "        for node in reversed(topo): \n",
    "            node._backward()"
   ]
  },
  {
   "cell_type": "code",
   "execution_count": 152,
   "id": "74a8207d-452c-47ce-b9f3-418a0d008925",
   "metadata": {},
   "outputs": [
    {
     "data": {
      "text/plain": [
       "Value(data=2.0)"
      ]
     },
     "execution_count": 152,
     "metadata": {},
     "output_type": "execute_result"
    }
   ],
   "source": [
    "a = Value(3.0, label='a')\n",
    "a - 1"
   ]
  },
  {
   "cell_type": "code",
   "execution_count": null,
   "id": "14167e94-aaa1-495f-a676-8bdc8602201c",
   "metadata": {},
   "outputs": [],
   "source": []
  },
  {
   "cell_type": "code",
   "execution_count": null,
   "id": "5fce787a-904a-4672-a5bd-bc9e96a3aaba",
   "metadata": {},
   "outputs": [],
   "source": []
  },
  {
   "cell_type": "code",
   "execution_count": 100,
   "id": "1e660464-3edb-48bc-be65-093bb8d98406",
   "metadata": {},
   "outputs": [
    {
     "data": {
      "image/svg+xml": [
       "<?xml version=\"1.0\" encoding=\"UTF-8\" standalone=\"no\"?>\n",
       "<!DOCTYPE svg PUBLIC \"-//W3C//DTD SVG 1.1//EN\"\n",
       " \"http://www.w3.org/Graphics/SVG/1.1/DTD/svg11.dtd\">\n",
       "<!-- Generated by graphviz version 2.43.0 (0)\n",
       " -->\n",
       "<!-- Title: %3 Pages: 1 -->\n",
       "<svg width=\"3504pt\" height=\"210pt\"\n",
       " viewBox=\"0.00 0.00 3503.60 210.00\" xmlns=\"http://www.w3.org/2000/svg\" xmlns:xlink=\"http://www.w3.org/1999/xlink\">\n",
       "<g id=\"graph0\" class=\"graph\" transform=\"scale(1 1) rotate(0) translate(4 206)\">\n",
       "<title>%3</title>\n",
       "<polygon fill=\"white\" stroke=\"transparent\" points=\"-4,4 -4,-206 3499.6,-206 3499.6,4 -4,4\"/>\n",
       "<!-- 140274158752800 -->\n",
       "<g id=\"node1\" class=\"node\">\n",
       "<title>140274158752800</title>\n",
       "<polygon fill=\"none\" stroke=\"black\" points=\"2004.6,-81.5 2004.6,-117.5 2235.6,-117.5 2235.6,-81.5 2004.6,-81.5\"/>\n",
       "<text text-anchor=\"middle\" x=\"2017.1\" y=\"-95.8\" font-family=\"Times,serif\" font-size=\"14.00\">e</text>\n",
       "<polyline fill=\"none\" stroke=\"black\" points=\"2029.6,-81.5 2029.6,-117.5 \"/>\n",
       "<text text-anchor=\"middle\" x=\"2080.6\" y=\"-95.8\" font-family=\"Times,serif\" font-size=\"14.00\">data 5.8284</text>\n",
       "<polyline fill=\"none\" stroke=\"black\" points=\"2131.6,-81.5 2131.6,-117.5 \"/>\n",
       "<text text-anchor=\"middle\" x=\"2183.6\" y=\"-95.8\" font-family=\"Times,serif\" font-size=\"14.00\">grad 0.0429</text>\n",
       "</g>\n",
       "<!-- 140274158756304+ -->\n",
       "<g id=\"node9\" class=\"node\">\n",
       "<title>140274158756304+</title>\n",
       "<ellipse fill=\"none\" stroke=\"black\" cx=\"2318.6\" cy=\"-71.5\" rx=\"27\" ry=\"18\"/>\n",
       "<text text-anchor=\"middle\" x=\"2318.6\" y=\"-67.8\" font-family=\"Times,serif\" font-size=\"14.00\">+</text>\n",
       "</g>\n",
       "<!-- 140274158752800&#45;&gt;140274158756304+ -->\n",
       "<g id=\"edge18\" class=\"edge\">\n",
       "<title>140274158752800&#45;&gt;140274158756304+</title>\n",
       "<path fill=\"none\" stroke=\"black\" d=\"M2235.68,-83.17C2252.43,-80.79 2268.52,-78.49 2281.94,-76.58\"/>\n",
       "<polygon fill=\"black\" stroke=\"black\" points=\"2282.69,-80.01 2292.1,-75.13 2281.7,-73.08 2282.69,-80.01\"/>\n",
       "</g>\n",
       "<!-- 140274158756640+ -->\n",
       "<g id=\"node17\" class=\"node\">\n",
       "<title>140274158756640+</title>\n",
       "<ellipse fill=\"none\" stroke=\"black\" cx=\"2318.6\" cy=\"-126.5\" rx=\"27\" ry=\"18\"/>\n",
       "<text text-anchor=\"middle\" x=\"2318.6\" y=\"-122.8\" font-family=\"Times,serif\" font-size=\"14.00\">+</text>\n",
       "</g>\n",
       "<!-- 140274158752800&#45;&gt;140274158756640+ -->\n",
       "<g id=\"edge27\" class=\"edge\">\n",
       "<title>140274158752800&#45;&gt;140274158756640+</title>\n",
       "<path fill=\"none\" stroke=\"black\" d=\"M2235.68,-115.25C2252.43,-117.55 2268.52,-119.76 2281.94,-121.6\"/>\n",
       "<polygon fill=\"black\" stroke=\"black\" points=\"2281.71,-125.1 2292.1,-123 2282.67,-118.17 2281.71,-125.1\"/>\n",
       "</g>\n",
       "<!-- 140274158752800exp -->\n",
       "<g id=\"node2\" class=\"node\">\n",
       "<title>140274158752800exp</title>\n",
       "<ellipse fill=\"none\" stroke=\"black\" cx=\"1921.3\" cy=\"-99.5\" rx=\"27.1\" ry=\"18\"/>\n",
       "<text text-anchor=\"middle\" x=\"1921.3\" y=\"-95.8\" font-family=\"Times,serif\" font-size=\"14.00\">exp</text>\n",
       "</g>\n",
       "<!-- 140274158752800exp&#45;&gt;140274158752800 -->\n",
       "<g id=\"edge1\" class=\"edge\">\n",
       "<title>140274158752800exp&#45;&gt;140274158752800</title>\n",
       "<path fill=\"none\" stroke=\"black\" d=\"M1948.84,-99.5C1961.29,-99.5 1977.12,-99.5 1994.1,-99.5\"/>\n",
       "<polygon fill=\"black\" stroke=\"black\" points=\"1994.2,-103 2004.2,-99.5 1994.2,-96 1994.2,-103\"/>\n",
       "</g>\n",
       "<!-- 140274158760480 -->\n",
       "<g id=\"node3\" class=\"node\">\n",
       "<title>140274158760480</title>\n",
       "<polygon fill=\"none\" stroke=\"black\" points=\"774,-82.5 774,-118.5 1113,-118.5 1113,-82.5 774,-82.5\"/>\n",
       "<text text-anchor=\"middle\" x=\"838\" y=\"-96.8\" font-family=\"Times,serif\" font-size=\"14.00\">x1*w1 + x2*w2</text>\n",
       "<polyline fill=\"none\" stroke=\"black\" points=\"902,-82.5 902,-118.5 \"/>\n",
       "<text text-anchor=\"middle\" x=\"955.5\" y=\"-96.8\" font-family=\"Times,serif\" font-size=\"14.00\">data &#45;6.0000</text>\n",
       "<polyline fill=\"none\" stroke=\"black\" points=\"1009,-82.5 1009,-118.5 \"/>\n",
       "<text text-anchor=\"middle\" x=\"1061\" y=\"-96.8\" font-family=\"Times,serif\" font-size=\"14.00\">grad 0.5000</text>\n",
       "</g>\n",
       "<!-- 140274158751552+ -->\n",
       "<g id=\"node21\" class=\"node\">\n",
       "<title>140274158751552+</title>\n",
       "<ellipse fill=\"none\" stroke=\"black\" cx=\"1176\" cy=\"-72.5\" rx=\"27\" ry=\"18\"/>\n",
       "<text text-anchor=\"middle\" x=\"1176\" y=\"-68.8\" font-family=\"Times,serif\" font-size=\"14.00\">+</text>\n",
       "</g>\n",
       "<!-- 140274158760480&#45;&gt;140274158751552+ -->\n",
       "<g id=\"edge16\" class=\"edge\">\n",
       "<title>140274158760480&#45;&gt;140274158751552+</title>\n",
       "<path fill=\"none\" stroke=\"black\" d=\"M1092.76,-82.49C1109.86,-80.41 1125.9,-78.46 1139.2,-76.85\"/>\n",
       "<polygon fill=\"black\" stroke=\"black\" points=\"1139.74,-80.31 1149.24,-75.63 1138.89,-73.36 1139.74,-80.31\"/>\n",
       "</g>\n",
       "<!-- 140274158760480+ -->\n",
       "<g id=\"node4\" class=\"node\">\n",
       "<title>140274158760480+</title>\n",
       "<ellipse fill=\"none\" stroke=\"black\" cx=\"711\" cy=\"-100.5\" rx=\"27\" ry=\"18\"/>\n",
       "<text text-anchor=\"middle\" x=\"711\" y=\"-96.8\" font-family=\"Times,serif\" font-size=\"14.00\">+</text>\n",
       "</g>\n",
       "<!-- 140274158760480+&#45;&gt;140274158760480 -->\n",
       "<g id=\"edge2\" class=\"edge\">\n",
       "<title>140274158760480+&#45;&gt;140274158760480</title>\n",
       "<path fill=\"none\" stroke=\"black\" d=\"M738.44,-100.5C745.81,-100.5 754.42,-100.5 763.84,-100.5\"/>\n",
       "<polygon fill=\"black\" stroke=\"black\" points=\"763.94,-104 773.94,-100.5 763.94,-97 763.94,-104\"/>\n",
       "</g>\n",
       "<!-- 140274158762016 -->\n",
       "<g id=\"node5\" class=\"node\">\n",
       "<title>140274158762016</title>\n",
       "<polygon fill=\"none\" stroke=\"black\" points=\"1985.1,-136.5 1985.1,-172.5 2255.1,-172.5 2255.1,-136.5 1985.1,-136.5\"/>\n",
       "<text text-anchor=\"middle\" x=\"2015.1\" y=\"-150.8\" font-family=\"Times,serif\" font-size=\"14.00\">CONS</text>\n",
       "<polyline fill=\"none\" stroke=\"black\" points=\"2045.1,-136.5 2045.1,-172.5 \"/>\n",
       "<text text-anchor=\"middle\" x=\"2096.1\" y=\"-150.8\" font-family=\"Times,serif\" font-size=\"14.00\">data 1.0000</text>\n",
       "<polyline fill=\"none\" stroke=\"black\" points=\"2147.1,-136.5 2147.1,-172.5 \"/>\n",
       "<text text-anchor=\"middle\" x=\"2201.1\" y=\"-150.8\" font-family=\"Times,serif\" font-size=\"14.00\">grad &#45;0.1036</text>\n",
       "</g>\n",
       "<!-- 140274158762016&#45;&gt;140274158756640+ -->\n",
       "<g id=\"edge28\" class=\"edge\">\n",
       "<title>140274158762016&#45;&gt;140274158756640+</title>\n",
       "<path fill=\"none\" stroke=\"black\" d=\"M2247.49,-136.49C2259.87,-134.73 2271.61,-133.05 2281.81,-131.6\"/>\n",
       "<polygon fill=\"black\" stroke=\"black\" points=\"2282.44,-135.05 2291.84,-130.17 2281.45,-128.12 2282.44,-135.05\"/>\n",
       "</g>\n",
       "<!-- 140274158754384 -->\n",
       "<g id=\"node6\" class=\"node\">\n",
       "<title>140274158754384</title>\n",
       "<polygon fill=\"none\" stroke=\"black\" points=\"375,-110.5 375,-146.5 648,-146.5 648,-110.5 375,-110.5\"/>\n",
       "<text text-anchor=\"middle\" x=\"406\" y=\"-124.8\" font-family=\"Times,serif\" font-size=\"14.00\">x1*w1</text>\n",
       "<polyline fill=\"none\" stroke=\"black\" points=\"437,-110.5 437,-146.5 \"/>\n",
       "<text text-anchor=\"middle\" x=\"490.5\" y=\"-124.8\" font-family=\"Times,serif\" font-size=\"14.00\">data &#45;6.0000</text>\n",
       "<polyline fill=\"none\" stroke=\"black\" points=\"544,-110.5 544,-146.5 \"/>\n",
       "<text text-anchor=\"middle\" x=\"596\" y=\"-124.8\" font-family=\"Times,serif\" font-size=\"14.00\">grad 0.5000</text>\n",
       "</g>\n",
       "<!-- 140274158754384&#45;&gt;140274158760480+ -->\n",
       "<g id=\"edge20\" class=\"edge\">\n",
       "<title>140274158754384&#45;&gt;140274158760480+</title>\n",
       "<path fill=\"none\" stroke=\"black\" d=\"M639.53,-110.49C652.09,-108.71 663.99,-107.02 674.3,-105.56\"/>\n",
       "<polygon fill=\"black\" stroke=\"black\" points=\"675.03,-108.99 684.44,-104.12 674.05,-102.06 675.03,-108.99\"/>\n",
       "</g>\n",
       "<!-- 140274158754384* -->\n",
       "<g id=\"node7\" class=\"node\">\n",
       "<title>140274158754384*</title>\n",
       "<ellipse fill=\"none\" stroke=\"black\" cx=\"312\" cy=\"-128.5\" rx=\"27\" ry=\"18\"/>\n",
       "<text text-anchor=\"middle\" x=\"312\" y=\"-124.8\" font-family=\"Times,serif\" font-size=\"14.00\">*</text>\n",
       "</g>\n",
       "<!-- 140274158754384*&#45;&gt;140274158754384 -->\n",
       "<g id=\"edge3\" class=\"edge\">\n",
       "<title>140274158754384*&#45;&gt;140274158754384</title>\n",
       "<path fill=\"none\" stroke=\"black\" d=\"M339.23,-128.5C346.7,-128.5 355.41,-128.5 364.87,-128.5\"/>\n",
       "<polygon fill=\"black\" stroke=\"black\" points=\"364.98,-132 374.98,-128.5 364.98,-125 364.98,-132\"/>\n",
       "</g>\n",
       "<!-- 140274158756304 -->\n",
       "<g id=\"node8\" class=\"node\">\n",
       "<title>140274158756304</title>\n",
       "<polygon fill=\"none\" stroke=\"black\" points=\"2648.6,-53.5 2648.6,-89.5 2875.6,-89.5 2875.6,-53.5 2648.6,-53.5\"/>\n",
       "<text text-anchor=\"middle\" x=\"2659.1\" y=\"-67.8\" font-family=\"Times,serif\" font-size=\"14.00\"> </text>\n",
       "<polyline fill=\"none\" stroke=\"black\" points=\"2669.6,-53.5 2669.6,-89.5 \"/>\n",
       "<text text-anchor=\"middle\" x=\"2720.6\" y=\"-67.8\" font-family=\"Times,serif\" font-size=\"14.00\">data 4.8284</text>\n",
       "<polyline fill=\"none\" stroke=\"black\" points=\"2771.6,-53.5 2771.6,-89.5 \"/>\n",
       "<text text-anchor=\"middle\" x=\"2823.6\" y=\"-67.8\" font-family=\"Times,serif\" font-size=\"14.00\">grad 0.1464</text>\n",
       "</g>\n",
       "<!-- 140274158755776* -->\n",
       "<g id=\"node27\" class=\"node\">\n",
       "<title>140274158755776*</title>\n",
       "<ellipse fill=\"none\" stroke=\"black\" cx=\"3201.6\" cy=\"-98.5\" rx=\"27\" ry=\"18\"/>\n",
       "<text text-anchor=\"middle\" x=\"3201.6\" y=\"-94.8\" font-family=\"Times,serif\" font-size=\"14.00\">*</text>\n",
       "</g>\n",
       "<!-- 140274158756304&#45;&gt;140274158755776* -->\n",
       "<g id=\"edge26\" class=\"edge\">\n",
       "<title>140274158756304&#45;&gt;140274158755776*</title>\n",
       "<path fill=\"none\" stroke=\"black\" d=\"M2875.76,-78.45C2971.02,-84.33 3101.68,-92.4 3164.28,-96.26\"/>\n",
       "<polygon fill=\"black\" stroke=\"black\" points=\"3164.24,-99.76 3174.44,-96.89 3164.68,-92.78 3164.24,-99.76\"/>\n",
       "</g>\n",
       "<!-- 140274158756304+&#45;&gt;140274158756304 -->\n",
       "<g id=\"edge4\" class=\"edge\">\n",
       "<title>140274158756304+&#45;&gt;140274158756304</title>\n",
       "<path fill=\"none\" stroke=\"black\" d=\"M2345.89,-71.5C2402.16,-71.5 2537.31,-71.5 2638.23,-71.5\"/>\n",
       "<polygon fill=\"black\" stroke=\"black\" points=\"2638.5,-75 2648.5,-71.5 2638.5,-68 2638.5,-75\"/>\n",
       "</g>\n",
       "<!-- 140274158756976 -->\n",
       "<g id=\"node10\" class=\"node\">\n",
       "<title>140274158756976</title>\n",
       "<polygon fill=\"none\" stroke=\"black\" points=\"1239,-109.5 1239,-145.5 1505,-145.5 1505,-109.5 1239,-109.5\"/>\n",
       "<text text-anchor=\"middle\" x=\"1269\" y=\"-123.8\" font-family=\"Times,serif\" font-size=\"14.00\">CONS</text>\n",
       "<polyline fill=\"none\" stroke=\"black\" points=\"1299,-109.5 1299,-145.5 \"/>\n",
       "<text text-anchor=\"middle\" x=\"1350\" y=\"-123.8\" font-family=\"Times,serif\" font-size=\"14.00\">data 2.0000</text>\n",
       "<polyline fill=\"none\" stroke=\"black\" points=\"1401,-109.5 1401,-145.5 \"/>\n",
       "<text text-anchor=\"middle\" x=\"1453\" y=\"-123.8\" font-family=\"Times,serif\" font-size=\"14.00\">grad 0.2203</text>\n",
       "</g>\n",
       "<!-- 140274158758704* -->\n",
       "<g id=\"node19\" class=\"node\">\n",
       "<title>140274158758704*</title>\n",
       "<ellipse fill=\"none\" stroke=\"black\" cx=\"1568\" cy=\"-99.5\" rx=\"27\" ry=\"18\"/>\n",
       "<text text-anchor=\"middle\" x=\"1568\" y=\"-95.8\" font-family=\"Times,serif\" font-size=\"14.00\">*</text>\n",
       "</g>\n",
       "<!-- 140274158756976&#45;&gt;140274158758704* -->\n",
       "<g id=\"edge25\" class=\"edge\">\n",
       "<title>140274158756976&#45;&gt;140274158758704*</title>\n",
       "<path fill=\"none\" stroke=\"black\" d=\"M1497.78,-109.49C1509.77,-107.76 1521.15,-106.12 1531.08,-104.68\"/>\n",
       "<polygon fill=\"black\" stroke=\"black\" points=\"1531.86,-108.11 1541.25,-103.22 1530.86,-101.18 1531.86,-108.11\"/>\n",
       "</g>\n",
       "<!-- 140274158753952 -->\n",
       "<g id=\"node11\" class=\"node\">\n",
       "<title>140274158753952</title>\n",
       "<polygon fill=\"none\" stroke=\"black\" points=\"0,-165.5 0,-201.5 249,-201.5 249,-165.5 0,-165.5\"/>\n",
       "<text text-anchor=\"middle\" x=\"19\" y=\"-179.8\" font-family=\"Times,serif\" font-size=\"14.00\">w1</text>\n",
       "<polyline fill=\"none\" stroke=\"black\" points=\"38,-165.5 38,-201.5 \"/>\n",
       "<text text-anchor=\"middle\" x=\"91.5\" y=\"-179.8\" font-family=\"Times,serif\" font-size=\"14.00\">data &#45;3.0000</text>\n",
       "<polyline fill=\"none\" stroke=\"black\" points=\"145,-165.5 145,-201.5 \"/>\n",
       "<text text-anchor=\"middle\" x=\"197\" y=\"-179.8\" font-family=\"Times,serif\" font-size=\"14.00\">grad 1.0000</text>\n",
       "</g>\n",
       "<!-- 140274158753952&#45;&gt;140274158754384* -->\n",
       "<g id=\"edge12\" class=\"edge\">\n",
       "<title>140274158753952&#45;&gt;140274158754384*</title>\n",
       "<path fill=\"none\" stroke=\"black\" d=\"M218.13,-165.46C228.63,-162.77 239.1,-159.78 249,-156.5 259.71,-152.96 271.05,-148.16 281.07,-143.54\"/>\n",
       "<polygon fill=\"black\" stroke=\"black\" points=\"282.67,-146.66 290.2,-139.21 279.67,-140.33 282.67,-146.66\"/>\n",
       "</g>\n",
       "<!-- 140274158759616 -->\n",
       "<g id=\"node12\" class=\"node\">\n",
       "<title>140274158759616</title>\n",
       "<polygon fill=\"none\" stroke=\"black\" points=\"2.5,-110.5 2.5,-146.5 246.5,-146.5 246.5,-110.5 2.5,-110.5\"/>\n",
       "<text text-anchor=\"middle\" x=\"19.5\" y=\"-124.8\" font-family=\"Times,serif\" font-size=\"14.00\">x1</text>\n",
       "<polyline fill=\"none\" stroke=\"black\" points=\"36.5,-110.5 36.5,-146.5 \"/>\n",
       "<text text-anchor=\"middle\" x=\"87.5\" y=\"-124.8\" font-family=\"Times,serif\" font-size=\"14.00\">data 2.0000</text>\n",
       "<polyline fill=\"none\" stroke=\"black\" points=\"138.5,-110.5 138.5,-146.5 \"/>\n",
       "<text text-anchor=\"middle\" x=\"192.5\" y=\"-124.8\" font-family=\"Times,serif\" font-size=\"14.00\">grad &#45;1.5000</text>\n",
       "</g>\n",
       "<!-- 140274158759616&#45;&gt;140274158754384* -->\n",
       "<g id=\"edge13\" class=\"edge\">\n",
       "<title>140274158759616&#45;&gt;140274158754384*</title>\n",
       "<path fill=\"none\" stroke=\"black\" d=\"M246.64,-128.5C256.7,-128.5 266.26,-128.5 274.79,-128.5\"/>\n",
       "<polygon fill=\"black\" stroke=\"black\" points=\"275,-132 285,-128.5 275,-125 275,-132\"/>\n",
       "</g>\n",
       "<!-- 140274158758080 -->\n",
       "<g id=\"node13\" class=\"node\">\n",
       "<title>140274158758080</title>\n",
       "<polygon fill=\"none\" stroke=\"black\" points=\"1984.6,-26.5 1984.6,-62.5 2255.6,-62.5 2255.6,-26.5 1984.6,-26.5\"/>\n",
       "<text text-anchor=\"middle\" x=\"2014.6\" y=\"-40.8\" font-family=\"Times,serif\" font-size=\"14.00\">CONS</text>\n",
       "<polyline fill=\"none\" stroke=\"black\" points=\"2044.6,-26.5 2044.6,-62.5 \"/>\n",
       "<text text-anchor=\"middle\" x=\"2098.1\" y=\"-40.8\" font-family=\"Times,serif\" font-size=\"14.00\">data &#45;1.0000</text>\n",
       "<polyline fill=\"none\" stroke=\"black\" points=\"2151.6,-26.5 2151.6,-62.5 \"/>\n",
       "<text text-anchor=\"middle\" x=\"2203.6\" y=\"-40.8\" font-family=\"Times,serif\" font-size=\"14.00\">grad 0.1464</text>\n",
       "</g>\n",
       "<!-- 140274158758080&#45;&gt;140274158756304+ -->\n",
       "<g id=\"edge19\" class=\"edge\">\n",
       "<title>140274158758080&#45;&gt;140274158756304+</title>\n",
       "<path fill=\"none\" stroke=\"black\" d=\"M2252.16,-62.51C2262.89,-63.98 2273.03,-65.38 2281.98,-66.61\"/>\n",
       "<polygon fill=\"black\" stroke=\"black\" points=\"2281.52,-70.08 2291.9,-67.97 2282.47,-63.14 2281.52,-70.08\"/>\n",
       "</g>\n",
       "<!-- 140274158750976 -->\n",
       "<g id=\"node14\" class=\"node\">\n",
       "<title>140274158750976</title>\n",
       "<polygon fill=\"none\" stroke=\"black\" points=\"377.5,-55.5 377.5,-91.5 645.5,-91.5 645.5,-55.5 377.5,-55.5\"/>\n",
       "<text text-anchor=\"middle\" x=\"408.5\" y=\"-69.8\" font-family=\"Times,serif\" font-size=\"14.00\">x2*w2</text>\n",
       "<polyline fill=\"none\" stroke=\"black\" points=\"439.5,-55.5 439.5,-91.5 \"/>\n",
       "<text text-anchor=\"middle\" x=\"490.5\" y=\"-69.8\" font-family=\"Times,serif\" font-size=\"14.00\">data 0.0000</text>\n",
       "<polyline fill=\"none\" stroke=\"black\" points=\"541.5,-55.5 541.5,-91.5 \"/>\n",
       "<text text-anchor=\"middle\" x=\"593.5\" y=\"-69.8\" font-family=\"Times,serif\" font-size=\"14.00\">grad 0.5000</text>\n",
       "</g>\n",
       "<!-- 140274158750976&#45;&gt;140274158760480+ -->\n",
       "<g id=\"edge24\" class=\"edge\">\n",
       "<title>140274158750976&#45;&gt;140274158760480+</title>\n",
       "<path fill=\"none\" stroke=\"black\" d=\"M644.24,-91.51C655.12,-93 665.4,-94.4 674.45,-95.64\"/>\n",
       "<polygon fill=\"black\" stroke=\"black\" points=\"674.11,-99.13 684.49,-97.01 675.05,-92.19 674.11,-99.13\"/>\n",
       "</g>\n",
       "<!-- 140274158750976* -->\n",
       "<g id=\"node15\" class=\"node\">\n",
       "<title>140274158750976*</title>\n",
       "<ellipse fill=\"none\" stroke=\"black\" cx=\"312\" cy=\"-73.5\" rx=\"27\" ry=\"18\"/>\n",
       "<text text-anchor=\"middle\" x=\"312\" y=\"-69.8\" font-family=\"Times,serif\" font-size=\"14.00\">*</text>\n",
       "</g>\n",
       "<!-- 140274158750976*&#45;&gt;140274158750976 -->\n",
       "<g id=\"edge5\" class=\"edge\">\n",
       "<title>140274158750976*&#45;&gt;140274158750976</title>\n",
       "<path fill=\"none\" stroke=\"black\" d=\"M339.23,-73.5C347.26,-73.5 356.72,-73.5 366.99,-73.5\"/>\n",
       "<polygon fill=\"black\" stroke=\"black\" points=\"367.08,-77 377.08,-73.5 367.08,-70 367.08,-77\"/>\n",
       "</g>\n",
       "<!-- 140274158756640 -->\n",
       "<g id=\"node16\" class=\"node\">\n",
       "<title>140274158756640</title>\n",
       "<polygon fill=\"none\" stroke=\"black\" points=\"2381.6,-108.5 2381.6,-144.5 2612.6,-144.5 2612.6,-108.5 2381.6,-108.5\"/>\n",
       "<text text-anchor=\"middle\" x=\"2392.1\" y=\"-122.8\" font-family=\"Times,serif\" font-size=\"14.00\"> </text>\n",
       "<polyline fill=\"none\" stroke=\"black\" points=\"2402.6,-108.5 2402.6,-144.5 \"/>\n",
       "<text text-anchor=\"middle\" x=\"2453.6\" y=\"-122.8\" font-family=\"Times,serif\" font-size=\"14.00\">data 6.8284</text>\n",
       "<polyline fill=\"none\" stroke=\"black\" points=\"2504.6,-108.5 2504.6,-144.5 \"/>\n",
       "<text text-anchor=\"middle\" x=\"2558.6\" y=\"-122.8\" font-family=\"Times,serif\" font-size=\"14.00\">grad &#45;0.1036</text>\n",
       "</g>\n",
       "<!-- 140274158753664**&#45;1 -->\n",
       "<g id=\"node23\" class=\"node\">\n",
       "<title>140274158753664**&#45;1</title>\n",
       "<ellipse fill=\"none\" stroke=\"black\" cx=\"2762.1\" cy=\"-126.5\" rx=\"28.7\" ry=\"18\"/>\n",
       "<text text-anchor=\"middle\" x=\"2762.1\" y=\"-122.8\" font-family=\"Times,serif\" font-size=\"14.00\">**&#45;1</text>\n",
       "</g>\n",
       "<!-- 140274158756640&#45;&gt;140274158753664**&#45;1 -->\n",
       "<g id=\"edge21\" class=\"edge\">\n",
       "<title>140274158756640&#45;&gt;140274158753664**&#45;1</title>\n",
       "<path fill=\"none\" stroke=\"black\" d=\"M2612.69,-126.5C2652.38,-126.5 2694.17,-126.5 2723.25,-126.5\"/>\n",
       "<polygon fill=\"black\" stroke=\"black\" points=\"2723.37,-130 2733.37,-126.5 2723.37,-123 2723.37,-130\"/>\n",
       "</g>\n",
       "<!-- 140274158756640+&#45;&gt;140274158756640 -->\n",
       "<g id=\"edge6\" class=\"edge\">\n",
       "<title>140274158756640+&#45;&gt;140274158756640</title>\n",
       "<path fill=\"none\" stroke=\"black\" d=\"M2345.64,-126.5C2353.18,-126.5 2361.96,-126.5 2371.41,-126.5\"/>\n",
       "<polygon fill=\"black\" stroke=\"black\" points=\"2371.49,-130 2381.49,-126.5 2371.49,-123 2371.49,-130\"/>\n",
       "</g>\n",
       "<!-- 140274158758704 -->\n",
       "<g id=\"node18\" class=\"node\">\n",
       "<title>140274158758704</title>\n",
       "<polygon fill=\"none\" stroke=\"black\" points=\"1631,-81.5 1631,-117.5 1858,-117.5 1858,-81.5 1631,-81.5\"/>\n",
       "<text text-anchor=\"middle\" x=\"1641.5\" y=\"-95.8\" font-family=\"Times,serif\" font-size=\"14.00\"> </text>\n",
       "<polyline fill=\"none\" stroke=\"black\" points=\"1652,-81.5 1652,-117.5 \"/>\n",
       "<text text-anchor=\"middle\" x=\"1703\" y=\"-95.8\" font-family=\"Times,serif\" font-size=\"14.00\">data 1.7627</text>\n",
       "<polyline fill=\"none\" stroke=\"black\" points=\"1754,-81.5 1754,-117.5 \"/>\n",
       "<text text-anchor=\"middle\" x=\"1806\" y=\"-95.8\" font-family=\"Times,serif\" font-size=\"14.00\">grad 0.2500</text>\n",
       "</g>\n",
       "<!-- 140274158758704&#45;&gt;140274158752800exp -->\n",
       "<g id=\"edge23\" class=\"edge\">\n",
       "<title>140274158758704&#45;&gt;140274158752800exp</title>\n",
       "<path fill=\"none\" stroke=\"black\" d=\"M1858.18,-99.5C1867.26,-99.5 1875.95,-99.5 1883.79,-99.5\"/>\n",
       "<polygon fill=\"black\" stroke=\"black\" points=\"1883.93,-103 1893.93,-99.5 1883.93,-96 1883.93,-103\"/>\n",
       "</g>\n",
       "<!-- 140274158758704*&#45;&gt;140274158758704 -->\n",
       "<g id=\"edge7\" class=\"edge\">\n",
       "<title>140274158758704*&#45;&gt;140274158758704</title>\n",
       "<path fill=\"none\" stroke=\"black\" d=\"M1595.12,-99.5C1602.67,-99.5 1611.45,-99.5 1620.9,-99.5\"/>\n",
       "<polygon fill=\"black\" stroke=\"black\" points=\"1620.95,-103 1630.95,-99.5 1620.95,-96 1620.95,-103\"/>\n",
       "</g>\n",
       "<!-- 140274158751552 -->\n",
       "<g id=\"node20\" class=\"node\">\n",
       "<title>140274158751552</title>\n",
       "<polygon fill=\"none\" stroke=\"black\" points=\"1256,-54.5 1256,-90.5 1488,-90.5 1488,-54.5 1256,-54.5\"/>\n",
       "<text text-anchor=\"middle\" x=\"1269\" y=\"-68.8\" font-family=\"Times,serif\" font-size=\"14.00\">n</text>\n",
       "<polyline fill=\"none\" stroke=\"black\" points=\"1282,-54.5 1282,-90.5 \"/>\n",
       "<text text-anchor=\"middle\" x=\"1333\" y=\"-68.8\" font-family=\"Times,serif\" font-size=\"14.00\">data 0.8814</text>\n",
       "<polyline fill=\"none\" stroke=\"black\" points=\"1384,-54.5 1384,-90.5 \"/>\n",
       "<text text-anchor=\"middle\" x=\"1436\" y=\"-68.8\" font-family=\"Times,serif\" font-size=\"14.00\">grad 0.5000</text>\n",
       "</g>\n",
       "<!-- 140274158751552&#45;&gt;140274158758704* -->\n",
       "<g id=\"edge22\" class=\"edge\">\n",
       "<title>140274158751552&#45;&gt;140274158758704*</title>\n",
       "<path fill=\"none\" stroke=\"black\" d=\"M1488.09,-88.52C1503.77,-90.7 1518.8,-92.79 1531.45,-94.55\"/>\n",
       "<polygon fill=\"black\" stroke=\"black\" points=\"1531.1,-98.04 1541.49,-95.95 1532.07,-91.1 1531.1,-98.04\"/>\n",
       "</g>\n",
       "<!-- 140274158751552+&#45;&gt;140274158751552 -->\n",
       "<g id=\"edge8\" class=\"edge\">\n",
       "<title>140274158751552+&#45;&gt;140274158751552</title>\n",
       "<path fill=\"none\" stroke=\"black\" d=\"M1203.16,-72.5C1214.9,-72.5 1229.67,-72.5 1245.56,-72.5\"/>\n",
       "<polygon fill=\"black\" stroke=\"black\" points=\"1245.59,-76 1255.59,-72.5 1245.59,-69 1245.59,-76\"/>\n",
       "</g>\n",
       "<!-- 140274158753664 -->\n",
       "<g id=\"node22\" class=\"node\">\n",
       "<title>140274158753664</title>\n",
       "<polygon fill=\"none\" stroke=\"black\" points=\"2911.6,-106.5 2911.6,-142.5 3138.6,-142.5 3138.6,-106.5 2911.6,-106.5\"/>\n",
       "<text text-anchor=\"middle\" x=\"2922.1\" y=\"-120.8\" font-family=\"Times,serif\" font-size=\"14.00\"> </text>\n",
       "<polyline fill=\"none\" stroke=\"black\" points=\"2932.6,-106.5 2932.6,-142.5 \"/>\n",
       "<text text-anchor=\"middle\" x=\"2983.6\" y=\"-120.8\" font-family=\"Times,serif\" font-size=\"14.00\">data 0.1464</text>\n",
       "<polyline fill=\"none\" stroke=\"black\" points=\"3034.6,-106.5 3034.6,-142.5 \"/>\n",
       "<text text-anchor=\"middle\" x=\"3086.6\" y=\"-120.8\" font-family=\"Times,serif\" font-size=\"14.00\">grad 4.8284</text>\n",
       "</g>\n",
       "<!-- 140274158753664&#45;&gt;140274158755776* -->\n",
       "<g id=\"edge15\" class=\"edge\">\n",
       "<title>140274158753664&#45;&gt;140274158755776*</title>\n",
       "<path fill=\"none\" stroke=\"black\" d=\"M3139.07,-107.67C3148.37,-106.28 3157.23,-104.96 3165.2,-103.77\"/>\n",
       "<polygon fill=\"black\" stroke=\"black\" points=\"3165.73,-107.23 3175.1,-102.3 3164.7,-100.31 3165.73,-107.23\"/>\n",
       "</g>\n",
       "<!-- 140274158753664**&#45;1&#45;&gt;140274158753664 -->\n",
       "<g id=\"edge9\" class=\"edge\">\n",
       "<title>140274158753664**&#45;1&#45;&gt;140274158753664</title>\n",
       "<path fill=\"none\" stroke=\"black\" d=\"M2791.03,-126.29C2817.75,-126.08 2859.99,-125.76 2901.21,-125.44\"/>\n",
       "<polygon fill=\"black\" stroke=\"black\" points=\"2901.4,-128.94 2911.37,-125.36 2901.35,-121.94 2901.4,-128.94\"/>\n",
       "</g>\n",
       "<!-- 140274158752656 -->\n",
       "<g id=\"node24\" class=\"node\">\n",
       "<title>140274158752656</title>\n",
       "<polygon fill=\"none\" stroke=\"black\" points=\"2.5,-55.5 2.5,-91.5 246.5,-91.5 246.5,-55.5 2.5,-55.5\"/>\n",
       "<text text-anchor=\"middle\" x=\"21.5\" y=\"-69.8\" font-family=\"Times,serif\" font-size=\"14.00\">w2</text>\n",
       "<polyline fill=\"none\" stroke=\"black\" points=\"40.5,-55.5 40.5,-91.5 \"/>\n",
       "<text text-anchor=\"middle\" x=\"91.5\" y=\"-69.8\" font-family=\"Times,serif\" font-size=\"14.00\">data 1.0000</text>\n",
       "<polyline fill=\"none\" stroke=\"black\" points=\"142.5,-55.5 142.5,-91.5 \"/>\n",
       "<text text-anchor=\"middle\" x=\"194.5\" y=\"-69.8\" font-family=\"Times,serif\" font-size=\"14.00\">grad 0.0000</text>\n",
       "</g>\n",
       "<!-- 140274158752656&#45;&gt;140274158750976* -->\n",
       "<g id=\"edge17\" class=\"edge\">\n",
       "<title>140274158752656&#45;&gt;140274158750976*</title>\n",
       "<path fill=\"none\" stroke=\"black\" d=\"M246.64,-73.5C256.7,-73.5 266.26,-73.5 274.79,-73.5\"/>\n",
       "<polygon fill=\"black\" stroke=\"black\" points=\"275,-77 285,-73.5 275,-70 275,-77\"/>\n",
       "</g>\n",
       "<!-- 140274158756256 -->\n",
       "<g id=\"node25\" class=\"node\">\n",
       "<title>140274158756256</title>\n",
       "<polygon fill=\"none\" stroke=\"black\" points=\"827.5,-27.5 827.5,-63.5 1059.5,-63.5 1059.5,-27.5 827.5,-27.5\"/>\n",
       "<text text-anchor=\"middle\" x=\"840.5\" y=\"-41.8\" font-family=\"Times,serif\" font-size=\"14.00\">b</text>\n",
       "<polyline fill=\"none\" stroke=\"black\" points=\"853.5,-27.5 853.5,-63.5 \"/>\n",
       "<text text-anchor=\"middle\" x=\"904.5\" y=\"-41.8\" font-family=\"Times,serif\" font-size=\"14.00\">data 6.8814</text>\n",
       "<polyline fill=\"none\" stroke=\"black\" points=\"955.5,-27.5 955.5,-63.5 \"/>\n",
       "<text text-anchor=\"middle\" x=\"1007.5\" y=\"-41.8\" font-family=\"Times,serif\" font-size=\"14.00\">grad 0.5000</text>\n",
       "</g>\n",
       "<!-- 140274158756256&#45;&gt;140274158751552+ -->\n",
       "<g id=\"edge14\" class=\"edge\">\n",
       "<title>140274158756256&#45;&gt;140274158751552+</title>\n",
       "<path fill=\"none\" stroke=\"black\" d=\"M1059.75,-59C1088.57,-62.38 1117.4,-65.75 1139.01,-68.28\"/>\n",
       "<polygon fill=\"black\" stroke=\"black\" points=\"1138.67,-71.77 1149.01,-69.46 1139.48,-64.82 1138.67,-71.77\"/>\n",
       "</g>\n",
       "<!-- 140274158755776 -->\n",
       "<g id=\"node26\" class=\"node\">\n",
       "<title>140274158755776</title>\n",
       "<polygon fill=\"none\" stroke=\"black\" points=\"3264.6,-80.5 3264.6,-116.5 3495.6,-116.5 3495.6,-80.5 3264.6,-80.5\"/>\n",
       "<text text-anchor=\"middle\" x=\"3277.1\" y=\"-94.8\" font-family=\"Times,serif\" font-size=\"14.00\">o</text>\n",
       "<polyline fill=\"none\" stroke=\"black\" points=\"3289.6,-80.5 3289.6,-116.5 \"/>\n",
       "<text text-anchor=\"middle\" x=\"3340.6\" y=\"-94.8\" font-family=\"Times,serif\" font-size=\"14.00\">data 0.7071</text>\n",
       "<polyline fill=\"none\" stroke=\"black\" points=\"3391.6,-80.5 3391.6,-116.5 \"/>\n",
       "<text text-anchor=\"middle\" x=\"3443.6\" y=\"-94.8\" font-family=\"Times,serif\" font-size=\"14.00\">grad 1.0000</text>\n",
       "</g>\n",
       "<!-- 140274158755776*&#45;&gt;140274158755776 -->\n",
       "<g id=\"edge10\" class=\"edge\">\n",
       "<title>140274158755776*&#45;&gt;140274158755776</title>\n",
       "<path fill=\"none\" stroke=\"black\" d=\"M3228.64,-98.5C3236.18,-98.5 3244.96,-98.5 3254.41,-98.5\"/>\n",
       "<polygon fill=\"black\" stroke=\"black\" points=\"3254.49,-102 3264.49,-98.5 3254.49,-95 3254.49,-102\"/>\n",
       "</g>\n",
       "<!-- 140274158759376 -->\n",
       "<g id=\"node28\" class=\"node\">\n",
       "<title>140274158759376</title>\n",
       "<polygon fill=\"none\" stroke=\"black\" points=\"4.5,-0.5 4.5,-36.5 244.5,-36.5 244.5,-0.5 4.5,-0.5\"/>\n",
       "<text text-anchor=\"middle\" x=\"21.5\" y=\"-14.8\" font-family=\"Times,serif\" font-size=\"14.00\">x2</text>\n",
       "<polyline fill=\"none\" stroke=\"black\" points=\"38.5,-0.5 38.5,-36.5 \"/>\n",
       "<text text-anchor=\"middle\" x=\"89.5\" y=\"-14.8\" font-family=\"Times,serif\" font-size=\"14.00\">data 0.0000</text>\n",
       "<polyline fill=\"none\" stroke=\"black\" points=\"140.5,-0.5 140.5,-36.5 \"/>\n",
       "<text text-anchor=\"middle\" x=\"192.5\" y=\"-14.8\" font-family=\"Times,serif\" font-size=\"14.00\">grad 0.5000</text>\n",
       "</g>\n",
       "<!-- 140274158759376&#45;&gt;140274158750976* -->\n",
       "<g id=\"edge11\" class=\"edge\">\n",
       "<title>140274158759376&#45;&gt;140274158750976*</title>\n",
       "<path fill=\"none\" stroke=\"black\" d=\"M218.13,-36.54C228.63,-39.23 239.1,-42.22 249,-45.5 259.71,-49.04 271.05,-53.84 281.07,-58.46\"/>\n",
       "<polygon fill=\"black\" stroke=\"black\" points=\"279.67,-61.67 290.2,-62.79 282.67,-55.34 279.67,-61.67\"/>\n",
       "</g>\n",
       "</g>\n",
       "</svg>\n"
      ],
      "text/plain": [
       "<graphviz.graphs.Digraph at 0x7f941f676350>"
      ]
     },
     "execution_count": 100,
     "metadata": {},
     "output_type": "execute_result"
    }
   ],
   "source": [
    "# inputs x1, x2 \n",
    "x1 = Value(2.0, label='x1')\n",
    "x2 = Value(0.0, label='x2')\n",
    "\n",
    "# weights w1, w2 \n",
    "w1 = Value(-3.0, label='w1')\n",
    "w2 = Value(1.0, label='w2')\n",
    "\n",
    "# bias\n",
    "b = Value(6.8813735870195432, label='b')\n",
    "\n",
    "x1w1 = x1*w1; x1w1.label = 'x1*w1'\n",
    "x2w2 = x2*w2; x2w2.label = 'x2*w2'\n",
    "\n",
    "x1w1x2w2 = x1w1 + x2w2; x1w1x2w2.label = \"x1*w1 + x2*w2\"\n",
    "\n",
    "n = x1w1x2w2 + b; n.label='n' \n",
    "# print(n) \n",
    "\n",
    "# output \n",
    "# --------\n",
    "# o = n.tanh()\n",
    "# -------\n",
    "e = (2 * n).exp(); e.label='e'\n",
    "\n",
    "o = (e - 1) / (e + 1)\n",
    "o.label='o'\n",
    "o.backward()\n",
    "draw_dot(o)"
   ]
  },
  {
   "cell_type": "code",
   "execution_count": 101,
   "id": "93d58a2a-fb2e-4fe8-bc46-ca772fcd555d",
   "metadata": {},
   "outputs": [],
   "source": [
    "a = Value(2., label='a')\n",
    "b = a + a; b.label='b'\n",
    "\n",
    "b.backward()"
   ]
  },
  {
   "cell_type": "code",
   "execution_count": 102,
   "id": "c8616ea0-ee8a-45b2-86a2-f5ed11d2565a",
   "metadata": {},
   "outputs": [
    {
     "data": {
      "image/svg+xml": [
       "<?xml version=\"1.0\" encoding=\"UTF-8\" standalone=\"no\"?>\n",
       "<!DOCTYPE svg PUBLIC \"-//W3C//DTD SVG 1.1//EN\"\n",
       " \"http://www.w3.org/Graphics/SVG/1.1/DTD/svg11.dtd\">\n",
       "<!-- Generated by graphviz version 2.43.0 (0)\n",
       " -->\n",
       "<!-- Title: %3 Pages: 1 -->\n",
       "<svg width=\"597pt\" height=\"45pt\"\n",
       " viewBox=\"0.00 0.00 597.00 45.00\" xmlns=\"http://www.w3.org/2000/svg\" xmlns:xlink=\"http://www.w3.org/1999/xlink\">\n",
       "<g id=\"graph0\" class=\"graph\" transform=\"scale(1 1) rotate(0) translate(4 41)\">\n",
       "<title>%3</title>\n",
       "<polygon fill=\"white\" stroke=\"transparent\" points=\"-4,4 -4,-41 593,-41 593,4 -4,4\"/>\n",
       "<!-- 140274158747856 -->\n",
       "<g id=\"node1\" class=\"node\">\n",
       "<title>140274158747856</title>\n",
       "<polygon fill=\"none\" stroke=\"black\" points=\"357,-0.5 357,-36.5 589,-36.5 589,-0.5 357,-0.5\"/>\n",
       "<text text-anchor=\"middle\" x=\"370\" y=\"-14.8\" font-family=\"Times,serif\" font-size=\"14.00\">b</text>\n",
       "<polyline fill=\"none\" stroke=\"black\" points=\"383,-0.5 383,-36.5 \"/>\n",
       "<text text-anchor=\"middle\" x=\"434\" y=\"-14.8\" font-family=\"Times,serif\" font-size=\"14.00\">data 4.0000</text>\n",
       "<polyline fill=\"none\" stroke=\"black\" points=\"485,-0.5 485,-36.5 \"/>\n",
       "<text text-anchor=\"middle\" x=\"537\" y=\"-14.8\" font-family=\"Times,serif\" font-size=\"14.00\">grad 1.0000</text>\n",
       "</g>\n",
       "<!-- 140274158747856+ -->\n",
       "<g id=\"node2\" class=\"node\">\n",
       "<title>140274158747856+</title>\n",
       "<ellipse fill=\"none\" stroke=\"black\" cx=\"294\" cy=\"-18.5\" rx=\"27\" ry=\"18\"/>\n",
       "<text text-anchor=\"middle\" x=\"294\" y=\"-14.8\" font-family=\"Times,serif\" font-size=\"14.00\">+</text>\n",
       "</g>\n",
       "<!-- 140274158747856+&#45;&gt;140274158747856 -->\n",
       "<g id=\"edge1\" class=\"edge\">\n",
       "<title>140274158747856+&#45;&gt;140274158747856</title>\n",
       "<path fill=\"none\" stroke=\"black\" d=\"M321.12,-18.5C328.53,-18.5 337.14,-18.5 346.4,-18.5\"/>\n",
       "<polygon fill=\"black\" stroke=\"black\" points=\"346.69,-22 356.69,-18.5 346.69,-15 346.69,-22\"/>\n",
       "</g>\n",
       "<!-- 140274158755056 -->\n",
       "<g id=\"node3\" class=\"node\">\n",
       "<title>140274158755056</title>\n",
       "<polygon fill=\"none\" stroke=\"black\" points=\"0,-0.5 0,-36.5 231,-36.5 231,-0.5 0,-0.5\"/>\n",
       "<text text-anchor=\"middle\" x=\"12.5\" y=\"-14.8\" font-family=\"Times,serif\" font-size=\"14.00\">a</text>\n",
       "<polyline fill=\"none\" stroke=\"black\" points=\"25,-0.5 25,-36.5 \"/>\n",
       "<text text-anchor=\"middle\" x=\"76\" y=\"-14.8\" font-family=\"Times,serif\" font-size=\"14.00\">data 2.0000</text>\n",
       "<polyline fill=\"none\" stroke=\"black\" points=\"127,-0.5 127,-36.5 \"/>\n",
       "<text text-anchor=\"middle\" x=\"179\" y=\"-14.8\" font-family=\"Times,serif\" font-size=\"14.00\">grad 2.0000</text>\n",
       "</g>\n",
       "<!-- 140274158755056&#45;&gt;140274158747856+ -->\n",
       "<g id=\"edge2\" class=\"edge\">\n",
       "<title>140274158755056&#45;&gt;140274158747856+</title>\n",
       "<path fill=\"none\" stroke=\"black\" d=\"M231.27,-18.5C240.32,-18.5 248.97,-18.5 256.76,-18.5\"/>\n",
       "<polygon fill=\"black\" stroke=\"black\" points=\"256.84,-22 266.84,-18.5 256.84,-15 256.84,-22\"/>\n",
       "</g>\n",
       "</g>\n",
       "</svg>\n"
      ],
      "text/plain": [
       "<graphviz.graphs.Digraph at 0x7f941f6750f0>"
      ]
     },
     "execution_count": 102,
     "metadata": {},
     "output_type": "execute_result"
    }
   ],
   "source": [
    "draw_dot(b)"
   ]
  },
  {
   "cell_type": "code",
   "execution_count": null,
   "id": "d70a06d8-9f27-4d50-a511-2e59f3b04c20",
   "metadata": {},
   "outputs": [],
   "source": []
  },
  {
   "cell_type": "code",
   "execution_count": null,
   "id": "ef3db3af-c1a8-4d0e-ba20-257beb89449e",
   "metadata": {},
   "outputs": [],
   "source": []
  },
  {
   "cell_type": "code",
   "execution_count": null,
   "id": "8b4b4787-fbd2-43cf-b22a-c52f86df122e",
   "metadata": {},
   "outputs": [],
   "source": []
  },
  {
   "cell_type": "code",
   "execution_count": null,
   "id": "897be548-95df-4ca5-aac0-cbfd23313396",
   "metadata": {},
   "outputs": [],
   "source": []
  },
  {
   "cell_type": "code",
   "execution_count": 103,
   "id": "897d2b2e-3964-48c7-bc82-dda1ce8e719b",
   "metadata": {},
   "outputs": [],
   "source": [
    "import random"
   ]
  },
  {
   "cell_type": "code",
   "execution_count": 106,
   "id": "f779f216-fdd3-4efb-b2ca-f4d94c6398bf",
   "metadata": {},
   "outputs": [],
   "source": [
    "class Neruon: \n",
    "    def __init__(self, nin): \n",
    "        self.w = [Value(random.uniform(-1, 1)) for _ in range(nin)]\n",
    "        self.b = Value(random.uniform(-1, 1))\n",
    "\n",
    "    def __call__(self, x): \n",
    "        # w * x + b \n",
    "        # print(list(zip(self.w, x))) # zip 将两个迭代器链在一起返回一个迭代器\n",
    "        # act = sum((wi*xi for wi, xi in zip(self.w, x)), 0.0) + self.b # equals\n",
    "        act = sum((wi*xi for wi, xi in zip(self.w, x)), self.b) \n",
    "        out = act.tanh()\n",
    "        return out "
   ]
  },
  {
   "cell_type": "code",
   "execution_count": 116,
   "id": "f7054fb9-631b-478f-9a30-f1131f9e6129",
   "metadata": {},
   "outputs": [
    {
     "data": {
      "text/plain": [
       "Value(data=0.9929621909263763)"
      ]
     },
     "execution_count": 116,
     "metadata": {},
     "output_type": "execute_result"
    }
   ],
   "source": [
    "x = [-2, 3, 1]\n",
    "\n",
    "n = Neruon(3)\n",
    "n(x) # 这个会自动调用__call__方法,== n.__call__(x)"
   ]
  },
  {
   "cell_type": "code",
   "execution_count": null,
   "id": "6b51b975-2446-417b-8f8d-313e3afb0269",
   "metadata": {},
   "outputs": [],
   "source": []
  },
  {
   "cell_type": "code",
   "execution_count": 169,
   "id": "31d706e3-4f1e-47f3-b96f-ee51f80d3e9e",
   "metadata": {},
   "outputs": [],
   "source": [
    "class Neruon:\n",
    "    def __init__(self, nin): \n",
    "        self.w = [Value(random.uniform(-1, 1)) for _ in range(nin)]\n",
    "        self.b =  Value(random.uniform(-1, 1))\n",
    "        \n",
    "\n",
    "    def __call__(self, x): \n",
    "        act = sum((wi*xi for wi, xi in zip(self.w, x)), self.b)\n",
    "        out  = act.tanh()\n",
    "        return out \n",
    "\n",
    "    def parameters(self): \n",
    "        return self.w + [self.b]\n",
    "\n",
    "class Layer: \n",
    "    def __init__(self, nin, nout): \n",
    "        self.neruons = [Neruon(nin) for _ in range(nout)]\n",
    "\n",
    "    def __call__(self, x): \n",
    "        outs = [n(x) for n in self.neruons]\n",
    "        return outs[0] if len(outs)==1 else  outs\n",
    "\n",
    "    def parameters(self): \n",
    "        return [p for neruon in self.neruons for p in neruon.parameters()]\n",
    "        # params = []\n",
    "        # for neruon in self.neruons:\n",
    "        #     ps = neruon.parameters()\n",
    "        #     params.extend(ps) \n",
    "        # return params \n",
    "\n",
    "class MLP: \n",
    "    def __init__(self, nin, nouts):\n",
    "        # size , 列表拼接\n",
    "        sz = [nin] + nouts\n",
    "        self.layers = [Layer(sz[i], sz[i+1]) for i in range(len(nouts))]\n",
    "\n",
    "    def __call__(self, x): \n",
    "        for layer in self.layers: \n",
    "            x = layer(x)\n",
    "        return x \n",
    "\n",
    "    def parameters(self):\n",
    "        return [p for layer in self.layers for p in layer.parameters()]"
   ]
  },
  {
   "cell_type": "code",
   "execution_count": null,
   "id": "9a566b55-154d-48d9-8433-a9e92df75e5d",
   "metadata": {},
   "outputs": [],
   "source": []
  },
  {
   "cell_type": "code",
   "execution_count": null,
   "id": "00538eac-2bf5-43f8-a811-c6e36bcdb1f3",
   "metadata": {},
   "outputs": [],
   "source": []
  },
  {
   "cell_type": "code",
   "execution_count": 170,
   "id": "d1aaddf2-d7f7-4611-bea6-9b52ec0431f9",
   "metadata": {},
   "outputs": [
    {
     "data": {
      "text/plain": [
       "[Value(data=-0.6067110138702344),\n",
       " Value(data=0.987308121893249),\n",
       " Value(data=0.9964822146745979)]"
      ]
     },
     "execution_count": 170,
     "metadata": {},
     "output_type": "execute_result"
    }
   ],
   "source": [
    "x = [2.0, 3.0]\n",
    "n = Layer(2, 3)\n",
    "n(x)"
   ]
  },
  {
   "cell_type": "code",
   "execution_count": null,
   "id": "f39de61b-c5d5-4923-83f1-c7c736e381eb",
   "metadata": {},
   "outputs": [],
   "source": []
  },
  {
   "cell_type": "code",
   "execution_count": 171,
   "id": "48812c23-0f4e-4789-b199-4633307cd075",
   "metadata": {},
   "outputs": [
    {
     "data": {
      "text/plain": [
       "Value(data=-0.20996430182303608)"
      ]
     },
     "execution_count": 171,
     "metadata": {},
     "output_type": "execute_result"
    }
   ],
   "source": [
    "x = [2.0, 3.0, -1.0]\n",
    "n = MLP(3, [4, 4, 1])\n",
    "n(x)"
   ]
  },
  {
   "cell_type": "code",
   "execution_count": 173,
   "id": "38bcccec-040c-4ddc-8505-6460ac53ea74",
   "metadata": {},
   "outputs": [
    {
     "data": {
      "text/plain": [
       "([Value(data=0.6362826650657805),\n",
       "  Value(data=-0.16305784432768644),\n",
       "  Value(data=-0.5528425144588993),\n",
       "  Value(data=-0.10934744119035278),\n",
       "  Value(data=-0.5597712840073239),\n",
       "  Value(data=-0.4453243228393444),\n",
       "  Value(data=-0.8140167882433513),\n",
       "  Value(data=-0.24311350847221247),\n",
       "  Value(data=-0.34170078302529494),\n",
       "  Value(data=-0.9395914521474948),\n",
       "  Value(data=0.2236374785232098),\n",
       "  Value(data=0.18996947338396786),\n",
       "  Value(data=0.6534263596855456),\n",
       "  Value(data=-0.2413461024562833),\n",
       "  Value(data=-0.7989343869742702),\n",
       "  Value(data=0.9319013317208957),\n",
       "  Value(data=0.8028838322400729),\n",
       "  Value(data=-0.8124343707066815),\n",
       "  Value(data=0.44655960537434414),\n",
       "  Value(data=-0.9567586004074993),\n",
       "  Value(data=-0.03655713313087405),\n",
       "  Value(data=0.8617102804415004),\n",
       "  Value(data=0.16606341744858),\n",
       "  Value(data=0.5479525269863439),\n",
       "  Value(data=-0.4011748926407426),\n",
       "  Value(data=0.9682808381759609),\n",
       "  Value(data=0.2445257351072454),\n",
       "  Value(data=0.9846743642913016),\n",
       "  Value(data=-0.0736879967880335),\n",
       "  Value(data=-0.17856432425100643),\n",
       "  Value(data=0.046761082913138186),\n",
       "  Value(data=0.07617469136247235),\n",
       "  Value(data=-0.6885495214193382),\n",
       "  Value(data=-0.4317432221174131),\n",
       "  Value(data=-0.216118692965946),\n",
       "  Value(data=-0.35216789593806963),\n",
       "  Value(data=-0.9959954493824494),\n",
       "  Value(data=0.5374330468218786),\n",
       "  Value(data=0.9471895666783487),\n",
       "  Value(data=-0.5637232977460844),\n",
       "  Value(data=0.4525108082107012)],\n",
       " 41)"
      ]
     },
     "execution_count": 173,
     "metadata": {},
     "output_type": "execute_result"
    }
   ],
   "source": [
    "n.parameters(), len(n.parameters())"
   ]
  },
  {
   "cell_type": "code",
   "execution_count": null,
   "id": "5a633b94-2bbb-4652-bc20-b30261482d57",
   "metadata": {},
   "outputs": [],
   "source": [
    "draw_dot(n(x))"
   ]
  },
  {
   "cell_type": "code",
   "execution_count": null,
   "id": "115e9835-b84f-4e63-98da-187de47bfd6d",
   "metadata": {},
   "outputs": [],
   "source": []
  },
  {
   "cell_type": "code",
   "execution_count": null,
   "id": "c5a08cd9-327d-4111-9939-f8cea2cba063",
   "metadata": {},
   "outputs": [],
   "source": []
  },
  {
   "cell_type": "code",
   "execution_count": null,
   "id": "9dad7484-2f1b-4fe3-a675-85273ada41f4",
   "metadata": {},
   "outputs": [],
   "source": []
  },
  {
   "cell_type": "code",
   "execution_count": 174,
   "id": "37e396ea-3b97-4084-bc30-f51e8223601f",
   "metadata": {},
   "outputs": [
    {
     "data": {
      "text/plain": [
       "[Value(data=-0.20996430182303608),\n",
       " Value(data=-0.32501811039063405),\n",
       " Value(data=-0.3816316879673772),\n",
       " Value(data=0.6786694112959849)]"
      ]
     },
     "execution_count": 174,
     "metadata": {},
     "output_type": "execute_result"
    }
   ],
   "source": [
    "xs = [\n",
    "    [2.0, 3.0, -1.0],\n",
    "    [3.0, -1.0, 0.5],\n",
    "    [0.5, 1.0, 1.0],\n",
    "    [1.0, 1.0, -1.0], \n",
    "]\n",
    "\n",
    "ys = [1.0, -1.0, -1.0, 1.0] # desired targets\n",
    "\n",
    "ypred = [n(x) for x in xs]\n",
    "ypred"
   ]
  },
  {
   "cell_type": "code",
   "execution_count": 175,
   "id": "80b17041-5504-43f4-84a6-4198f34b7877",
   "metadata": {},
   "outputs": [
    {
     "data": {
      "text/plain": [
       "[Value(data=1.4640136116861073),\n",
       " Value(data=0.4556005513006304),\n",
       " Value(data=0.38237936932607525),\n",
       " Value(data=0.10325334723686891)]"
      ]
     },
     "execution_count": 175,
     "metadata": {},
     "output_type": "execute_result"
    }
   ],
   "source": [
    "# y ground truth, y output \n",
    "# 为什么这里就要Value(ygt) , 而不是直接ygt\n",
    "[(Value(ygt) - yout)**2 for ygt, yout in zip(ys, ypred)]\n"
   ]
  },
  {
   "cell_type": "markdown",
   "id": "1760b6b1-4af8-4bc9-aef3-0af64292d5b6",
   "metadata": {},
   "source": [
    "```\n",
    "TypeError                                 Traceback (most recent call last)\n",
    "Cell In[148], line 1\n",
    "----> 1 loss = [(ygt - yout)**2 for ygt, yout in zip(ys, ypred)]\n",
    "\n",
    "Cell In[148], line 1, in <listcomp>(.0)\n",
    "----> 1 loss = [(ygt - yout)**2 for ygt, yout in zip(ys, ypred)]\n",
    "\n",
    "TypeError: unsupported operand type(s) for -: 'float' and 'Value'\n",
    "```"
   ]
  },
  {
   "cell_type": "code",
   "execution_count": 176,
   "id": "18d42a36-7c4c-49ed-9878-d27809ecaca1",
   "metadata": {},
   "outputs": [
    {
     "data": {
      "text/plain": [
       "Value(data=2.405246879549682)"
      ]
     },
     "execution_count": 176,
     "metadata": {},
     "output_type": "execute_result"
    }
   ],
   "source": [
    "loss = sum([(Value(ygt) - yout)**2 for ygt, yout in zip(ys, ypred)])\n",
    "loss "
   ]
  },
  {
   "cell_type": "code",
   "execution_count": 177,
   "id": "e7d540d9-27a9-4603-ba3e-42da3e540a5d",
   "metadata": {},
   "outputs": [],
   "source": [
    "loss.backward()"
   ]
  },
  {
   "cell_type": "code",
   "execution_count": 178,
   "id": "d7e1dbe0-364f-47ab-ba9c-ff6a4d4997ef",
   "metadata": {},
   "outputs": [
    {
     "data": {
      "text/plain": [
       "<__main__.Neruon at 0x7f941d2c0ac0>"
      ]
     },
     "execution_count": 178,
     "metadata": {},
     "output_type": "execute_result"
    }
   ],
   "source": [
    "n.layers[0].neruons[0]  "
   ]
  },
  {
   "cell_type": "code",
   "execution_count": 179,
   "id": "b2b14f3b-91df-4e2b-9245-a8f955db8403",
   "metadata": {},
   "outputs": [
    {
     "data": {
      "text/plain": [
       "Value(data=0.6362826650657805)"
      ]
     },
     "execution_count": 179,
     "metadata": {},
     "output_type": "execute_result"
    }
   ],
   "source": [
    "n.layers[0].neruons[0].w[0]"
   ]
  },
  {
   "cell_type": "code",
   "execution_count": 180,
   "id": "4f650cb5-5ff3-4945-b3d8-dd6de47b0c9e",
   "metadata": {},
   "outputs": [
    {
     "data": {
      "text/plain": [
       "0.25110400857283216"
      ]
     },
     "execution_count": 180,
     "metadata": {},
     "output_type": "execute_result"
    }
   ],
   "source": [
    "n.layers[0].neruons[0].w[0].grad"
   ]
  },
  {
   "cell_type": "code",
   "execution_count": 181,
   "id": "1256187b-b7e7-4f8b-8c8d-d330d7cfd726",
   "metadata": {},
   "outputs": [
    {
     "data": {
      "text/plain": [
       "0.6362826650657805"
      ]
     },
     "execution_count": 181,
     "metadata": {},
     "output_type": "execute_result"
    }
   ],
   "source": [
    " n.layers[0].neruons[0].w[0].data # 根据上面的梯度(0.25)应该减小这个值"
   ]
  },
  {
   "cell_type": "code",
   "execution_count": 183,
   "id": "3a9006e6-108c-403e-96ea-359befa7d4c7",
   "metadata": {},
   "outputs": [],
   "source": [
    " # n.parameters()"
   ]
  },
  {
   "cell_type": "code",
   "execution_count": 190,
   "id": "3eaed326-1770-48f7-a8e5-a733c3178cef",
   "metadata": {},
   "outputs": [],
   "source": [
    "for p in n.parameters(): \n",
    "    p.data += -0.01 * p.grad"
   ]
  },
  {
   "cell_type": "code",
   "execution_count": 191,
   "id": "1973d2ae-81ec-4da3-a8b4-bcf52bd0b834",
   "metadata": {},
   "outputs": [
    {
     "data": {
      "text/plain": [
       "0.25110400857283216"
      ]
     },
     "execution_count": 191,
     "metadata": {},
     "output_type": "execute_result"
    }
   ],
   "source": [
    "n.layers[0].neruons[0].w[0].grad "
   ]
  },
  {
   "cell_type": "code",
   "execution_count": 192,
   "id": "11cc362a-02a8-4da7-8ee2-3540bd8427ae",
   "metadata": {},
   "outputs": [
    {
     "data": {
      "text/plain": [
       "0.6337716249800521"
      ]
     },
     "execution_count": 192,
     "metadata": {},
     "output_type": "execute_result"
    }
   ],
   "source": [
    "n.layers[0].neruons[0].w[0].data"
   ]
  },
  {
   "cell_type": "code",
   "execution_count": null,
   "id": "09a1fd92-c164-4f8d-bcad-3030562ad04a",
   "metadata": {},
   "outputs": [],
   "source": []
  },
  {
   "cell_type": "code",
   "execution_count": null,
   "id": "596ccc31-4a3b-4fac-9b32-53cbd30c8880",
   "metadata": {},
   "outputs": [],
   "source": []
  },
  {
   "cell_type": "code",
   "execution_count": null,
   "id": "54db11fa-8d94-4da1-97be-3dde2b76fe16",
   "metadata": {},
   "outputs": [],
   "source": []
  },
  {
   "cell_type": "code",
   "execution_count": 215,
   "id": "dd742d43-ef86-4752-baa4-b53ebd5ad33d",
   "metadata": {},
   "outputs": [
    {
     "data": {
      "text/plain": [
       "Value(data=0.6506958397786515)"
      ]
     },
     "execution_count": 215,
     "metadata": {},
     "output_type": "execute_result"
    }
   ],
   "source": [
    "# 从头开始, 这个完整的流程\n",
    "# 共三层, [4, 4, 1]\n",
    "n = MLP(3, [4, 4, 1])\n",
    "n(x)"
   ]
  },
  {
   "cell_type": "code",
   "execution_count": 216,
   "id": "70448db9-b052-4ba1-aa15-2c9f1d2deeb3",
   "metadata": {},
   "outputs": [],
   "source": [
    "xs = [\n",
    "    [2.0, 3.0, -1.0],\n",
    "    [3.0, -1.0, 0.5],\n",
    "    [0.5, 1.0, 1.0],\n",
    "    [1.0, 1.0, -1.0], \n",
    "    [2.0, -1.0, -1.0], \n",
    "]\n",
    "\n",
    "ys = [1.0, -1.0, -1.0, 1.0, 1.0] # desired targets"
   ]
  },
  {
   "cell_type": "code",
   "execution_count": 217,
   "id": "0f0a264f-78d9-4d15-8c0e-89fba29f0d86",
   "metadata": {},
   "outputs": [
    {
     "name": "stdout",
     "output_type": "stream",
     "text": [
      "0 5.304735221992904\n",
      "1 4.13969406234457\n",
      "2 2.7427326195692037\n",
      "3 1.6046868087301878\n",
      "4 0.8873092254138464\n",
      "5 0.45395045598203754\n",
      "6 0.26548981331621996\n",
      "7 0.1796096057777241\n",
      "8 0.13844134280837916\n",
      "9 0.11272408369152617\n",
      "10 0.09510672376040857\n",
      "11 0.08227869766479048\n",
      "12 0.07251608998352184\n",
      "13 0.06483401355283991\n",
      "14 0.05862913231581062\n",
      "15 0.05351119158996995\n",
      "16 0.049216533047917385\n",
      "17 0.045560569145574076\n",
      "18 0.04241017781685833\n",
      "19 0.03966691291539691\n"
     ]
    }
   ],
   "source": [
    "for k in range(20): \n",
    "    # forward pass \n",
    "    ypred = [n(x) for x in xs ]\n",
    "    loss = sum((yout - ygt)**2 for ygt, yout in zip(ys, ypred)) \n",
    "\n",
    "    # backward \n",
    "    # 为什么要置为0 ? 置为0 之后下降的更加缓慢\n",
    "    # 我知道了, 因为每次面对的都是更新过的parameters, 所以不可以累积之前的作为使用\n",
    "    for p in n.parameters(): \n",
    "        p.grad = 0.0 \n",
    "    loss.backward() \n",
    "    \n",
    "    # update \n",
    "    for p in n.parameters(): \n",
    "        p.data += -0.05 * p.grad \n",
    "\n",
    "    print(k, loss.data)"
   ]
  },
  {
   "cell_type": "code",
   "execution_count": 218,
   "id": "850938ea-c726-47fa-a1dd-c3a9fdc1f488",
   "metadata": {},
   "outputs": [
    {
     "data": {
      "text/plain": [
       "[Value(data=0.9522826616789152),\n",
       " Value(data=-0.8750315627113374),\n",
       " Value(data=-0.8936595262228773),\n",
       " Value(data=0.9616780659263039),\n",
       " Value(data=0.9051528006407885)]"
      ]
     },
     "execution_count": 218,
     "metadata": {},
     "output_type": "execute_result"
    }
   ],
   "source": [
    "ypred"
   ]
  },
  {
   "cell_type": "code",
   "execution_count": null,
   "id": "3222f729-cea0-4035-b5cb-dbf0169de559",
   "metadata": {},
   "outputs": [],
   "source": []
  },
  {
   "cell_type": "code",
   "execution_count": null,
   "id": "3363f8a1-0725-4688-9634-087916948bd7",
   "metadata": {},
   "outputs": [],
   "source": []
  },
  {
   "cell_type": "code",
   "execution_count": null,
   "id": "fbd4b809-5cd7-4b97-9ef8-9ec7e2992731",
   "metadata": {},
   "outputs": [],
   "source": []
  },
  {
   "cell_type": "code",
   "execution_count": null,
   "id": "b9e5fbc3-52e8-4327-8389-31d63ea47323",
   "metadata": {},
   "outputs": [],
   "source": []
  }
 ],
 "metadata": {
  "kernelspec": {
   "display_name": "torch_viz",
   "language": "python",
   "name": "torch_viz"
  },
  "language_info": {
   "codemirror_mode": {
    "name": "ipython",
    "version": 3
   },
   "file_extension": ".py",
   "mimetype": "text/x-python",
   "name": "python",
   "nbconvert_exporter": "python",
   "pygments_lexer": "ipython3",
   "version": "3.10.14"
  }
 },
 "nbformat": 4,
 "nbformat_minor": 5
}
